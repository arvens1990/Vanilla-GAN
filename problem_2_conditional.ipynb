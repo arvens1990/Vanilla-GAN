{
  "nbformat": 4,
  "nbformat_minor": 0,
  "metadata": {
    "colab": {
      "name": "problem_2.ipynb",
      "provenance": []
    },
    "kernelspec": {
      "name": "python382jvsc74a57bd0a94883f8812057f41bf7c0f7649a41127778eaf25b6b91e0966940eb42cb8f65",
      "display_name": "Python 3.8.2 64-bit ('HW3': virtualenvwrapper)"
    },
    "language_info": {
      "name": "python",
      "version": "3.8.2"
    },
    "accelerator": "GPU",
    "metadata": {
      "interpreter": {
        "hash": "a94883f8812057f41bf7c0f7649a41127778eaf25b6b91e0966940eb42cb8f65"
      }
    }
  },
  "cells": [
    {
      "cell_type": "code",
      "metadata": {
        "colab": {
          "base_uri": "https://localhost:8080/"
        },
        "id": "1t3QWTo82IWJ",
        "outputId": "e51e49f4-2dca-4226-9d3a-5a5e9b8b2fd8"
      },
      "source": [
        "# from google.colab import drive\n",
        "# drive.mount('/content/drive')"
      ],
      "execution_count": 24,
      "outputs": []
    },
    {
      "cell_type": "code",
      "metadata": {
        "id": "NxMVkEcI2k4u"
      },
      "source": [
        "import numpy as np\n",
        "import pandas as pd\n",
        "import torch\n",
        "import torchvision as tv\n",
        "import re\n",
        "import time\n",
        "from torch.utils.data import DataLoader, TensorDataset\n",
        "from torch.nn import Module, GRU, Embedding, Linear, Sigmoid, CrossEntropyLoss, ReLU, Tanh, Sequential\n",
        "from torch import nn\n",
        "from torchvision import transforms\n",
        "import torch.optim as optim\n",
        "from torchvision.utils import make_grid, save_image\n",
        "from tqdm import tqdm\n",
        "import torch\n",
        "import torch.nn as nn\n",
        "import torchvision.transforms as transforms\n",
        "import torch.optim as optim\n",
        "import torchvision.datasets as datasets\n",
        "import imageio\n",
        "import numpy as np\n",
        "import matplotlib\n",
        "from torchvision.utils import make_grid, save_image\n",
        "from torch.utils.data import DataLoader\n",
        "from matplotlib import pyplot as plt\n",
        "from tqdm import tqdm\n",
        "matplotlib.style.use('ggplot')"
      ],
      "execution_count": 1,
      "outputs": []
    },
    {
      "cell_type": "code",
      "metadata": {
        "id": "gGIf8C6GB7-5"
      },
      "source": [
        "# learning parameters\n",
        "batch_size = 512\n",
        "epochs = 200\n",
        "sample_size = 100 # fixed sample size\n",
        "nz = 128 # latent vector size\n",
        "k = 1 # number of steps to apply to the discriminator\n",
        "device = torch.device('cuda' if torch.cuda.is_available() else 'cpu')"
      ],
      "execution_count": 26,
      "outputs": []
    },
    {
      "cell_type": "code",
      "metadata": {
        "id": "5ldDzsOLBPMJ"
      },
      "source": [
        "transform = transforms.Compose([\n",
        "                                transforms.ToTensor(),\n",
        "                                transforms.Normalize((0.5,),(0.5,)),\n",
        "])\n",
        "to_pil_image = transforms.ToPILImage()"
      ],
      "execution_count": 27,
      "outputs": []
    },
    {
      "cell_type": "code",
      "metadata": {
        "id": "KmNXt6n12wRu"
      },
      "source": [
        "fmnist = datasets.FashionMNIST(root='./', train=True, download=True, transform=transform)\n",
        "data_loader = DataLoader(fmnist, batch_size=batch_size, shuffle=True)"
      ],
      "execution_count": 28,
      "outputs": []
    },
    {
      "cell_type": "code",
      "metadata": {
        "id": "peaMJAPx4ss5"
      },
      "source": [
        "class Generator(Module):\n",
        "    def __init__(self, nz):\n",
        "        super(Generator, self).__init__()\n",
        "        self.nz = nz\n",
        "        self.main = Sequential(\n",
        "            Linear(self.nz + 10, 256),\n",
        "            ReLU(),\n",
        "\n",
        "            Linear(256, 512),\n",
        "            ReLU(),\n",
        "\n",
        "            Linear(512, 784),\n",
        "            Tanh(),\n",
        "        )\n",
        "\n",
        "    def forward(self, x, k):\n",
        "        x = torch.cat((x, k), dim=1)\n",
        "        # print(x)\n",
        "        return self.main(x).view(-1, 1, 28, 28)\n"
      ],
      "execution_count": 2,
      "outputs": []
    },
    {
      "cell_type": "code",
      "metadata": {
        "id": "1oJcazUH8iDS"
      },
      "source": [
        "class Discriminator(Module):\n",
        "    def __init__(self):\n",
        "        super(Discriminator, self).__init__()\n",
        "        self.n_input = 784\n",
        "        self.main = Sequential(\n",
        "            Linear(self.n_input + 10, 1024),\n",
        "            ReLU(),\n",
        "            Linear(1024, 512),\n",
        "            ReLU(),\n",
        "            Linear(512, 1),\n",
        "            nn.Sigmoid()\n",
        "        )\n",
        "    def forward(self, x, k):\n",
        "        x = x.view(-1, 784)\n",
        "        x = torch.cat((x, k), dim=1)\n",
        "        return self.main(x)"
      ],
      "execution_count": 30,
      "outputs": []
    },
    {
      "cell_type": "markdown",
      "metadata": {
        "id": "7adj8WbJ9qpH"
      },
      "source": [
        "Initialize the Neural Networks and Define the Optimizers"
      ]
    },
    {
      "cell_type": "code",
      "metadata": {
        "colab": {
          "base_uri": "https://localhost:8080/"
        },
        "id": "p51ZeaQa9Vge",
        "outputId": "c2729b8e-2058-477d-b3e6-3f1a52ce2927"
      },
      "source": [
        "\n",
        "\n",
        "generator = Generator(nz).to(device)\n",
        "discriminator = Discriminator().to(device)\n",
        "print('##### GENERATOR #####')\n",
        "print(generator)\n",
        "print('######################')\n",
        "print('\\n##### DISCRIMINATOR #####')\n",
        "print(discriminator)\n",
        "print('######################')"
      ],
      "execution_count": 31,
      "outputs": [
        {
          "output_type": "stream",
          "name": "stdout",
          "text": [
            "##### GENERATOR #####\nGenerator(\n  (main): Sequential(\n    (0): Linear(in_features=138, out_features=256, bias=True)\n    (1): ReLU()\n    (2): Linear(in_features=256, out_features=512, bias=True)\n    (3): ReLU()\n    (4): Linear(in_features=512, out_features=784, bias=True)\n    (5): Tanh()\n  )\n)\n######################\n\n##### DISCRIMINATOR #####\nDiscriminator(\n  (main): Sequential(\n    (0): Linear(in_features=794, out_features=1024, bias=True)\n    (1): ReLU()\n    (2): Linear(in_features=1024, out_features=512, bias=True)\n    (3): ReLU()\n    (4): Linear(in_features=512, out_features=1, bias=True)\n    (5): Sigmoid()\n  )\n)\n######################\n"
          ]
        }
      ]
    },
    {
      "cell_type": "code",
      "metadata": {
        "id": "ZKlcQe_n-bHR"
      },
      "source": [
        "# optimizers\n",
        "\n",
        "optim_g = optim.Adam(generator.parameters(), lr=0.0002)\n",
        "optim_d = optim.Adam(discriminator.parameters(), lr=0.0002)"
      ],
      "execution_count": 32,
      "outputs": []
    },
    {
      "cell_type": "code",
      "metadata": {
        "id": "rPNn0bai-r8-"
      },
      "source": [
        "# loss function\n",
        "criterion = nn.BCELoss()\n"
      ],
      "execution_count": 33,
      "outputs": []
    },
    {
      "cell_type": "code",
      "metadata": {
        "id": "mQJ7sr__-yEb"
      },
      "source": [
        "losses_g = [] # to store generator loss after each epoch\n",
        "losses_d = [] # to store discriminator loss after each epoch\n",
        "images = [] # to store images generatd by the generator"
      ],
      "execution_count": 34,
      "outputs": []
    },
    {
      "cell_type": "code",
      "metadata": {
        "id": "g5L3H3nt_Pny"
      },
      "source": [
        "# to create real labels (1s)\n",
        "def label_real(size):\n",
        "    data = torch.ones(size, 1)\n",
        "    return data.to(device)\n",
        "# to create fake labels (0s)\n",
        "def label_fake(size):\n",
        "    data = torch.zeros(size, 1)\n",
        "    return data.to(device)"
      ],
      "execution_count": 35,
      "outputs": []
    },
    {
      "cell_type": "code",
      "metadata": {
        "id": "n0BoEe0__VJf"
      },
      "source": [
        "def create_noise(sample_size, nz):\n",
        "    return torch.randn(sample_size, nz).to(device)"
      ],
      "execution_count": 36,
      "outputs": []
    },
    {
      "cell_type": "code",
      "metadata": {
        "id": "Xu4X0hef_ZV-"
      },
      "source": [
        "# to save the images generated by the generator\n",
        "def save_generator_image(image, path):\n",
        "    save_image(image, path)"
      ],
      "execution_count": 37,
      "outputs": []
    },
    {
      "cell_type": "code",
      "metadata": {
        "id": "f2Qqdkv4_qXO"
      },
      "source": [
        "# function to train the discriminator network\n",
        "def train_discriminator(optimizer, data_real, data_fake, onehot):\n",
        "    b_size = data_real.size(0)\n",
        "    real_label = label_real(b_size)\n",
        "    fake_label = label_fake(b_size)\n",
        "    optimizer.zero_grad()\n",
        "    output_real = discriminator(data_real, onehot)\n",
        "    loss_real = criterion(output_real, real_label)\n",
        "    output_fake = discriminator(data_fake, onehot)\n",
        "    loss_fake = criterion(output_fake, fake_label)\n",
        "    loss_real.backward()\n",
        "    loss_fake.backward()\n",
        "    optimizer.step()\n",
        "    return loss_real + loss_fake"
      ],
      "execution_count": 38,
      "outputs": []
    },
    {
      "cell_type": "code",
      "metadata": {
        "id": "ANvhtzh1_3eu"
      },
      "source": [
        "# function to train the generator network\n",
        "def train_generator(optimizer, data_fake, onehot):\n",
        "    b_size = data_fake.size(0)\n",
        "    real_label = label_real(b_size)\n",
        "    optimizer.zero_grad()\n",
        "    output = discriminator(data_fake, onehot)\n",
        "    loss = criterion(output, real_label)\n",
        "    loss.backward()\n",
        "    optimizer.step()\n",
        "    return loss"
      ],
      "execution_count": 39,
      "outputs": []
    },
    {
      "cell_type": "code",
      "metadata": {
        "colab": {
          "base_uri": "https://localhost:8080/"
        },
        "id": "tT0w5o2-_5k3",
        "outputId": "3f7776af-9747-4ca4-ad21-4ba8e91758b2"
      },
      "source": [
        "# create the noise vector\n",
        "noise = create_noise(sample_size, nz)\n",
        "onehot_out = np.array([[1 if j % 10 == i else 0 for i in range(10)] for j in range(sample_size)])\n",
        "onehot_out = torch.from_numpy(onehot_out)\n",
        "generator.train()\n",
        "discriminator.train()"
      ],
      "execution_count": 40,
      "outputs": [
        {
          "output_type": "execute_result",
          "data": {
            "text/plain": [
              "Discriminator(\n",
              "  (main): Sequential(\n",
              "    (0): Linear(in_features=794, out_features=1024, bias=True)\n",
              "    (1): ReLU()\n",
              "    (2): Linear(in_features=1024, out_features=512, bias=True)\n",
              "    (3): ReLU()\n",
              "    (4): Linear(in_features=512, out_features=1, bias=True)\n",
              "    (5): Sigmoid()\n",
              "  )\n",
              ")"
            ]
          },
          "metadata": {},
          "execution_count": 40
        }
      ]
    },
    {
      "cell_type": "code",
      "metadata": {
        "colab": {
          "base_uri": "https://localhost:8080/"
        },
        "id": "kc2K7_CUAULN",
        "outputId": "79febb0a-eff2-4cf1-dde1-1ce235541231",
        "tags": [
          "outputPrepend"
        ]
      },
      "source": [
        "# path = \"/content/drive/MyDrive/Deep_Learning/HW3/\"\n",
        "path = \"./models/conditional/\"\n",
        "epochs = 200\n",
        "# k = 10\n",
        "length = 0.\n",
        "\n",
        "losses_g = [] # to store generator loss after each epoch\n",
        "losses_d = [] # to store discriminator loss after each epoch\n",
        "images = [] # to store images generatd by the generator\n",
        "\n",
        "for epoch in range(epochs):\n",
        "    start = time.time()\n",
        "    loss_g = 0.0\n",
        "    loss_d = 0.0\n",
        "    for bi, data in enumerate(data_loader):\n",
        "        image, labels = data\n",
        "        image = image.to(device)\n",
        "        onehot = torch.zeros((labels.size(0), labels.max() + 1))\n",
        "        onehot[np.arange(labels.size(0)), labels] = 1\n",
        "        \n",
        "        # print(image.shape, onehot.shape)\n",
        "        # print(torch.cat())\n",
        "\n",
        "        b_size = len(image)\n",
        "        # run the discriminator for k number of steps\n",
        "        for step in range(k):\n",
        "            # print(create_noise(b_size, nz).shape)\n",
        "            data_fake = generator(create_noise(b_size, nz), onehot).detach()\n",
        "            data_real = image\n",
        "            # train the discriminator network\n",
        "            loss_d += train_discriminator(optim_d, data_real, data_fake, onehot)\n",
        "        data_fake = generator(create_noise(b_size, nz), onehot)\n",
        "        # train the generator network\n",
        "        loss_g += train_generator(optim_g, data_fake, onehot)\n",
        "    # create the final fake image for the epoch\n",
        "    generated_img = generator(noise, onehot_out).cpu().detach()\n",
        "    # make the images as grid\n",
        "    generated_img = make_grid(generated_img, nrow = 10)\n",
        "    # save the generated torch tensor models to disk\n",
        "    save_generator_image(generated_img, path + f\"gen_img{epoch}.png\")\n",
        "    images.append(generated_img)\n",
        "    epoch_loss_g = loss_g / bi # total generator loss for the epoch\n",
        "    epoch_loss_d = loss_d / bi # total discriminator loss for the epoch\n",
        "    losses_g.append(epoch_loss_g)\n",
        "    losses_d.append(epoch_loss_d)\n",
        "    end = time.time() - start\n",
        "    length += end\n",
        "    mean_so_far = length / (epoch+1)\n",
        "    time_left = (mean_so_far * (epochs - epoch - 1))/60\n",
        "    \n",
        "    print(f\"Epoch {epoch} of {epochs}:\\t\\t{end:.2f} seconds;\\ttotal: {length:.2f};\\tminutes left: {time_left:.2f}\")\n",
        "    print(f\"Generator loss: {epoch_loss_g:.8f}, Discriminator loss: {epoch_loss_d:.8f}\")"
      ],
      "execution_count": 41,
      "outputs": [
        {
          "output_type": "stream",
          "name": "stderr",
          "text": [
            "iminator loss: 0.25199044\n",
            "118it [00:29,  4.06it/s]                         \n",
            "  0%|          | 0/117 [00:00<?, ?it/s]Epoch 108 of 200:\t\t29.07 seconds;\ttotal: 4076.03;\tminutes left: 56.72\n",
            "Generator loss: 4.59170628, Discriminator loss: 0.22399531\n",
            "118it [00:27,  4.25it/s]                         \n",
            "  0%|          | 0/117 [00:00<?, ?it/s]Epoch 109 of 200:\t\t27.79 seconds;\ttotal: 4103.82;\tminutes left: 55.96\n",
            "Generator loss: 5.47893906, Discriminator loss: 0.22965343\n",
            "118it [00:26,  4.51it/s]                         \n",
            "  0%|          | 0/117 [00:00<?, ?it/s]Epoch 110 of 200:\t\t26.16 seconds;\ttotal: 4129.98;\tminutes left: 55.19\n",
            "Generator loss: 5.57718039, Discriminator loss: 0.24523924\n",
            "118it [00:26,  4.39it/s]                         \n",
            "  0%|          | 0/117 [00:00<?, ?it/s]Epoch 111 of 200:\t\t26.92 seconds;\ttotal: 4156.90;\tminutes left: 54.44\n",
            "Generator loss: 5.08910036, Discriminator loss: 0.27527988\n",
            "118it [00:29,  3.94it/s]                         \n",
            "  0%|          | 0/117 [00:00<?, ?it/s]Epoch 112 of 200:\t\t29.96 seconds;\ttotal: 4186.85;\tminutes left: 53.73\n",
            "Generator loss: 5.23894310, Discriminator loss: 0.30762821\n",
            "118it [00:29,  3.96it/s]                         \n",
            "  0%|          | 0/117 [00:00<?, ?it/s]Epoch 113 of 200:\t\t29.79 seconds;\ttotal: 4216.64;\tminutes left: 53.02\n",
            "Generator loss: 4.97665691, Discriminator loss: 0.32863075\n",
            "118it [00:30,  3.93it/s]                         \n",
            "  0%|          | 0/117 [00:00<?, ?it/s]Epoch 114 of 200:\t\t30.06 seconds;\ttotal: 4246.70;\tminutes left: 52.31\n",
            "Generator loss: 5.02821970, Discriminator loss: 0.25673375\n",
            "118it [00:30,  3.93it/s]                         \n",
            "  0%|          | 0/117 [00:00<?, ?it/s]Epoch 115 of 200:\t\t30.03 seconds;\ttotal: 4276.73;\tminutes left: 51.62\n",
            "Generator loss: 5.11204576, Discriminator loss: 0.26313561\n",
            "118it [00:29,  3.95it/s]                         \n",
            "  0%|          | 0/117 [00:00<?, ?it/s]Epoch 116 of 200:\t\t29.90 seconds;\ttotal: 4306.63;\tminutes left: 50.92\n",
            "Generator loss: 5.59354782, Discriminator loss: 0.33800533\n",
            "118it [00:29,  3.95it/s]                         \n",
            "  0%|          | 0/117 [00:00<?, ?it/s]Epoch 117 of 200:\t\t29.89 seconds;\ttotal: 4336.52;\tminutes left: 50.23\n",
            "Generator loss: 5.34612894, Discriminator loss: 0.30644605\n",
            "118it [00:29,  3.98it/s]                         \n",
            "  0%|          | 0/117 [00:00<?, ?it/s]Epoch 118 of 200:\t\t29.65 seconds;\ttotal: 4366.17;\tminutes left: 49.53\n",
            "Generator loss: 4.77536106, Discriminator loss: 0.31466740\n",
            "118it [00:30,  3.92it/s]                         \n",
            "  0%|          | 0/117 [00:00<?, ?it/s]Epoch 119 of 200:\t\t30.12 seconds;\ttotal: 4396.30;\tminutes left: 48.85\n",
            "Generator loss: 5.23274899, Discriminator loss: 0.29805747\n",
            "118it [00:30,  3.90it/s]                         \n",
            "  0%|          | 0/117 [00:00<?, ?it/s]Epoch 120 of 200:\t\t30.31 seconds;\ttotal: 4426.61;\tminutes left: 48.17\n",
            "Generator loss: 4.88064480, Discriminator loss: 0.31209779\n",
            "118it [00:30,  3.89it/s]                         \n",
            "  0%|          | 0/117 [00:00<?, ?it/s]Epoch 121 of 200:\t\t30.35 seconds;\ttotal: 4456.95;\tminutes left: 47.49\n",
            "Generator loss: 4.62039471, Discriminator loss: 0.26927033\n",
            "118it [00:30,  3.86it/s]                         \n",
            "  0%|          | 0/117 [00:00<?, ?it/s]Epoch 122 of 200:\t\t30.60 seconds;\ttotal: 4487.55;\tminutes left: 46.82\n",
            "Generator loss: 4.86888361, Discriminator loss: 0.25221002\n",
            "118it [00:30,  3.86it/s]                         \n",
            "  0%|          | 0/117 [00:00<?, ?it/s]Epoch 123 of 200:\t\t30.57 seconds;\ttotal: 4518.12;\tminutes left: 46.15\n",
            "Generator loss: 5.49213886, Discriminator loss: 0.28947595\n",
            "118it [00:29,  3.94it/s]                         \n",
            "  0%|          | 0/117 [00:00<?, ?it/s]Epoch 124 of 200:\t\t30.01 seconds;\ttotal: 4548.13;\tminutes left: 45.48\n",
            "Generator loss: 5.25299692, Discriminator loss: 0.27093187\n",
            "118it [00:29,  3.95it/s]                         \n",
            "  0%|          | 0/117 [00:00<?, ?it/s]Epoch 125 of 200:\t\t29.89 seconds;\ttotal: 4578.02;\tminutes left: 44.81\n",
            "Generator loss: 5.44343948, Discriminator loss: 0.31429601\n",
            "118it [00:29,  3.98it/s]                         \n",
            "  0%|          | 0/117 [00:00<?, ?it/s]Epoch 126 of 200:\t\t29.64 seconds;\ttotal: 4607.66;\tminutes left: 44.14\n",
            "Generator loss: 5.11384964, Discriminator loss: 0.25870675\n",
            "118it [00:29,  4.00it/s]                         \n",
            "  0%|          | 0/117 [00:00<?, ?it/s]Epoch 127 of 200:\t\t29.53 seconds;\ttotal: 4637.18;\tminutes left: 43.47\n",
            "Generator loss: 4.73006153, Discriminator loss: 0.22261821\n",
            "118it [00:30,  3.90it/s]                         \n",
            "  0%|          | 0/117 [00:00<?, ?it/s]Epoch 128 of 200:\t\t30.27 seconds;\ttotal: 4667.45;\tminutes left: 42.82\n",
            "Generator loss: 5.55015087, Discriminator loss: 0.31573960\n",
            "118it [00:31,  3.76it/s]                         \n",
            "  0%|          | 0/117 [00:00<?, ?it/s]Epoch 129 of 200:\t\t31.39 seconds;\ttotal: 4698.84;\tminutes left: 42.17\n",
            "Generator loss: 4.59613609, Discriminator loss: 0.29937088\n",
            "118it [00:30,  3.83it/s]                         \n",
            "  0%|          | 0/117 [00:00<?, ?it/s]Epoch 130 of 200:\t\t30.79 seconds;\ttotal: 4729.64;\tminutes left: 41.52\n",
            "Generator loss: 4.62872171, Discriminator loss: 0.27873999\n",
            "118it [00:30,  3.88it/s]                         \n",
            "  0%|          | 0/117 [00:00<?, ?it/s]Epoch 131 of 200:\t\t30.43 seconds;\ttotal: 4760.06;\tminutes left: 40.87\n",
            "Generator loss: 5.07015038, Discriminator loss: 0.32426003\n",
            "118it [00:31,  3.75it/s]                         \n",
            "  0%|          | 0/117 [00:00<?, ?it/s]Epoch 132 of 200:\t\t31.47 seconds;\ttotal: 4791.54;\tminutes left: 40.23\n",
            "Generator loss: 4.18669415, Discriminator loss: 0.26208106\n",
            "118it [00:31,  3.74it/s]                         \n",
            "  0%|          | 0/117 [00:00<?, ?it/s]Epoch 133 of 200:\t\t31.56 seconds;\ttotal: 4823.09;\tminutes left: 39.59\n",
            "Generator loss: 4.86493063, Discriminator loss: 0.34556106\n",
            "118it [00:32,  3.58it/s]                         \n",
            "  0%|          | 0/117 [00:00<?, ?it/s]Epoch 134 of 200:\t\t33.02 seconds;\ttotal: 4856.11;\tminutes left: 38.97\n",
            "Generator loss: 5.10064745, Discriminator loss: 0.34425029\n",
            "118it [00:33,  3.57it/s]                         \n",
            "  0%|          | 0/117 [00:00<?, ?it/s]Epoch 135 of 200:\t\t33.06 seconds;\ttotal: 4889.17;\tminutes left: 38.35\n",
            "Generator loss: 4.40358686, Discriminator loss: 0.33064407\n",
            "118it [00:33,  3.52it/s]                         \n",
            "  0%|          | 0/117 [00:00<?, ?it/s]Epoch 136 of 200:\t\t33.59 seconds;\ttotal: 4922.76;\tminutes left: 37.73\n",
            "Generator loss: 4.39143324, Discriminator loss: 0.31429914\n",
            "118it [00:32,  3.62it/s]                         \n",
            "  0%|          | 0/117 [00:00<?, ?it/s]Epoch 137 of 200:\t\t32.64 seconds;\ttotal: 4955.40;\tminutes left: 37.11\n",
            "Generator loss: 5.33138752, Discriminator loss: 0.28956366\n",
            "118it [00:32,  3.63it/s]                         \n",
            "  0%|          | 0/117 [00:00<?, ?it/s]Epoch 138 of 200:\t\t32.55 seconds;\ttotal: 4987.95;\tminutes left: 36.48\n",
            "Generator loss: 3.87894630, Discriminator loss: 0.28633982\n",
            "118it [00:32,  3.63it/s]                         \n",
            "  0%|          | 0/117 [00:00<?, ?it/s]Epoch 139 of 200:\t\t32.55 seconds;\ttotal: 5020.50;\tminutes left: 35.86\n",
            "Generator loss: 5.51026344, Discriminator loss: 0.33528239\n",
            "118it [00:32,  3.63it/s]                         \n",
            "  0%|          | 0/117 [00:00<?, ?it/s]Epoch 140 of 200:\t\t32.52 seconds;\ttotal: 5053.01;\tminutes left: 35.24\n",
            "Generator loss: 4.56081200, Discriminator loss: 0.31671458\n",
            "118it [00:32,  3.61it/s]                         \n",
            "  0%|          | 0/117 [00:00<?, ?it/s]Epoch 141 of 200:\t\t32.70 seconds;\ttotal: 5085.71;\tminutes left: 34.62\n",
            "Generator loss: 4.82810402, Discriminator loss: 0.35254082\n",
            "118it [00:33,  3.57it/s]                         \n",
            "  0%|          | 0/117 [00:00<?, ?it/s]Epoch 142 of 200:\t\t33.08 seconds;\ttotal: 5118.79;\tminutes left: 34.01\n",
            "Generator loss: 4.41390896, Discriminator loss: 0.32468972\n",
            "118it [00:32,  3.63it/s]                         \n",
            "  0%|          | 0/117 [00:00<?, ?it/s]Epoch 143 of 200:\t\t32.50 seconds;\ttotal: 5151.30;\tminutes left: 33.39\n",
            "Generator loss: 4.73148108, Discriminator loss: 0.35502687\n",
            "118it [00:32,  3.66it/s]                         \n",
            "  0%|          | 0/117 [00:00<?, ?it/s]Epoch 144 of 200:\t\t32.31 seconds;\ttotal: 5183.60;\tminutes left: 32.77\n",
            "Generator loss: 4.66884184, Discriminator loss: 0.37665567\n",
            "118it [00:32,  3.60it/s]                         \n",
            "  0%|          | 0/117 [00:00<?, ?it/s]Epoch 145 of 200:\t\t32.81 seconds;\ttotal: 5216.42;\tminutes left: 32.16\n",
            "Generator loss: 4.63402987, Discriminator loss: 0.31671777\n",
            "118it [00:32,  3.63it/s]                         \n",
            "  0%|          | 0/117 [00:00<?, ?it/s]Epoch 146 of 200:\t\t32.53 seconds;\ttotal: 5248.95;\tminutes left: 31.54\n",
            "Generator loss: 4.72176600, Discriminator loss: 0.31976831\n",
            "118it [00:32,  3.62it/s]                         \n",
            "  0%|          | 0/117 [00:00<?, ?it/s]Epoch 147 of 200:\t\t32.58 seconds;\ttotal: 5281.53;\tminutes left: 30.93\n",
            "Generator loss: 6.38582087, Discriminator loss: 0.39865732\n",
            "118it [00:32,  3.65it/s]                         \n",
            "  0%|          | 0/117 [00:00<?, ?it/s]Epoch 148 of 200:\t\t32.33 seconds;\ttotal: 5313.86;\tminutes left: 30.31\n",
            "Generator loss: 5.93409967, Discriminator loss: 0.29668394\n",
            "118it [00:32,  3.63it/s]                         \n",
            "  0%|          | 0/117 [00:00<?, ?it/s]Epoch 149 of 200:\t\t32.50 seconds;\ttotal: 5346.36;\tminutes left: 29.70\n",
            "Generator loss: 4.33526659, Discriminator loss: 0.27515793\n",
            "118it [00:32,  3.63it/s]                         \n",
            "  0%|          | 0/117 [00:00<?, ?it/s]Epoch 150 of 200:\t\t32.55 seconds;\ttotal: 5378.91;\tminutes left: 29.09\n",
            "Generator loss: 3.94168448, Discriminator loss: 0.28814963\n",
            "118it [00:32,  3.64it/s]                         \n",
            "  0%|          | 0/117 [00:00<?, ?it/s]Epoch 151 of 200:\t\t32.45 seconds;\ttotal: 5411.36;\tminutes left: 28.48\n",
            "Generator loss: 4.17314672, Discriminator loss: 0.31972539\n",
            "118it [00:32,  3.64it/s]                         \n",
            "  0%|          | 0/117 [00:00<?, ?it/s]Epoch 152 of 200:\t\t32.46 seconds;\ttotal: 5443.82;\tminutes left: 27.87\n",
            "Generator loss: 3.73339534, Discriminator loss: 0.32641548\n",
            "118it [00:32,  3.64it/s]                         \n",
            "  0%|          | 0/117 [00:00<?, ?it/s]Epoch 153 of 200:\t\t32.44 seconds;\ttotal: 5476.26;\tminutes left: 27.26\n",
            "Generator loss: 4.27593613, Discriminator loss: 0.34118283\n",
            "118it [00:32,  3.64it/s]                         \n",
            "  0%|          | 0/117 [00:00<?, ?it/s]Epoch 154 of 200:\t\t32.47 seconds;\ttotal: 5508.73;\tminutes left: 26.66\n",
            "Generator loss: 4.60271215, Discriminator loss: 0.32577607\n",
            "118it [00:32,  3.60it/s]                         \n",
            "  0%|          | 0/117 [00:00<?, ?it/s]Epoch 155 of 200:\t\t32.78 seconds;\ttotal: 5541.51;\tminutes left: 26.05\n",
            "Generator loss: 3.85299802, Discriminator loss: 0.34289691\n",
            "118it [00:33,  3.55it/s]                         \n",
            "  0%|          | 0/117 [00:00<?, ?it/s]Epoch 156 of 200:\t\t33.26 seconds;\ttotal: 5574.77;\tminutes left: 25.45\n",
            "Generator loss: 4.78884077, Discriminator loss: 0.34164956\n",
            "118it [00:32,  3.62it/s]                         \n",
            "  0%|          | 0/117 [00:00<?, ?it/s]Epoch 157 of 200:\t\t32.59 seconds;\ttotal: 5607.36;\tminutes left: 24.84\n",
            "Generator loss: 5.49215269, Discriminator loss: 0.35773376\n",
            "118it [00:32,  3.60it/s]                         \n",
            "  0%|          | 0/117 [00:00<?, ?it/s]Epoch 158 of 200:\t\t32.79 seconds;\ttotal: 5640.15;\tminutes left: 24.24\n",
            "Generator loss: 7.00083208, Discriminator loss: 0.54751700\n",
            "118it [00:32,  3.59it/s]                         \n",
            "  0%|          | 0/117 [00:00<?, ?it/s]Epoch 159 of 200:\t\t32.90 seconds;\ttotal: 5673.05;\tminutes left: 23.64\n",
            "Generator loss: 4.51133585, Discriminator loss: 0.28988022\n",
            "118it [00:33,  3.56it/s]                         \n",
            "  0%|          | 0/117 [00:00<?, ?it/s]Epoch 160 of 200:\t\t33.21 seconds;\ttotal: 5706.27;\tminutes left: 23.04\n",
            "Generator loss: 5.33303785, Discriminator loss: 0.32313126\n",
            "118it [00:33,  3.48it/s]                         \n",
            "  0%|          | 0/117 [00:00<?, ?it/s]Epoch 161 of 200:\t\t33.98 seconds;\ttotal: 5740.25;\tminutes left: 22.44\n",
            "Generator loss: 5.24248838, Discriminator loss: 0.37079555\n",
            "118it [00:33,  3.56it/s]                         \n",
            "  0%|          | 0/117 [00:00<?, ?it/s]Epoch 162 of 200:\t\t33.13 seconds;\ttotal: 5773.38;\tminutes left: 21.84\n",
            "Generator loss: 5.05736589, Discriminator loss: 0.35545200\n",
            "118it [00:32,  3.65it/s]                         \n",
            "  0%|          | 0/117 [00:00<?, ?it/s]Epoch 163 of 200:\t\t32.38 seconds;\ttotal: 5805.76;\tminutes left: 21.24\n",
            "Generator loss: 5.61029196, Discriminator loss: 0.47748190\n",
            "118it [00:32,  3.60it/s]                         \n",
            "  0%|          | 0/117 [00:00<?, ?it/s]Epoch 164 of 200:\t\t32.78 seconds;\ttotal: 5838.54;\tminutes left: 20.64\n",
            "Generator loss: 5.35318851, Discriminator loss: 0.42684466\n",
            "118it [00:32,  3.60it/s]                         \n",
            "  0%|          | 0/117 [00:00<?, ?it/s]Epoch 165 of 200:\t\t32.84 seconds;\ttotal: 5871.38;\tminutes left: 20.04\n",
            "Generator loss: 4.61813402, Discriminator loss: 0.34604603\n",
            "118it [00:32,  3.64it/s]                         \n",
            "  0%|          | 0/117 [00:00<?, ?it/s]Epoch 166 of 200:\t\t32.41 seconds;\ttotal: 5903.79;\tminutes left: 19.44\n",
            "Generator loss: 5.00196028, Discriminator loss: 0.40671504\n",
            "118it [00:32,  3.61it/s]                         \n",
            "  0%|          | 0/117 [00:00<?, ?it/s]Epoch 167 of 200:\t\t32.73 seconds;\ttotal: 5936.52;\tminutes left: 18.85\n",
            "Generator loss: 5.52660942, Discriminator loss: 0.40093082\n",
            "118it [00:32,  3.65it/s]                         \n",
            "  0%|          | 0/117 [00:00<?, ?it/s]Epoch 168 of 200:\t\t32.35 seconds;\ttotal: 5968.87;\tminutes left: 18.25\n",
            "Generator loss: 5.40827131, Discriminator loss: 0.45337120\n",
            "118it [00:32,  3.66it/s]                         \n",
            "  0%|          | 0/117 [00:00<?, ?it/s]Epoch 169 of 200:\t\t32.22 seconds;\ttotal: 6001.09;\tminutes left: 17.65\n",
            "Generator loss: 5.06045818, Discriminator loss: 0.41723317\n",
            "118it [00:32,  3.65it/s]                         \n",
            "  0%|          | 0/117 [00:00<?, ?it/s]Epoch 170 of 200:\t\t32.32 seconds;\ttotal: 6033.41;\tminutes left: 17.05\n",
            "Generator loss: 5.52896166, Discriminator loss: 0.39290506\n",
            "118it [00:32,  3.61it/s]                         \n",
            "  0%|          | 0/117 [00:00<?, ?it/s]Epoch 171 of 200:\t\t32.73 seconds;\ttotal: 6066.14;\tminutes left: 16.46\n",
            "Generator loss: 5.63492346, Discriminator loss: 0.46875992\n",
            "118it [00:32,  3.66it/s]                         \n",
            "  0%|          | 0/117 [00:00<?, ?it/s]Epoch 172 of 200:\t\t32.24 seconds;\ttotal: 6098.38;\tminutes left: 15.86\n",
            "Generator loss: 4.97138739, Discriminator loss: 0.48471999\n",
            "118it [00:32,  3.60it/s]                         \n",
            "  0%|          | 0/117 [00:00<?, ?it/s]Epoch 173 of 200:\t\t32.78 seconds;\ttotal: 6131.16;\tminutes left: 15.27\n",
            "Generator loss: 4.49514151, Discriminator loss: 0.41706684\n",
            "118it [00:31,  3.69it/s]                         \n",
            "  0%|          | 0/117 [00:00<?, ?it/s]Epoch 174 of 200:\t\t32.00 seconds;\ttotal: 6163.16;\tminutes left: 14.67\n",
            "Generator loss: 4.39341211, Discriminator loss: 0.34899044\n",
            "118it [00:33,  3.57it/s]                         \n",
            "  0%|          | 0/117 [00:00<?, ?it/s]Epoch 175 of 200:\t\t33.08 seconds;\ttotal: 6196.24;\tminutes left: 14.08\n",
            "Generator loss: 4.34348440, Discriminator loss: 0.38544455\n",
            "118it [00:32,  3.65it/s]\n",
            "  0%|          | 0/117 [00:00<?, ?it/s]Epoch 176 of 200:\t\t32.38 seconds;\ttotal: 6228.62;\tminutes left: 13.49\n",
            "Generator loss: 4.88021564, Discriminator loss: 0.33827245\n",
            "118it [00:32,  3.63it/s]                         \n",
            "  0%|          | 0/117 [00:00<?, ?it/s]Epoch 177 of 200:\t\t32.54 seconds;\ttotal: 6261.15;\tminutes left: 12.90\n",
            "Generator loss: 3.95446825, Discriminator loss: 0.35036293\n",
            "118it [00:32,  3.67it/s]                         \n",
            "  0%|          | 0/117 [00:00<?, ?it/s]Epoch 178 of 200:\t\t32.22 seconds;\ttotal: 6293.37;\tminutes left: 12.31\n",
            "Generator loss: 4.59879255, Discriminator loss: 0.33906549\n",
            "118it [00:32,  3.66it/s]                         \n",
            "  0%|          | 0/117 [00:00<?, ?it/s]Epoch 179 of 200:\t\t32.27 seconds;\ttotal: 6325.64;\tminutes left: 11.71\n",
            "Generator loss: 5.07702589, Discriminator loss: 0.35384962\n",
            "118it [00:32,  3.68it/s]                         \n",
            "  0%|          | 0/117 [00:00<?, ?it/s]Epoch 180 of 200:\t\t32.08 seconds;\ttotal: 6357.72;\tminutes left: 11.12\n",
            "Generator loss: 4.54666615, Discriminator loss: 0.29143274\n",
            "118it [00:32,  3.67it/s]                         \n",
            "  0%|          | 0/117 [00:00<?, ?it/s]Epoch 181 of 200:\t\t32.21 seconds;\ttotal: 6389.93;\tminutes left: 10.53\n",
            "Generator loss: 4.62328911, Discriminator loss: 0.37320742\n",
            "118it [00:32,  3.66it/s]                         \n",
            "  0%|          | 0/117 [00:00<?, ?it/s]Epoch 182 of 200:\t\t32.23 seconds;\ttotal: 6422.16;\tminutes left: 9.94\n",
            "Generator loss: 4.13279057, Discriminator loss: 0.29395095\n",
            "118it [00:32,  3.67it/s]                         \n",
            "  0%|          | 0/117 [00:00<?, ?it/s]Epoch 183 of 200:\t\t32.19 seconds;\ttotal: 6454.36;\tminutes left: 9.35\n",
            "Generator loss: 4.70076466, Discriminator loss: 0.35286021\n",
            "118it [00:32,  3.67it/s]                         \n",
            "  0%|          | 0/117 [00:00<?, ?it/s]Epoch 184 of 200:\t\t32.17 seconds;\ttotal: 6486.53;\tminutes left: 8.77\n",
            "Generator loss: 4.59370613, Discriminator loss: 0.33661172\n",
            "118it [00:32,  3.68it/s]                         \n",
            "  0%|          | 0/117 [00:00<?, ?it/s]Epoch 185 of 200:\t\t32.12 seconds;\ttotal: 6518.65;\tminutes left: 8.18\n",
            "Generator loss: 4.71097755, Discriminator loss: 0.39504349\n",
            "118it [00:32,  3.66it/s]                         \n",
            "  0%|          | 0/117 [00:00<?, ?it/s]Epoch 186 of 200:\t\t32.25 seconds;\ttotal: 6550.90;\tminutes left: 7.59\n",
            "Generator loss: 4.49916697, Discriminator loss: 0.34351858\n",
            "118it [00:32,  3.66it/s]                         \n",
            "  0%|          | 0/117 [00:00<?, ?it/s]Epoch 187 of 200:\t\t32.24 seconds;\ttotal: 6583.13;\tminutes left: 7.00\n",
            "Generator loss: 4.21953917, Discriminator loss: 0.28231072\n",
            "118it [00:32,  3.62it/s]                         \n",
            "  0%|          | 0/117 [00:00<?, ?it/s]Epoch 188 of 200:\t\t32.64 seconds;\ttotal: 6615.77;\tminutes left: 6.42\n",
            "Generator loss: 5.74917841, Discriminator loss: 0.44897145\n",
            "118it [00:32,  3.68it/s]                         \n",
            "  0%|          | 0/117 [00:00<?, ?it/s]Epoch 189 of 200:\t\t32.07 seconds;\ttotal: 6647.84;\tminutes left: 5.83\n",
            "Generator loss: 4.50246143, Discriminator loss: 0.39428088\n",
            "118it [00:32,  3.68it/s]                         \n",
            "  0%|          | 0/117 [00:00<?, ?it/s]Epoch 190 of 200:\t\t32.11 seconds;\ttotal: 6679.96;\tminutes left: 5.25\n",
            "Generator loss: 5.18909740, Discriminator loss: 0.47472921\n",
            "118it [00:31,  3.70it/s]                         \n",
            "  0%|          | 0/117 [00:00<?, ?it/s]Epoch 191 of 200:\t\t31.90 seconds;\ttotal: 6711.86;\tminutes left: 4.66\n",
            "Generator loss: 3.95123339, Discriminator loss: 0.33561212\n",
            "118it [00:33,  3.52it/s]                         \n",
            "  0%|          | 0/117 [00:00<?, ?it/s]Epoch 192 of 200:\t\t33.55 seconds;\ttotal: 6745.40;\tminutes left: 4.08\n",
            "Generator loss: 4.39935875, Discriminator loss: 0.39076781\n",
            "118it [00:33,  3.52it/s]                         \n",
            "  0%|          | 0/117 [00:00<?, ?it/s]Epoch 193 of 200:\t\t33.54 seconds;\ttotal: 6778.94;\tminutes left: 3.49\n",
            "Generator loss: 4.57770777, Discriminator loss: 0.38689920\n",
            "118it [00:32,  3.59it/s]                         \n",
            "  0%|          | 0/117 [00:00<?, ?it/s]Epoch 194 of 200:\t\t32.87 seconds;\ttotal: 6811.81;\tminutes left: 2.91\n",
            "Generator loss: 4.66643858, Discriminator loss: 0.37028053\n",
            "118it [00:32,  3.62it/s]                         \n",
            "  0%|          | 0/117 [00:00<?, ?it/s]Epoch 195 of 200:\t\t32.61 seconds;\ttotal: 6844.42;\tminutes left: 2.33\n",
            "Generator loss: 4.62564468, Discriminator loss: 0.41586891\n",
            "118it [00:33,  3.57it/s]                         \n",
            "  0%|          | 0/117 [00:00<?, ?it/s]Epoch 196 of 200:\t\t33.09 seconds;\ttotal: 6877.51;\tminutes left: 1.75\n",
            "Generator loss: 3.75826597, Discriminator loss: 0.35560912\n",
            "118it [00:33,  3.56it/s]                         \n",
            "  0%|          | 0/117 [00:00<?, ?it/s]Epoch 197 of 200:\t\t33.17 seconds;\ttotal: 6910.67;\tminutes left: 1.16\n",
            "Generator loss: 4.09012270, Discriminator loss: 0.36841872\n",
            "118it [00:33,  3.51it/s]                         \n",
            "  0%|          | 0/117 [00:00<?, ?it/s]Epoch 198 of 200:\t\t33.69 seconds;\ttotal: 6944.37;\tminutes left: 0.58\n",
            "Generator loss: 3.97915316, Discriminator loss: 0.36481342\n",
            "118it [00:32,  3.68it/s]                         Epoch 199 of 200:\t\t32.05 seconds;\ttotal: 6976.42;\tminutes left: 0.00\n",
            "Generator loss: 4.24065971, Discriminator loss: 0.39152011\n",
            "\n"
          ]
        }
      ]
    },
    {
      "cell_type": "code",
      "metadata": {
        "colab": {
          "base_uri": "https://localhost:8080/",
          "height": 53
        },
        "id": "NV1Vtj8JYOla",
        "outputId": "08eacebc-d905-4877-b5c4-0f0ee9b2f1eb"
      },
      "source": [
        "print('DONE TRAINING')\n",
        "torch.save(generator.state_dict(), path + 'generator.pth')\n",
        "path"
      ],
      "execution_count": 42,
      "outputs": [
        {
          "output_type": "stream",
          "name": "stdout",
          "text": [
            "DONE TRAINING\n"
          ]
        },
        {
          "output_type": "execute_result",
          "data": {
            "text/plain": [
              "'./models/conditional/'"
            ]
          },
          "metadata": {},
          "execution_count": 42
        }
      ]
    },
    {
      "cell_type": "code",
      "metadata": {
        "id": "II3WYevue4FW"
      },
      "source": [
        "imgs = [np.array(to_pil_image(img)) for img in images]\n",
        "imageio.mimsave(path + 'generator_images.gif', imgs)"
      ],
      "execution_count": 43,
      "outputs": []
    },
    {
      "cell_type": "code",
      "metadata": {
        "colab": {
          "base_uri": "https://localhost:8080/",
          "height": 265
        },
        "id": "vQTiNztJfVpt",
        "outputId": "78767a7f-79ac-4366-f16f-eae67e5a96a8"
      },
      "source": [
        "plt.figure()\n",
        "plt.plot([x.detach() for x in losses_g], label='Generator loss')\n",
        "plt.plot([x.detach() for x in losses_d], label='Discriminator Loss')\n",
        "plt.legend()\n",
        "plt.savefig(path + 'loss.png')"
      ],
      "execution_count": 46,
      "outputs": [
        {
          "output_type": "display_data",
          "data": {
            "text/plain": "<Figure size 432x288 with 1 Axes>",
            "image/svg+xml": "<?xml version=\"1.0\" encoding=\"utf-8\" standalone=\"no\"?>\n<!DOCTYPE svg PUBLIC \"-//W3C//DTD SVG 1.1//EN\"\n  \"http://www.w3.org/Graphics/SVG/1.1/DTD/svg11.dtd\">\n<svg height=\"248.518125pt\" version=\"1.1\" viewBox=\"0 0 368.925 248.518125\" width=\"368.925pt\" xmlns=\"http://www.w3.org/2000/svg\" xmlns:xlink=\"http://www.w3.org/1999/xlink\">\n <metadata>\n  <rdf:RDF xmlns:cc=\"http://creativecommons.org/ns#\" xmlns:dc=\"http://purl.org/dc/elements/1.1/\" xmlns:rdf=\"http://www.w3.org/1999/02/22-rdf-syntax-ns#\">\n   <cc:Work>\n    <dc:type rdf:resource=\"http://purl.org/dc/dcmitype/StillImage\"/>\n    <dc:date>2021-05-06T22:02:50.887569</dc:date>\n    <dc:format>image/svg+xml</dc:format>\n    <dc:creator>\n     <cc:Agent>\n      <dc:title>Matplotlib v3.4.1, https://matplotlib.org/</dc:title>\n     </cc:Agent>\n    </dc:creator>\n   </cc:Work>\n  </rdf:RDF>\n </metadata>\n <defs>\n  <style type=\"text/css\">*{stroke-linecap:butt;stroke-linejoin:round;}</style>\n </defs>\n <g id=\"figure_1\">\n  <g id=\"patch_1\">\n   <path d=\"M -0 248.518125 \nL 368.925 248.518125 \nL 368.925 0 \nL -0 0 \nz\n\" style=\"fill:#ffffff;\"/>\n  </g>\n  <g id=\"axes_1\">\n   <g id=\"patch_2\">\n    <path d=\"M 26.925 224.64 \nL 361.725 224.64 \nL 361.725 7.2 \nL 26.925 7.2 \nz\n\" style=\"fill:#e5e5e5;\"/>\n   </g>\n   <g id=\"matplotlib.axis_1\">\n    <g id=\"xtick_1\">\n     <g id=\"line2d_1\">\n      <path clip-path=\"url(#pa49c4b6906)\" d=\"M 42.143182 224.64 \nL 42.143182 7.2 \n\" style=\"fill:none;stroke:#ffffff;stroke-linecap:square;stroke-width:0.8;\"/>\n     </g>\n     <g id=\"line2d_2\">\n      <defs>\n       <path d=\"M 0 0 \nL 0 3.5 \n\" id=\"m41071a5694\" style=\"stroke:#555555;stroke-width:0.8;\"/>\n      </defs>\n      <g>\n       <use style=\"fill:#555555;stroke:#555555;stroke-width:0.8;\" x=\"42.143182\" xlink:href=\"#m41071a5694\" y=\"224.64\"/>\n      </g>\n     </g>\n     <g id=\"text_1\">\n      <!-- 0 -->\n      <g style=\"fill:#555555;\" transform=\"translate(38.961932 239.238437)scale(0.1 -0.1)\">\n       <defs>\n        <path d=\"M 2034 4250 \nQ 1547 4250 1301 3770 \nQ 1056 3291 1056 2328 \nQ 1056 1369 1301 889 \nQ 1547 409 2034 409 \nQ 2525 409 2770 889 \nQ 3016 1369 3016 2328 \nQ 3016 3291 2770 3770 \nQ 2525 4250 2034 4250 \nz\nM 2034 4750 \nQ 2819 4750 3233 4129 \nQ 3647 3509 3647 2328 \nQ 3647 1150 3233 529 \nQ 2819 -91 2034 -91 \nQ 1250 -91 836 529 \nQ 422 1150 422 2328 \nQ 422 3509 836 4129 \nQ 1250 4750 2034 4750 \nz\n\" id=\"DejaVuSans-30\" transform=\"scale(0.015625)\"/>\n       </defs>\n       <use xlink:href=\"#DejaVuSans-30\"/>\n      </g>\n     </g>\n    </g>\n    <g id=\"xtick_2\">\n     <g id=\"line2d_3\">\n      <path clip-path=\"url(#pa49c4b6906)\" d=\"M 80.37982 224.64 \nL 80.37982 7.2 \n\" style=\"fill:none;stroke:#ffffff;stroke-linecap:square;stroke-width:0.8;\"/>\n     </g>\n     <g id=\"line2d_4\">\n      <g>\n       <use style=\"fill:#555555;stroke:#555555;stroke-width:0.8;\" x=\"80.37982\" xlink:href=\"#m41071a5694\" y=\"224.64\"/>\n      </g>\n     </g>\n     <g id=\"text_2\">\n      <!-- 25 -->\n      <g style=\"fill:#555555;\" transform=\"translate(74.01732 239.238437)scale(0.1 -0.1)\">\n       <defs>\n        <path d=\"M 1228 531 \nL 3431 531 \nL 3431 0 \nL 469 0 \nL 469 531 \nQ 828 903 1448 1529 \nQ 2069 2156 2228 2338 \nQ 2531 2678 2651 2914 \nQ 2772 3150 2772 3378 \nQ 2772 3750 2511 3984 \nQ 2250 4219 1831 4219 \nQ 1534 4219 1204 4116 \nQ 875 4013 500 3803 \nL 500 4441 \nQ 881 4594 1212 4672 \nQ 1544 4750 1819 4750 \nQ 2544 4750 2975 4387 \nQ 3406 4025 3406 3419 \nQ 3406 3131 3298 2873 \nQ 3191 2616 2906 2266 \nQ 2828 2175 2409 1742 \nQ 1991 1309 1228 531 \nz\n\" id=\"DejaVuSans-32\" transform=\"scale(0.015625)\"/>\n        <path d=\"M 691 4666 \nL 3169 4666 \nL 3169 4134 \nL 1269 4134 \nL 1269 2991 \nQ 1406 3038 1543 3061 \nQ 1681 3084 1819 3084 \nQ 2600 3084 3056 2656 \nQ 3513 2228 3513 1497 \nQ 3513 744 3044 326 \nQ 2575 -91 1722 -91 \nQ 1428 -91 1123 -41 \nQ 819 9 494 109 \nL 494 744 \nQ 775 591 1075 516 \nQ 1375 441 1709 441 \nQ 2250 441 2565 725 \nQ 2881 1009 2881 1497 \nQ 2881 1984 2565 2268 \nQ 2250 2553 1709 2553 \nQ 1456 2553 1204 2497 \nQ 953 2441 691 2322 \nL 691 4666 \nz\n\" id=\"DejaVuSans-35\" transform=\"scale(0.015625)\"/>\n       </defs>\n       <use xlink:href=\"#DejaVuSans-32\"/>\n       <use x=\"63.623047\" xlink:href=\"#DejaVuSans-35\"/>\n      </g>\n     </g>\n    </g>\n    <g id=\"xtick_3\">\n     <g id=\"line2d_5\">\n      <path clip-path=\"url(#pa49c4b6906)\" d=\"M 118.616457 224.64 \nL 118.616457 7.2 \n\" style=\"fill:none;stroke:#ffffff;stroke-linecap:square;stroke-width:0.8;\"/>\n     </g>\n     <g id=\"line2d_6\">\n      <g>\n       <use style=\"fill:#555555;stroke:#555555;stroke-width:0.8;\" x=\"118.616457\" xlink:href=\"#m41071a5694\" y=\"224.64\"/>\n      </g>\n     </g>\n     <g id=\"text_3\">\n      <!-- 50 -->\n      <g style=\"fill:#555555;\" transform=\"translate(112.253957 239.238437)scale(0.1 -0.1)\">\n       <use xlink:href=\"#DejaVuSans-35\"/>\n       <use x=\"63.623047\" xlink:href=\"#DejaVuSans-30\"/>\n      </g>\n     </g>\n    </g>\n    <g id=\"xtick_4\">\n     <g id=\"line2d_7\">\n      <path clip-path=\"url(#pa49c4b6906)\" d=\"M 156.853095 224.64 \nL 156.853095 7.2 \n\" style=\"fill:none;stroke:#ffffff;stroke-linecap:square;stroke-width:0.8;\"/>\n     </g>\n     <g id=\"line2d_8\">\n      <g>\n       <use style=\"fill:#555555;stroke:#555555;stroke-width:0.8;\" x=\"156.853095\" xlink:href=\"#m41071a5694\" y=\"224.64\"/>\n      </g>\n     </g>\n     <g id=\"text_4\">\n      <!-- 75 -->\n      <g style=\"fill:#555555;\" transform=\"translate(150.490595 239.238437)scale(0.1 -0.1)\">\n       <defs>\n        <path d=\"M 525 4666 \nL 3525 4666 \nL 3525 4397 \nL 1831 0 \nL 1172 0 \nL 2766 4134 \nL 525 4134 \nL 525 4666 \nz\n\" id=\"DejaVuSans-37\" transform=\"scale(0.015625)\"/>\n       </defs>\n       <use xlink:href=\"#DejaVuSans-37\"/>\n       <use x=\"63.623047\" xlink:href=\"#DejaVuSans-35\"/>\n      </g>\n     </g>\n    </g>\n    <g id=\"xtick_5\">\n     <g id=\"line2d_9\">\n      <path clip-path=\"url(#pa49c4b6906)\" d=\"M 195.089733 224.64 \nL 195.089733 7.2 \n\" style=\"fill:none;stroke:#ffffff;stroke-linecap:square;stroke-width:0.8;\"/>\n     </g>\n     <g id=\"line2d_10\">\n      <g>\n       <use style=\"fill:#555555;stroke:#555555;stroke-width:0.8;\" x=\"195.089733\" xlink:href=\"#m41071a5694\" y=\"224.64\"/>\n      </g>\n     </g>\n     <g id=\"text_5\">\n      <!-- 100 -->\n      <g style=\"fill:#555555;\" transform=\"translate(185.545983 239.238437)scale(0.1 -0.1)\">\n       <defs>\n        <path d=\"M 794 531 \nL 1825 531 \nL 1825 4091 \nL 703 3866 \nL 703 4441 \nL 1819 4666 \nL 2450 4666 \nL 2450 531 \nL 3481 531 \nL 3481 0 \nL 794 0 \nL 794 531 \nz\n\" id=\"DejaVuSans-31\" transform=\"scale(0.015625)\"/>\n       </defs>\n       <use xlink:href=\"#DejaVuSans-31\"/>\n       <use x=\"63.623047\" xlink:href=\"#DejaVuSans-30\"/>\n       <use x=\"127.246094\" xlink:href=\"#DejaVuSans-30\"/>\n      </g>\n     </g>\n    </g>\n    <g id=\"xtick_6\">\n     <g id=\"line2d_11\">\n      <path clip-path=\"url(#pa49c4b6906)\" d=\"M 233.32637 224.64 \nL 233.32637 7.2 \n\" style=\"fill:none;stroke:#ffffff;stroke-linecap:square;stroke-width:0.8;\"/>\n     </g>\n     <g id=\"line2d_12\">\n      <g>\n       <use style=\"fill:#555555;stroke:#555555;stroke-width:0.8;\" x=\"233.32637\" xlink:href=\"#m41071a5694\" y=\"224.64\"/>\n      </g>\n     </g>\n     <g id=\"text_6\">\n      <!-- 125 -->\n      <g style=\"fill:#555555;\" transform=\"translate(223.78262 239.238437)scale(0.1 -0.1)\">\n       <use xlink:href=\"#DejaVuSans-31\"/>\n       <use x=\"63.623047\" xlink:href=\"#DejaVuSans-32\"/>\n       <use x=\"127.246094\" xlink:href=\"#DejaVuSans-35\"/>\n      </g>\n     </g>\n    </g>\n    <g id=\"xtick_7\">\n     <g id=\"line2d_13\">\n      <path clip-path=\"url(#pa49c4b6906)\" d=\"M 271.563008 224.64 \nL 271.563008 7.2 \n\" style=\"fill:none;stroke:#ffffff;stroke-linecap:square;stroke-width:0.8;\"/>\n     </g>\n     <g id=\"line2d_14\">\n      <g>\n       <use style=\"fill:#555555;stroke:#555555;stroke-width:0.8;\" x=\"271.563008\" xlink:href=\"#m41071a5694\" y=\"224.64\"/>\n      </g>\n     </g>\n     <g id=\"text_7\">\n      <!-- 150 -->\n      <g style=\"fill:#555555;\" transform=\"translate(262.019258 239.238437)scale(0.1 -0.1)\">\n       <use xlink:href=\"#DejaVuSans-31\"/>\n       <use x=\"63.623047\" xlink:href=\"#DejaVuSans-35\"/>\n       <use x=\"127.246094\" xlink:href=\"#DejaVuSans-30\"/>\n      </g>\n     </g>\n    </g>\n    <g id=\"xtick_8\">\n     <g id=\"line2d_15\">\n      <path clip-path=\"url(#pa49c4b6906)\" d=\"M 309.799646 224.64 \nL 309.799646 7.2 \n\" style=\"fill:none;stroke:#ffffff;stroke-linecap:square;stroke-width:0.8;\"/>\n     </g>\n     <g id=\"line2d_16\">\n      <g>\n       <use style=\"fill:#555555;stroke:#555555;stroke-width:0.8;\" x=\"309.799646\" xlink:href=\"#m41071a5694\" y=\"224.64\"/>\n      </g>\n     </g>\n     <g id=\"text_8\">\n      <!-- 175 -->\n      <g style=\"fill:#555555;\" transform=\"translate(300.255896 239.238437)scale(0.1 -0.1)\">\n       <use xlink:href=\"#DejaVuSans-31\"/>\n       <use x=\"63.623047\" xlink:href=\"#DejaVuSans-37\"/>\n       <use x=\"127.246094\" xlink:href=\"#DejaVuSans-35\"/>\n      </g>\n     </g>\n    </g>\n    <g id=\"xtick_9\">\n     <g id=\"line2d_17\">\n      <path clip-path=\"url(#pa49c4b6906)\" d=\"M 348.036284 224.64 \nL 348.036284 7.2 \n\" style=\"fill:none;stroke:#ffffff;stroke-linecap:square;stroke-width:0.8;\"/>\n     </g>\n     <g id=\"line2d_18\">\n      <g>\n       <use style=\"fill:#555555;stroke:#555555;stroke-width:0.8;\" x=\"348.036284\" xlink:href=\"#m41071a5694\" y=\"224.64\"/>\n      </g>\n     </g>\n     <g id=\"text_9\">\n      <!-- 200 -->\n      <g style=\"fill:#555555;\" transform=\"translate(338.492534 239.238437)scale(0.1 -0.1)\">\n       <use xlink:href=\"#DejaVuSans-32\"/>\n       <use x=\"63.623047\" xlink:href=\"#DejaVuSans-30\"/>\n       <use x=\"127.246094\" xlink:href=\"#DejaVuSans-30\"/>\n      </g>\n     </g>\n    </g>\n   </g>\n   <g id=\"matplotlib.axis_2\">\n    <g id=\"ytick_1\">\n     <g id=\"line2d_19\">\n      <path clip-path=\"url(#pa49c4b6906)\" d=\"M 26.925 214.928606 \nL 361.725 214.928606 \n\" style=\"fill:none;stroke:#ffffff;stroke-linecap:square;stroke-width:0.8;\"/>\n     </g>\n     <g id=\"line2d_20\">\n      <defs>\n       <path d=\"M 0 0 \nL -3.5 0 \n\" id=\"m6c9cb4470b\" style=\"stroke:#555555;stroke-width:0.8;\"/>\n      </defs>\n      <g>\n       <use style=\"fill:#555555;stroke:#555555;stroke-width:0.8;\" x=\"26.925\" xlink:href=\"#m6c9cb4470b\" y=\"214.928606\"/>\n      </g>\n     </g>\n     <g id=\"text_10\">\n      <!-- 0 -->\n      <g style=\"fill:#555555;\" transform=\"translate(13.5625 218.727825)scale(0.1 -0.1)\">\n       <use xlink:href=\"#DejaVuSans-30\"/>\n      </g>\n     </g>\n    </g>\n    <g id=\"ytick_2\">\n     <g id=\"line2d_21\">\n      <path clip-path=\"url(#pa49c4b6906)\" d=\"M 26.925 178.854567 \nL 361.725 178.854567 \n\" style=\"fill:none;stroke:#ffffff;stroke-linecap:square;stroke-width:0.8;\"/>\n     </g>\n     <g id=\"line2d_22\">\n      <g>\n       <use style=\"fill:#555555;stroke:#555555;stroke-width:0.8;\" x=\"26.925\" xlink:href=\"#m6c9cb4470b\" y=\"178.854567\"/>\n      </g>\n     </g>\n     <g id=\"text_11\">\n      <!-- 2 -->\n      <g style=\"fill:#555555;\" transform=\"translate(13.5625 182.653786)scale(0.1 -0.1)\">\n       <use xlink:href=\"#DejaVuSans-32\"/>\n      </g>\n     </g>\n    </g>\n    <g id=\"ytick_3\">\n     <g id=\"line2d_23\">\n      <path clip-path=\"url(#pa49c4b6906)\" d=\"M 26.925 142.780528 \nL 361.725 142.780528 \n\" style=\"fill:none;stroke:#ffffff;stroke-linecap:square;stroke-width:0.8;\"/>\n     </g>\n     <g id=\"line2d_24\">\n      <g>\n       <use style=\"fill:#555555;stroke:#555555;stroke-width:0.8;\" x=\"26.925\" xlink:href=\"#m6c9cb4470b\" y=\"142.780528\"/>\n      </g>\n     </g>\n     <g id=\"text_12\">\n      <!-- 4 -->\n      <g style=\"fill:#555555;\" transform=\"translate(13.5625 146.579746)scale(0.1 -0.1)\">\n       <defs>\n        <path d=\"M 2419 4116 \nL 825 1625 \nL 2419 1625 \nL 2419 4116 \nz\nM 2253 4666 \nL 3047 4666 \nL 3047 1625 \nL 3713 1625 \nL 3713 1100 \nL 3047 1100 \nL 3047 0 \nL 2419 0 \nL 2419 1100 \nL 313 1100 \nL 313 1709 \nL 2253 4666 \nz\n\" id=\"DejaVuSans-34\" transform=\"scale(0.015625)\"/>\n       </defs>\n       <use xlink:href=\"#DejaVuSans-34\"/>\n      </g>\n     </g>\n    </g>\n    <g id=\"ytick_4\">\n     <g id=\"line2d_25\">\n      <path clip-path=\"url(#pa49c4b6906)\" d=\"M 26.925 106.706488 \nL 361.725 106.706488 \n\" style=\"fill:none;stroke:#ffffff;stroke-linecap:square;stroke-width:0.8;\"/>\n     </g>\n     <g id=\"line2d_26\">\n      <g>\n       <use style=\"fill:#555555;stroke:#555555;stroke-width:0.8;\" x=\"26.925\" xlink:href=\"#m6c9cb4470b\" y=\"106.706488\"/>\n      </g>\n     </g>\n     <g id=\"text_13\">\n      <!-- 6 -->\n      <g style=\"fill:#555555;\" transform=\"translate(13.5625 110.505707)scale(0.1 -0.1)\">\n       <defs>\n        <path d=\"M 2113 2584 \nQ 1688 2584 1439 2293 \nQ 1191 2003 1191 1497 \nQ 1191 994 1439 701 \nQ 1688 409 2113 409 \nQ 2538 409 2786 701 \nQ 3034 994 3034 1497 \nQ 3034 2003 2786 2293 \nQ 2538 2584 2113 2584 \nz\nM 3366 4563 \nL 3366 3988 \nQ 3128 4100 2886 4159 \nQ 2644 4219 2406 4219 \nQ 1781 4219 1451 3797 \nQ 1122 3375 1075 2522 \nQ 1259 2794 1537 2939 \nQ 1816 3084 2150 3084 \nQ 2853 3084 3261 2657 \nQ 3669 2231 3669 1497 \nQ 3669 778 3244 343 \nQ 2819 -91 2113 -91 \nQ 1303 -91 875 529 \nQ 447 1150 447 2328 \nQ 447 3434 972 4092 \nQ 1497 4750 2381 4750 \nQ 2619 4750 2861 4703 \nQ 3103 4656 3366 4563 \nz\n\" id=\"DejaVuSans-36\" transform=\"scale(0.015625)\"/>\n       </defs>\n       <use xlink:href=\"#DejaVuSans-36\"/>\n      </g>\n     </g>\n    </g>\n    <g id=\"ytick_5\">\n     <g id=\"line2d_27\">\n      <path clip-path=\"url(#pa49c4b6906)\" d=\"M 26.925 70.632449 \nL 361.725 70.632449 \n\" style=\"fill:none;stroke:#ffffff;stroke-linecap:square;stroke-width:0.8;\"/>\n     </g>\n     <g id=\"line2d_28\">\n      <g>\n       <use style=\"fill:#555555;stroke:#555555;stroke-width:0.8;\" x=\"26.925\" xlink:href=\"#m6c9cb4470b\" y=\"70.632449\"/>\n      </g>\n     </g>\n     <g id=\"text_14\">\n      <!-- 8 -->\n      <g style=\"fill:#555555;\" transform=\"translate(13.5625 74.431668)scale(0.1 -0.1)\">\n       <defs>\n        <path d=\"M 2034 2216 \nQ 1584 2216 1326 1975 \nQ 1069 1734 1069 1313 \nQ 1069 891 1326 650 \nQ 1584 409 2034 409 \nQ 2484 409 2743 651 \nQ 3003 894 3003 1313 \nQ 3003 1734 2745 1975 \nQ 2488 2216 2034 2216 \nz\nM 1403 2484 \nQ 997 2584 770 2862 \nQ 544 3141 544 3541 \nQ 544 4100 942 4425 \nQ 1341 4750 2034 4750 \nQ 2731 4750 3128 4425 \nQ 3525 4100 3525 3541 \nQ 3525 3141 3298 2862 \nQ 3072 2584 2669 2484 \nQ 3125 2378 3379 2068 \nQ 3634 1759 3634 1313 \nQ 3634 634 3220 271 \nQ 2806 -91 2034 -91 \nQ 1263 -91 848 271 \nQ 434 634 434 1313 \nQ 434 1759 690 2068 \nQ 947 2378 1403 2484 \nz\nM 1172 3481 \nQ 1172 3119 1398 2916 \nQ 1625 2713 2034 2713 \nQ 2441 2713 2670 2916 \nQ 2900 3119 2900 3481 \nQ 2900 3844 2670 4047 \nQ 2441 4250 2034 4250 \nQ 1625 4250 1398 4047 \nQ 1172 3844 1172 3481 \nz\n\" id=\"DejaVuSans-38\" transform=\"scale(0.015625)\"/>\n       </defs>\n       <use xlink:href=\"#DejaVuSans-38\"/>\n      </g>\n     </g>\n    </g>\n    <g id=\"ytick_6\">\n     <g id=\"line2d_29\">\n      <path clip-path=\"url(#pa49c4b6906)\" d=\"M 26.925 34.55841 \nL 361.725 34.55841 \n\" style=\"fill:none;stroke:#ffffff;stroke-linecap:square;stroke-width:0.8;\"/>\n     </g>\n     <g id=\"line2d_30\">\n      <g>\n       <use style=\"fill:#555555;stroke:#555555;stroke-width:0.8;\" x=\"26.925\" xlink:href=\"#m6c9cb4470b\" y=\"34.55841\"/>\n      </g>\n     </g>\n     <g id=\"text_15\">\n      <!-- 10 -->\n      <g style=\"fill:#555555;\" transform=\"translate(7.2 38.357628)scale(0.1 -0.1)\">\n       <use xlink:href=\"#DejaVuSans-31\"/>\n       <use x=\"63.623047\" xlink:href=\"#DejaVuSans-30\"/>\n      </g>\n     </g>\n    </g>\n   </g>\n   <g id=\"line2d_31\">\n    <path clip-path=\"url(#pa49c4b6906)\" d=\"M 42.143182 173.686596 \nL 43.672647 134.187831 \nL 45.202113 54.107144 \nL 46.731578 89.965649 \nL 48.261044 103.496252 \nL 49.790509 86.95968 \nL 51.319975 67.695853 \nL 52.84944 19.869032 \nL 54.378906 21.417609 \nL 55.908371 55.837506 \nL 57.437837 46.46745 \nL 58.967302 17.083636 \nL 60.496768 43.241027 \nL 62.026233 21.809423 \nL 63.555699 81.97115 \nL 65.085164 47.133834 \nL 66.61463 54.041193 \nL 68.144095 59.363853 \nL 69.673561 69.518122 \nL 71.203026 42.961263 \nL 72.732492 24.405706 \nL 74.261958 76.536079 \nL 75.791423 76.38769 \nL 77.320889 60.370498 \nL 78.850354 59.015833 \nL 80.37982 70.397546 \nL 81.909285 68.524894 \nL 83.438751 57.610321 \nL 84.968216 33.869509 \nL 86.497682 78.690396 \nL 88.027147 75.038942 \nL 89.556613 87.803651 \nL 91.086078 70.606062 \nL 94.145009 91.209769 \nL 95.674475 78.826958 \nL 97.20394 70.485652 \nL 98.733406 77.42332 \nL 100.262871 67.862896 \nL 101.792337 61.35609 \nL 103.321802 68.328763 \nL 104.851268 76.767292 \nL 106.380733 72.903065 \nL 107.910199 73.105294 \nL 109.439664 71.989187 \nL 110.96913 67.599181 \nL 112.498595 105.067862 \nL 114.028061 69.066516 \nL 115.557526 58.555626 \nL 117.086992 80.43703 \nL 118.616457 77.701545 \nL 120.145923 78.309435 \nL 121.675388 91.348464 \nL 123.204854 84.94644 \nL 124.734319 74.647162 \nL 126.263785 82.320666 \nL 127.79325 73.380061 \nL 129.322716 77.61159 \nL 130.852181 97.351011 \nL 132.381647 108.137958 \nL 133.911112 22.09347 \nL 135.440578 82.712024 \nL 136.970043 98.906864 \nL 138.499509 64.33003 \nL 140.028974 71.748324 \nL 141.55844 58.371106 \nL 143.087905 64.522256 \nL 144.617371 22.92055 \nL 146.146836 69.631325 \nL 147.676302 93.263793 \nL 149.205767 95.288532 \nL 150.735233 91.726311 \nL 152.264698 69.212281 \nL 153.794164 77.674685 \nL 155.32363 89.745582 \nL 156.853095 79.037891 \nL 158.382561 106.813559 \nL 159.912026 102.396478 \nL 161.441492 104.850805 \nL 162.970957 111.804729 \nL 164.500423 114.570205 \nL 166.029888 98.83731 \nL 167.559354 96.721481 \nL 170.618285 104.608867 \nL 172.14775 108.276756 \nL 173.677216 113.463258 \nL 175.206681 116.574655 \nL 176.736147 113.594883 \nL 178.265612 117.305664 \nL 179.795078 127.531844 \nL 181.324543 117.596584 \nL 182.854009 49.480816 \nL 185.91294 99.368645 \nL 187.442405 102.743181 \nL 188.971871 110.260779 \nL 190.501336 110.356978 \nL 192.030802 122.14953 \nL 193.560267 126.173352 \nL 195.089733 107.569003 \nL 196.619198 106.197979 \nL 198.148664 109.443883 \nL 199.678129 117.373799 \nL 201.207595 123.211367 \nL 202.73706 121.665791 \nL 204.266526 125.933228 \nL 205.795991 126.660041 \nL 207.325457 132.10791 \nL 208.854922 116.104875 \nL 210.384388 114.332894 \nL 211.913853 123.136403 \nL 213.443319 120.433686 \nL 214.972784 125.164548 \nL 216.50225 124.234509 \nL 218.031715 122.722536 \nL 219.561181 114.037674 \nL 221.090646 118.500373 \nL 222.620112 128.795325 \nL 224.149577 120.54541 \nL 225.679043 126.89632 \nL 227.208508 131.590456 \nL 228.737974 127.108457 \nL 230.267439 115.86679 \nL 231.796905 120.180197 \nL 233.32637 116.745181 \nL 234.855836 122.69 \nL 236.385302 129.612393 \nL 237.914767 114.820426 \nL 239.444233 132.028009 \nL 240.973698 131.440262 \nL 242.503164 123.478204 \nL 244.032629 139.413122 \nL 245.562095 127.179757 \nL 247.09156 122.928128 \nL 248.621026 135.501023 \nL 250.150491 135.720239 \nL 251.679957 118.766265 \nL 253.209422 144.963975 \nL 254.738888 115.539876 \nL 256.268353 132.665151 \nL 257.797819 127.843999 \nL 259.327284 135.314844 \nL 260.85675 129.586789 \nL 262.386215 130.716614 \nL 263.915681 131.344518 \nL 265.445146 129.76202 \nL 266.974612 99.74743 \nL 268.504077 107.895134 \nL 270.033543 136.733317 \nL 271.563008 143.832366 \nL 273.092474 139.657477 \nL 274.621939 147.589281 \nL 276.151405 137.803462 \nL 277.68087 131.909397 \nL 279.210336 145.432005 \nL 280.739801 128.552191 \nL 282.269267 115.86654 \nL 283.798732 88.65446 \nL 285.328198 133.557553 \nL 286.857663 118.736498 \nL 288.387129 120.36974 \nL 289.916594 123.708798 \nL 291.44606 113.73566 \nL 292.975525 118.37304 \nL 294.504991 131.631232 \nL 296.034456 124.70815 \nL 297.563922 115.245043 \nL 299.093387 117.37951 \nL 300.622853 123.653022 \nL 302.152318 115.202616 \nL 303.681784 113.291381 \nL 305.211249 125.259594 \nL 306.740715 133.84965 \nL 308.27018 135.684546 \nL 309.799646 136.585093 \nL 311.329111 126.904061 \nL 312.858577 143.601785 \nL 314.388042 131.980094 \nL 315.917508 123.35419 \nL 317.446974 132.9203 \nL 318.976439 131.53825 \nL 320.505905 140.385381 \nL 322.03537 130.140822 \nL 323.564836 132.071838 \nL 325.094301 129.956611 \nL 326.623767 133.777043 \nL 328.153232 138.820695 \nL 329.682698 111.230562 \nL 331.212163 133.717621 \nL 332.741629 121.332754 \nL 334.271094 143.660132 \nL 335.80056 135.577286 \nL 337.330025 132.360401 \nL 338.859491 130.759962 \nL 340.388956 131.495762 \nL 341.918422 147.140689 \nL 343.447887 141.154983 \nL 344.977353 143.156542 \nL 346.506818 138.439744 \nL 346.506818 138.439744 \n\" style=\"fill:none;stroke:#e24a33;stroke-linecap:square;stroke-width:1.5;\"/>\n   </g>\n   <g id=\"line2d_32\">\n    <path clip-path=\"url(#pa49c4b6906)\" d=\"M 42.143182 208.010011 \nL 43.672647 213.553049 \nL 45.202113 214.691 \nL 55.908371 214.712252 \nL 57.437837 214.621342 \nL 58.967302 213.286489 \nL 60.496768 214.233997 \nL 62.026233 213.481102 \nL 63.555699 213.929886 \nL 65.085164 213.550079 \nL 66.61463 213.717653 \nL 68.144095 214.195844 \nL 69.673561 214.16376 \nL 71.203026 213.630024 \nL 72.732492 211.534156 \nL 74.261958 213.892573 \nL 75.791423 213.104274 \nL 77.320889 212.967758 \nL 78.850354 213.462226 \nL 81.909285 213.839641 \nL 83.438751 213.578362 \nL 84.968216 212.127454 \nL 86.497682 213.059715 \nL 88.027147 213.145457 \nL 89.556613 213.407236 \nL 91.086078 211.965274 \nL 92.615544 211.987528 \nL 94.145009 212.570127 \nL 95.674475 212.389569 \nL 97.20394 211.879637 \nL 98.733406 212.771842 \nL 101.792337 213.127201 \nL 106.380733 213.467538 \nL 107.910199 213.354951 \nL 109.439664 212.973467 \nL 110.96913 212.131309 \nL 112.498595 212.672094 \nL 114.028061 212.289009 \nL 115.557526 212.400638 \nL 117.086992 212.839017 \nL 118.616457 211.76985 \nL 120.145923 212.607137 \nL 121.675388 212.117649 \nL 123.204854 212.624851 \nL 124.734319 212.500306 \nL 126.263785 212.105506 \nL 127.79325 212.217932 \nL 129.322716 212.025304 \nL 130.852181 212.28089 \nL 132.381647 211.832579 \nL 133.911112 209.605816 \nL 135.440578 210.252186 \nL 136.970043 212.751016 \nL 138.499509 210.345642 \nL 140.028974 209.705754 \nL 141.55844 208.91088 \nL 143.087905 210.248674 \nL 144.617371 209.158693 \nL 146.146836 210.775863 \nL 147.676302 210.901895 \nL 149.205767 211.624145 \nL 150.735233 210.090518 \nL 152.264698 210.569511 \nL 153.794164 210.72175 \nL 156.853095 211.226111 \nL 158.382561 211.810209 \nL 159.912026 211.824126 \nL 161.441492 211.057333 \nL 162.970957 210.451221 \nL 164.500423 211.381926 \nL 166.029888 210.421229 \nL 167.559354 211.679556 \nL 169.088819 211.926924 \nL 170.618285 211.590707 \nL 172.14775 210.801556 \nL 173.677216 210.650113 \nL 175.206681 210.713856 \nL 176.736147 210.268549 \nL 178.265612 211.053935 \nL 179.795078 211.437567 \nL 181.324543 210.563099 \nL 182.854009 207.403532 \nL 184.383474 209.677073 \nL 185.91294 211.01372 \nL 187.442405 210.441169 \nL 188.971871 210.016125 \nL 190.501336 210.342975 \nL 192.030802 210.863789 \nL 193.560267 210.986453 \nL 195.089733 210.305585 \nL 196.619198 209.762336 \nL 198.148664 209.697957 \nL 199.678129 210.934282 \nL 201.207595 210.517516 \nL 202.73706 210.671786 \nL 204.266526 210.428815 \nL 205.795991 210.38345 \nL 207.325457 210.888398 \nL 208.854922 210.786343 \nL 210.384388 210.505221 \nL 213.443319 209.37991 \nL 214.972784 209.001087 \nL 216.50225 210.297894 \nL 218.031715 210.182424 \nL 219.561181 208.831997 \nL 221.090646 209.401233 \nL 222.620112 209.252944 \nL 224.149577 209.552538 \nL 225.679043 209.299292 \nL 227.208508 210.071772 \nL 228.737974 210.379489 \nL 230.267439 209.707323 \nL 231.796905 210.041803 \nL 233.32637 209.259643 \nL 234.855836 210.262307 \nL 236.385302 210.913237 \nL 237.914767 209.233605 \nL 240.973698 209.900967 \nL 242.503164 209.079922 \nL 244.032629 210.201445 \nL 245.562095 208.695715 \nL 247.09156 208.719357 \nL 250.150491 209.259586 \nL 251.679957 209.705741 \nL 253.209422 209.763889 \nL 254.738888 208.881111 \nL 256.268353 209.216019 \nL 257.797819 208.56982 \nL 259.327284 209.072171 \nL 260.85675 208.524979 \nL 262.386215 208.13486 \nL 263.915681 209.215961 \nL 265.445146 209.160939 \nL 266.974612 207.738016 \nL 268.504077 209.577312 \nL 270.033543 209.965577 \nL 271.563008 209.731246 \nL 273.092474 209.161713 \nL 274.621939 209.041044 \nL 276.151405 208.774685 \nL 277.68087 209.052577 \nL 279.210336 208.743768 \nL 280.739801 208.766266 \nL 282.269267 208.476155 \nL 283.798732 205.053031 \nL 285.328198 209.700031 \nL 286.857663 209.100281 \nL 288.387129 208.24056 \nL 289.916594 208.517311 \nL 291.44606 206.316256 \nL 292.975525 207.229601 \nL 294.504991 208.686967 \nL 296.034456 207.592679 \nL 297.563922 207.697009 \nL 299.093387 206.751141 \nL 300.622853 207.402963 \nL 302.152318 207.84177 \nL 303.681784 206.473574 \nL 305.211249 206.185702 \nL 308.27018 208.633859 \nL 309.799646 207.976335 \nL 311.329111 208.827179 \nL 312.858577 208.609103 \nL 314.388042 208.812875 \nL 315.917508 208.546214 \nL 317.446974 209.672028 \nL 318.976439 208.197057 \nL 320.505905 209.626607 \nL 322.03537 208.56406 \nL 323.564836 208.857134 \nL 325.094301 207.803199 \nL 326.623767 208.732555 \nL 328.153232 209.836562 \nL 329.682698 206.830499 \nL 331.212163 207.816954 \nL 332.741629 206.365906 \nL 334.271094 208.875164 \nL 335.80056 207.880319 \nL 337.330025 207.950098 \nL 338.859491 208.249849 \nL 340.388956 207.42757 \nL 341.918422 208.514477 \nL 343.447887 208.28343 \nL 344.977353 208.348459 \nL 346.506818 207.86675 \nL 346.506818 207.86675 \n\" style=\"fill:none;stroke:#348abd;stroke-linecap:square;stroke-width:1.5;\"/>\n   </g>\n   <g id=\"patch_3\">\n    <path d=\"M 26.925 224.64 \nL 26.925 7.2 \n\" style=\"fill:none;stroke:#ffffff;stroke-linecap:square;stroke-linejoin:miter;\"/>\n   </g>\n   <g id=\"patch_4\">\n    <path d=\"M 361.725 224.64 \nL 361.725 7.2 \n\" style=\"fill:none;stroke:#ffffff;stroke-linecap:square;stroke-linejoin:miter;\"/>\n   </g>\n   <g id=\"patch_5\">\n    <path d=\"M 26.925 224.64 \nL 361.725 224.64 \n\" style=\"fill:none;stroke:#ffffff;stroke-linecap:square;stroke-linejoin:miter;\"/>\n   </g>\n   <g id=\"patch_6\">\n    <path d=\"M 26.925 7.2 \nL 361.725 7.2 \n\" style=\"fill:none;stroke:#ffffff;stroke-linecap:square;stroke-linejoin:miter;\"/>\n   </g>\n   <g id=\"legend_1\">\n    <g id=\"patch_7\">\n     <path d=\"M 230.403125 44.55625 \nL 354.725 44.55625 \nQ 356.725 44.55625 356.725 42.55625 \nL 356.725 14.2 \nQ 356.725 12.2 354.725 12.2 \nL 230.403125 12.2 \nQ 228.403125 12.2 228.403125 14.2 \nL 228.403125 42.55625 \nQ 228.403125 44.55625 230.403125 44.55625 \nz\n\" style=\"fill:#e5e5e5;opacity:0.8;stroke:#cccccc;stroke-linejoin:miter;stroke-width:0.5;\"/>\n    </g>\n    <g id=\"line2d_33\">\n     <path d=\"M 232.403125 20.298437 \nL 252.403125 20.298437 \n\" style=\"fill:none;stroke:#e24a33;stroke-linecap:square;stroke-width:1.5;\"/>\n    </g>\n    <g id=\"line2d_34\"/>\n    <g id=\"text_16\">\n     <!-- Generator loss -->\n     <g transform=\"translate(260.403125 23.798437)scale(0.1 -0.1)\">\n      <defs>\n       <path d=\"M 3809 666 \nL 3809 1919 \nL 2778 1919 \nL 2778 2438 \nL 4434 2438 \nL 4434 434 \nQ 4069 175 3628 42 \nQ 3188 -91 2688 -91 \nQ 1594 -91 976 548 \nQ 359 1188 359 2328 \nQ 359 3472 976 4111 \nQ 1594 4750 2688 4750 \nQ 3144 4750 3555 4637 \nQ 3966 4525 4313 4306 \nL 4313 3634 \nQ 3963 3931 3569 4081 \nQ 3175 4231 2741 4231 \nQ 1884 4231 1454 3753 \nQ 1025 3275 1025 2328 \nQ 1025 1384 1454 906 \nQ 1884 428 2741 428 \nQ 3075 428 3337 486 \nQ 3600 544 3809 666 \nz\n\" id=\"DejaVuSans-47\" transform=\"scale(0.015625)\"/>\n       <path d=\"M 3597 1894 \nL 3597 1613 \nL 953 1613 \nQ 991 1019 1311 708 \nQ 1631 397 2203 397 \nQ 2534 397 2845 478 \nQ 3156 559 3463 722 \nL 3463 178 \nQ 3153 47 2828 -22 \nQ 2503 -91 2169 -91 \nQ 1331 -91 842 396 \nQ 353 884 353 1716 \nQ 353 2575 817 3079 \nQ 1281 3584 2069 3584 \nQ 2775 3584 3186 3129 \nQ 3597 2675 3597 1894 \nz\nM 3022 2063 \nQ 3016 2534 2758 2815 \nQ 2500 3097 2075 3097 \nQ 1594 3097 1305 2825 \nQ 1016 2553 972 2059 \nL 3022 2063 \nz\n\" id=\"DejaVuSans-65\" transform=\"scale(0.015625)\"/>\n       <path d=\"M 3513 2113 \nL 3513 0 \nL 2938 0 \nL 2938 2094 \nQ 2938 2591 2744 2837 \nQ 2550 3084 2163 3084 \nQ 1697 3084 1428 2787 \nQ 1159 2491 1159 1978 \nL 1159 0 \nL 581 0 \nL 581 3500 \nL 1159 3500 \nL 1159 2956 \nQ 1366 3272 1645 3428 \nQ 1925 3584 2291 3584 \nQ 2894 3584 3203 3211 \nQ 3513 2838 3513 2113 \nz\n\" id=\"DejaVuSans-6e\" transform=\"scale(0.015625)\"/>\n       <path d=\"M 2631 2963 \nQ 2534 3019 2420 3045 \nQ 2306 3072 2169 3072 \nQ 1681 3072 1420 2755 \nQ 1159 2438 1159 1844 \nL 1159 0 \nL 581 0 \nL 581 3500 \nL 1159 3500 \nL 1159 2956 \nQ 1341 3275 1631 3429 \nQ 1922 3584 2338 3584 \nQ 2397 3584 2469 3576 \nQ 2541 3569 2628 3553 \nL 2631 2963 \nz\n\" id=\"DejaVuSans-72\" transform=\"scale(0.015625)\"/>\n       <path d=\"M 2194 1759 \nQ 1497 1759 1228 1600 \nQ 959 1441 959 1056 \nQ 959 750 1161 570 \nQ 1363 391 1709 391 \nQ 2188 391 2477 730 \nQ 2766 1069 2766 1631 \nL 2766 1759 \nL 2194 1759 \nz\nM 3341 1997 \nL 3341 0 \nL 2766 0 \nL 2766 531 \nQ 2569 213 2275 61 \nQ 1981 -91 1556 -91 \nQ 1019 -91 701 211 \nQ 384 513 384 1019 \nQ 384 1609 779 1909 \nQ 1175 2209 1959 2209 \nL 2766 2209 \nL 2766 2266 \nQ 2766 2663 2505 2880 \nQ 2244 3097 1772 3097 \nQ 1472 3097 1187 3025 \nQ 903 2953 641 2809 \nL 641 3341 \nQ 956 3463 1253 3523 \nQ 1550 3584 1831 3584 \nQ 2591 3584 2966 3190 \nQ 3341 2797 3341 1997 \nz\n\" id=\"DejaVuSans-61\" transform=\"scale(0.015625)\"/>\n       <path d=\"M 1172 4494 \nL 1172 3500 \nL 2356 3500 \nL 2356 3053 \nL 1172 3053 \nL 1172 1153 \nQ 1172 725 1289 603 \nQ 1406 481 1766 481 \nL 2356 481 \nL 2356 0 \nL 1766 0 \nQ 1100 0 847 248 \nQ 594 497 594 1153 \nL 594 3053 \nL 172 3053 \nL 172 3500 \nL 594 3500 \nL 594 4494 \nL 1172 4494 \nz\n\" id=\"DejaVuSans-74\" transform=\"scale(0.015625)\"/>\n       <path d=\"M 1959 3097 \nQ 1497 3097 1228 2736 \nQ 959 2375 959 1747 \nQ 959 1119 1226 758 \nQ 1494 397 1959 397 \nQ 2419 397 2687 759 \nQ 2956 1122 2956 1747 \nQ 2956 2369 2687 2733 \nQ 2419 3097 1959 3097 \nz\nM 1959 3584 \nQ 2709 3584 3137 3096 \nQ 3566 2609 3566 1747 \nQ 3566 888 3137 398 \nQ 2709 -91 1959 -91 \nQ 1206 -91 779 398 \nQ 353 888 353 1747 \nQ 353 2609 779 3096 \nQ 1206 3584 1959 3584 \nz\n\" id=\"DejaVuSans-6f\" transform=\"scale(0.015625)\"/>\n       <path id=\"DejaVuSans-20\" transform=\"scale(0.015625)\"/>\n       <path d=\"M 603 4863 \nL 1178 4863 \nL 1178 0 \nL 603 0 \nL 603 4863 \nz\n\" id=\"DejaVuSans-6c\" transform=\"scale(0.015625)\"/>\n       <path d=\"M 2834 3397 \nL 2834 2853 \nQ 2591 2978 2328 3040 \nQ 2066 3103 1784 3103 \nQ 1356 3103 1142 2972 \nQ 928 2841 928 2578 \nQ 928 2378 1081 2264 \nQ 1234 2150 1697 2047 \nL 1894 2003 \nQ 2506 1872 2764 1633 \nQ 3022 1394 3022 966 \nQ 3022 478 2636 193 \nQ 2250 -91 1575 -91 \nQ 1294 -91 989 -36 \nQ 684 19 347 128 \nL 347 722 \nQ 666 556 975 473 \nQ 1284 391 1588 391 \nQ 1994 391 2212 530 \nQ 2431 669 2431 922 \nQ 2431 1156 2273 1281 \nQ 2116 1406 1581 1522 \nL 1381 1569 \nQ 847 1681 609 1914 \nQ 372 2147 372 2553 \nQ 372 3047 722 3315 \nQ 1072 3584 1716 3584 \nQ 2034 3584 2315 3537 \nQ 2597 3491 2834 3397 \nz\n\" id=\"DejaVuSans-73\" transform=\"scale(0.015625)\"/>\n      </defs>\n      <use xlink:href=\"#DejaVuSans-47\"/>\n      <use x=\"77.490234\" xlink:href=\"#DejaVuSans-65\"/>\n      <use x=\"139.013672\" xlink:href=\"#DejaVuSans-6e\"/>\n      <use x=\"202.392578\" xlink:href=\"#DejaVuSans-65\"/>\n      <use x=\"263.916016\" xlink:href=\"#DejaVuSans-72\"/>\n      <use x=\"305.029297\" xlink:href=\"#DejaVuSans-61\"/>\n      <use x=\"366.308594\" xlink:href=\"#DejaVuSans-74\"/>\n      <use x=\"405.517578\" xlink:href=\"#DejaVuSans-6f\"/>\n      <use x=\"466.699219\" xlink:href=\"#DejaVuSans-72\"/>\n      <use x=\"507.8125\" xlink:href=\"#DejaVuSans-20\"/>\n      <use x=\"539.599609\" xlink:href=\"#DejaVuSans-6c\"/>\n      <use x=\"567.382812\" xlink:href=\"#DejaVuSans-6f\"/>\n      <use x=\"628.564453\" xlink:href=\"#DejaVuSans-73\"/>\n      <use x=\"680.664062\" xlink:href=\"#DejaVuSans-73\"/>\n     </g>\n    </g>\n    <g id=\"line2d_35\">\n     <path d=\"M 232.403125 34.976562 \nL 252.403125 34.976562 \n\" style=\"fill:none;stroke:#348abd;stroke-linecap:square;stroke-width:1.5;\"/>\n    </g>\n    <g id=\"line2d_36\"/>\n    <g id=\"text_17\">\n     <!-- Discriminator Loss -->\n     <g transform=\"translate(260.403125 38.476562)scale(0.1 -0.1)\">\n      <defs>\n       <path d=\"M 1259 4147 \nL 1259 519 \nL 2022 519 \nQ 2988 519 3436 956 \nQ 3884 1394 3884 2338 \nQ 3884 3275 3436 3711 \nQ 2988 4147 2022 4147 \nL 1259 4147 \nz\nM 628 4666 \nL 1925 4666 \nQ 3281 4666 3915 4102 \nQ 4550 3538 4550 2338 \nQ 4550 1131 3912 565 \nQ 3275 0 1925 0 \nL 628 0 \nL 628 4666 \nz\n\" id=\"DejaVuSans-44\" transform=\"scale(0.015625)\"/>\n       <path d=\"M 603 3500 \nL 1178 3500 \nL 1178 0 \nL 603 0 \nL 603 3500 \nz\nM 603 4863 \nL 1178 4863 \nL 1178 4134 \nL 603 4134 \nL 603 4863 \nz\n\" id=\"DejaVuSans-69\" transform=\"scale(0.015625)\"/>\n       <path d=\"M 3122 3366 \nL 3122 2828 \nQ 2878 2963 2633 3030 \nQ 2388 3097 2138 3097 \nQ 1578 3097 1268 2742 \nQ 959 2388 959 1747 \nQ 959 1106 1268 751 \nQ 1578 397 2138 397 \nQ 2388 397 2633 464 \nQ 2878 531 3122 666 \nL 3122 134 \nQ 2881 22 2623 -34 \nQ 2366 -91 2075 -91 \nQ 1284 -91 818 406 \nQ 353 903 353 1747 \nQ 353 2603 823 3093 \nQ 1294 3584 2113 3584 \nQ 2378 3584 2631 3529 \nQ 2884 3475 3122 3366 \nz\n\" id=\"DejaVuSans-63\" transform=\"scale(0.015625)\"/>\n       <path d=\"M 3328 2828 \nQ 3544 3216 3844 3400 \nQ 4144 3584 4550 3584 \nQ 5097 3584 5394 3201 \nQ 5691 2819 5691 2113 \nL 5691 0 \nL 5113 0 \nL 5113 2094 \nQ 5113 2597 4934 2840 \nQ 4756 3084 4391 3084 \nQ 3944 3084 3684 2787 \nQ 3425 2491 3425 1978 \nL 3425 0 \nL 2847 0 \nL 2847 2094 \nQ 2847 2600 2669 2842 \nQ 2491 3084 2119 3084 \nQ 1678 3084 1418 2786 \nQ 1159 2488 1159 1978 \nL 1159 0 \nL 581 0 \nL 581 3500 \nL 1159 3500 \nL 1159 2956 \nQ 1356 3278 1631 3431 \nQ 1906 3584 2284 3584 \nQ 2666 3584 2933 3390 \nQ 3200 3197 3328 2828 \nz\n\" id=\"DejaVuSans-6d\" transform=\"scale(0.015625)\"/>\n       <path d=\"M 628 4666 \nL 1259 4666 \nL 1259 531 \nL 3531 531 \nL 3531 0 \nL 628 0 \nL 628 4666 \nz\n\" id=\"DejaVuSans-4c\" transform=\"scale(0.015625)\"/>\n      </defs>\n      <use xlink:href=\"#DejaVuSans-44\"/>\n      <use x=\"77.001953\" xlink:href=\"#DejaVuSans-69\"/>\n      <use x=\"104.785156\" xlink:href=\"#DejaVuSans-73\"/>\n      <use x=\"156.884766\" xlink:href=\"#DejaVuSans-63\"/>\n      <use x=\"211.865234\" xlink:href=\"#DejaVuSans-72\"/>\n      <use x=\"252.978516\" xlink:href=\"#DejaVuSans-69\"/>\n      <use x=\"280.761719\" xlink:href=\"#DejaVuSans-6d\"/>\n      <use x=\"378.173828\" xlink:href=\"#DejaVuSans-69\"/>\n      <use x=\"405.957031\" xlink:href=\"#DejaVuSans-6e\"/>\n      <use x=\"469.335938\" xlink:href=\"#DejaVuSans-61\"/>\n      <use x=\"530.615234\" xlink:href=\"#DejaVuSans-74\"/>\n      <use x=\"569.824219\" xlink:href=\"#DejaVuSans-6f\"/>\n      <use x=\"631.005859\" xlink:href=\"#DejaVuSans-72\"/>\n      <use x=\"672.119141\" xlink:href=\"#DejaVuSans-20\"/>\n      <use x=\"703.90625\" xlink:href=\"#DejaVuSans-4c\"/>\n      <use x=\"757.869141\" xlink:href=\"#DejaVuSans-6f\"/>\n      <use x=\"819.050781\" xlink:href=\"#DejaVuSans-73\"/>\n      <use x=\"871.150391\" xlink:href=\"#DejaVuSans-73\"/>\n     </g>\n    </g>\n   </g>\n  </g>\n </g>\n <defs>\n  <clipPath id=\"pa49c4b6906\">\n   <rect height=\"217.44\" width=\"334.8\" x=\"26.925\" y=\"7.2\"/>\n  </clipPath>\n </defs>\n</svg>\n",
            "image/png": "[encoded data removed]"
          },
          "metadata": {}
        }
      ]
    },
    {
      "cell_type": "code",
      "metadata": {
        "id": "ZE4GO9YDfash"
      },
      "source": [],
      "execution_count": null,
      "outputs": []
    }
  ]
}