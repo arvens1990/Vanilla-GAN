{
  "nbformat": 4,
  "nbformat_minor": 0,
  "metadata": {
    "colab": {
      "name": "problem_2_unrolled_gan.ipynb",
      "provenance": []
    },
    "kernelspec": {
      "name": "python382jvsc74a57bd0a94883f8812057f41bf7c0f7649a41127778eaf25b6b91e0966940eb42cb8f65",
      "display_name": "Python 3.8.2 64-bit ('HW3': virtualenvwrapper)"
    },
    "language_info": {
      "name": "python",
      "version": "3.8.2"
    },
    "accelerator": "GPU",
    "metadata": {
      "interpreter": {
        "hash": "a94883f8812057f41bf7c0f7649a41127778eaf25b6b91e0966940eb42cb8f65"
      }
    }
  },
  "cells": [
    {
      "cell_type": "code",
      "metadata": {
        "colab": {
          "base_uri": "https://localhost:8080/"
        },
        "id": "1t3QWTo82IWJ",
        "outputId": "51e43caa-f730-4b9b-eabd-1c56bf5fe5e2"
      },
      "source": [
        "# from google.colab import drive\n",
        "# drive.mount('/content/drive')"
      ],
      "execution_count": 1,
      "outputs": []
    },
    {
      "cell_type": "code",
      "metadata": {
        "colab": {
          "base_uri": "https://localhost:8080/",
          "height": 235
        },
        "id": "mOn_JyJ7CVmi",
        "outputId": "3a2922c7-ee19-4e4b-d9d7-35770f79ec1e"
      },
      "source": [
        "# # clear shared RAM (Colab shares RAM and GPU with other user sessions, this guarantees all resources allocated to this session)\n",
        "# # memory footprint support libraries/code\n",
        "# !ln -sf /opt/bin/nvidia-smi /usr/bin/nvidia-smi\n",
        "# !pip install gputil --quiet\n",
        "# !pip install psutil --quiet\n",
        "# !pip install humanize --quiet\n",
        "# import psutil\n",
        "# import humanize\n",
        "# import os\n",
        "# import GPUtil as GPU\n",
        "# GPUs = GPU.getGPUs()\n",
        "# # only one GPU on Colab and isn't guaranteed\n",
        "# gpu = GPUs[0]\n",
        "# proc = psutil.Process(os.getpid())\n",
        "# print(\"Gen RAM Free: \" + humanize.naturalsize(psutil.virtual_memory().available), \" | Proc size: \" + humanize.naturalsize(proc.memory_info().rss))\n",
        "# print(\"GPU RAM Free: {0:.0f}MB | Used: {1:.0f}MB | Util {2:3.0f}% | Total {3:.0f}MB\".format(gpu.memoryFree, gpu.memoryUsed, gpu.memoryUtil*100, gpu.memoryTotal))"
      ],
      "execution_count": 2,
      "outputs": []
    },
    {
      "cell_type": "code",
      "metadata": {
        "id": "NxMVkEcI2k4u"
      },
      "source": [
        "import numpy as np\n",
        "import pandas as pd\n",
        "import torch\n",
        "import torchvision as tv\n",
        "import re\n",
        "import time\n",
        "from torch.utils.data import DataLoader, TensorDataset\n",
        "from torch.nn import Module, GRU, Embedding, Linear, Sigmoid, CrossEntropyLoss, ReLU, Tanh, Sequential\n",
        "from torch import nn\n",
        "from torchvision import transforms\n",
        "import torch.optim as optim\n",
        "from torchvision.utils import make_grid, save_image\n",
        "from tqdm import tqdm\n",
        "import torch\n",
        "import torch.nn as nn\n",
        "import torchvision.transforms as transforms\n",
        "import torch.optim as optim\n",
        "import torchvision.datasets as datasets\n",
        "import imageio\n",
        "import numpy as np\n",
        "import matplotlib\n",
        "from torchvision.utils import make_grid, save_image\n",
        "from torch.utils.data import DataLoader\n",
        "from matplotlib import pyplot as plt\n",
        "from tqdm import tqdm\n",
        "import copy\n",
        "matplotlib.style.use('ggplot')"
      ],
      "execution_count": 3,
      "outputs": []
    },
    {
      "cell_type": "code",
      "metadata": {
        "id": "gGIf8C6GB7-5"
      },
      "source": [
        "# learning parameters\n",
        "batch_size = 512\n",
        "epochs = 200\n",
        "sample_size = 64 # fixed sample size\n",
        "nz = 128 # latent vector size\n",
        "k = 1 # number of steps to apply to the discriminator\n",
        "device = torch.device('cuda' if torch.cuda.is_available() else 'cpu')"
      ],
      "execution_count": 4,
      "outputs": []
    },
    {
      "cell_type": "code",
      "metadata": {
        "id": "5ldDzsOLBPMJ"
      },
      "source": [
        "transform = transforms.Compose([\n",
        "                                transforms.ToTensor(),\n",
        "                                transforms.Normalize((0.5,),(0.5,)),\n",
        "])\n",
        "to_pil_image = transforms.ToPILImage()"
      ],
      "execution_count": 5,
      "outputs": []
    },
    {
      "cell_type": "code",
      "metadata": {
        "id": "KmNXt6n12wRu"
      },
      "source": [
        "fmnist = datasets.FashionMNIST(root='./', train=True, download=True, transform=transform)\n",
        "data_loader = DataLoader(fmnist, batch_size=batch_size, shuffle=True)"
      ],
      "execution_count": 6,
      "outputs": []
    },
    {
      "cell_type": "code",
      "metadata": {
        "id": "peaMJAPx4ss5"
      },
      "source": [
        "class Generator(Module):\n",
        "    def __init__(self, nz):\n",
        "        super(Generator, self).__init__()\n",
        "        self.nz = nz\n",
        "        self.main = Sequential(\n",
        "            Linear(self.nz, 256),\n",
        "            ReLU(),\n",
        "\n",
        "            Linear(256, 512),\n",
        "            ReLU(),\n",
        "\n",
        "            Linear(512, 784),\n",
        "            Tanh(),\n",
        "        )\n",
        "\n",
        "    def forward(self, x):\n",
        "        return self.main(x).view(-1, 1, 28, 28)\n"
      ],
      "execution_count": 7,
      "outputs": []
    },
    {
      "cell_type": "code",
      "metadata": {
        "id": "1oJcazUH8iDS"
      },
      "source": [
        "class Discriminator(Module):\n",
        "    def __init__(self):\n",
        "        super(Discriminator, self).__init__()\n",
        "        self.n_input = 784\n",
        "        self.main = Sequential(\n",
        "            Linear(self.n_input, 1024),\n",
        "            ReLU(),\n",
        "            Linear(1024, 512),\n",
        "            ReLU(),\n",
        "            Linear(512, 1),\n",
        "            nn.Sigmoid(),\n",
        "        )\n",
        "    def forward(self, x):\n",
        "        x = x.view(-1, 784)\n",
        "        return self.main(x)"
      ],
      "execution_count": 8,
      "outputs": []
    },
    {
      "cell_type": "markdown",
      "metadata": {
        "id": "7adj8WbJ9qpH"
      },
      "source": [
        "Initialize the Neural Networks and Define the Optimizers"
      ]
    },
    {
      "cell_type": "code",
      "metadata": {
        "colab": {
          "base_uri": "https://localhost:8080/"
        },
        "id": "p51ZeaQa9Vge",
        "outputId": "8e23ab2d-5361-48f4-b774-3878420f416c"
      },
      "source": [
        "\n",
        "\n",
        "generator = Generator(nz).to(device)\n",
        "discriminator = Discriminator().to(device)\n",
        "# unrolled_discriminator = Discriminator().to(device)\n",
        "print('##### GENERATOR #####')\n",
        "print(generator)\n",
        "print('######################')\n",
        "print('\\n##### DISCRIMINATOR #####')\n",
        "print(discriminator)\n",
        "print('######################')\n",
        "# print('\\n##### UNROLLED DISCRIMINATOR #####')\n",
        "# print(unrolled_discriminator)\n",
        "# print('######################')"
      ],
      "execution_count": 9,
      "outputs": [
        {
          "output_type": "stream",
          "name": "stdout",
          "text": [
            "##### GENERATOR #####\nGenerator(\n  (main): Sequential(\n    (0): Linear(in_features=128, out_features=256, bias=True)\n    (1): ReLU()\n    (2): Linear(in_features=256, out_features=512, bias=True)\n    (3): ReLU()\n    (4): Linear(in_features=512, out_features=784, bias=True)\n    (5): Tanh()\n  )\n)\n######################\n\n##### DISCRIMINATOR #####\nDiscriminator(\n  (main): Sequential(\n    (0): Linear(in_features=784, out_features=1024, bias=True)\n    (1): ReLU()\n    (2): Linear(in_features=1024, out_features=512, bias=True)\n    (3): ReLU()\n    (4): Linear(in_features=512, out_features=1, bias=True)\n    (5): Sigmoid()\n  )\n)\n######################\n"
          ]
        }
      ]
    },
    {
      "cell_type": "code",
      "metadata": {
        "id": "ZKlcQe_n-bHR"
      },
      "source": [
        "# optimizers\n",
        "\n",
        "optim_g = optim.Adam(generator.parameters(), lr=0.0002)\n",
        "optim_d = optim.Adam(discriminator.parameters(), lr=0.0002)\n",
        "optim_ud = optim.Adam(discriminator.parameters(), lr=0.0002)"
      ],
      "execution_count": 10,
      "outputs": []
    },
    {
      "cell_type": "code",
      "metadata": {
        "id": "rPNn0bai-r8-"
      },
      "source": [
        "# loss function\n",
        "criterion = nn.BCELoss()\n"
      ],
      "execution_count": 11,
      "outputs": []
    },
    {
      "cell_type": "code",
      "metadata": {
        "id": "mQJ7sr__-yEb"
      },
      "source": [
        "losses_g = [] # to store generator loss after each epoch\n",
        "losses_d = [] # to store discriminator loss after each epoch\n",
        "lossed_ud = []\n",
        "images = [] # to store images generatd by the generator"
      ],
      "execution_count": 12,
      "outputs": []
    },
    {
      "cell_type": "code",
      "metadata": {
        "id": "g5L3H3nt_Pny"
      },
      "source": [
        "# to create real labels (1s)\n",
        "def label_real(size):\n",
        "    data = torch.ones(size, 1)\n",
        "    return data.to(device)\n",
        "# to create fake labels (0s)\n",
        "def label_fake(size):\n",
        "    data = torch.zeros(size, 1)\n",
        "    return data.to(device)"
      ],
      "execution_count": 13,
      "outputs": []
    },
    {
      "cell_type": "code",
      "metadata": {
        "id": "n0BoEe0__VJf"
      },
      "source": [
        "def create_noise(sample_size, nz):\n",
        "    return torch.randn(sample_size, nz).to(device)"
      ],
      "execution_count": 14,
      "outputs": []
    },
    {
      "cell_type": "code",
      "metadata": {
        "id": "Xu4X0hef_ZV-"
      },
      "source": [
        "# to save the images generated by the generator\n",
        "def save_generator_image(image, path):\n",
        "    save_image(image, path)"
      ],
      "execution_count": 15,
      "outputs": []
    },
    {
      "cell_type": "code",
      "metadata": {
        "id": "f2Qqdkv4_qXO"
      },
      "source": [
        "# function to train the discriminator network\n",
        "def train_discriminator(optimizer, data_real, data_fake, discriminator):\n",
        "    b_size = data_real.size(0)\n",
        "    real_label = label_real(b_size)\n",
        "    fake_label = label_fake(b_size)\n",
        "    optimizer.zero_grad()\n",
        "    output_real = discriminator(data_real)\n",
        "    loss_real = criterion(output_real, real_label)\n",
        "    output_fake = discriminator(data_fake)\n",
        "    loss_fake = criterion(output_fake, fake_label)\n",
        "    loss_real.backward()\n",
        "    loss_fake.backward()\n",
        "    optimizer.step()\n",
        "    return loss_real + loss_fake"
      ],
      "execution_count": 16,
      "outputs": []
    },
    {
      "cell_type": "code",
      "metadata": {
        "id": "ANvhtzh1_3eu"
      },
      "source": [
        "# function to train the generator network\n",
        "def train_generator(optimizer, data_fake, discriminator):\n",
        "    b_size = data_fake.size(0)\n",
        "    real_label = label_real(b_size)\n",
        "    optimizer.zero_grad()\n",
        "    output = discriminator(data_fake)\n",
        "    loss = criterion(output, real_label)\n",
        "    loss.backward()\n",
        "    optimizer.step()\n",
        "    return loss"
      ],
      "execution_count": 17,
      "outputs": []
    },
    {
      "cell_type": "code",
      "metadata": {
        "colab": {
          "base_uri": "https://localhost:8080/"
        },
        "id": "tT0w5o2-_5k3",
        "outputId": "d8c6bc76-69a9-492d-e322-6b05345e2a9d"
      },
      "source": [
        "# create the noise vector\n",
        "noise = create_noise(sample_size, nz)\n",
        "generator.train()\n",
        "discriminator.train()"
      ],
      "execution_count": 18,
      "outputs": [
        {
          "output_type": "execute_result",
          "data": {
            "text/plain": [
              "Discriminator(\n",
              "  (main): Sequential(\n",
              "    (0): Linear(in_features=784, out_features=1024, bias=True)\n",
              "    (1): ReLU()\n",
              "    (2): Linear(in_features=1024, out_features=512, bias=True)\n",
              "    (3): ReLU()\n",
              "    (4): Linear(in_features=512, out_features=1, bias=True)\n",
              "    (5): Sigmoid()\n",
              "  )\n",
              ")"
            ]
          },
          "metadata": {},
          "execution_count": 18
        }
      ]
    },
    {
      "cell_type": "code",
      "metadata": {
        "colab": {
          "base_uri": "https://localhost:8080/"
        },
        "id": "kc2K7_CUAULN",
        "outputId": "f0559880-398d-49fb-8768-aa11b20fdf89"
      },
      "source": [
        "# path = \"/content/drive/MyDrive/Deep_Learning/HW3/outputs_unrolled_gan/\"\n",
        "path = \"./models/unrolled/\"\n",
        "epochs = 200\n",
        "# k = 10\n",
        "\n",
        "losses_g = [] # to store generator loss after each epoch\n",
        "losses_d = [] # to store discriminator loss after each epoch\n",
        "losses_ud = []\n",
        "images = [] # to store images generatd by the generator\n",
        "length = 0.\n",
        "\n",
        "for epoch in range(epochs):\n",
        "    start = time.time()\n",
        "    # length = 0.\n",
        "    loss_g = 0.0\n",
        "    loss_d = 0.0\n",
        "    loss_ud = 0.\n",
        "    for bi, data in enumerate(data_loader):\n",
        "        image, _ = data\n",
        "        image = image.to(device)\n",
        "        b_size = len(image)\n",
        "        # run the discriminator for k number of steps\n",
        "        for step in range(k):\n",
        "            # print(create_noise(b_size, nz).shape)\n",
        "            data_fake = generator(create_noise(b_size, nz)).detach()\n",
        "            data_real = image\n",
        "            # train the discriminator network\n",
        "            loss_d += train_discriminator(optim_d, data_real, data_fake, discriminator)\n",
        "\n",
        "            # unroll\n",
        "            unrolled_discriminator = copy.deepcopy(discriminator)\n",
        "            # print(unrolled_discriminator)\n",
        "            loss_ud += train_discriminator(optim_ud, data_real, data_fake, unrolled_discriminator)\n",
        "            \n",
        "\n",
        "        data_fake = generator(create_noise(b_size, nz))\n",
        "        # train the generator network\n",
        "        loss_g += train_generator(optim_g, data_fake, unrolled_discriminator)\n",
        "        del unrolled_discriminator\n",
        "    # create the final fake image for the epoch\n",
        "    if epoch%20==0:\n",
        "        generated_img = generator(noise).cpu().detach()\n",
        "        # make the images as grid\n",
        "        generated_img = make_grid(generated_img)\n",
        "        # save the generated torch tensor models to disk\n",
        "        save_generator_image(generated_img, path + f\"gen_img{epoch}.png\")\n",
        "    images.append(generated_img)\n",
        "    epoch_loss_g = loss_g / bi # total generator loss for the epoch\n",
        "    epoch_loss_d = loss_d / bi # total discriminator loss for the epoch\n",
        "    epoch_loss_ud = loss_ud / bi\n",
        "    losses_g.append(epoch_loss_g)\n",
        "    losses_d.append(epoch_loss_d)\n",
        "    losses_ud.append(epoch_loss_ud)\n",
        "    end = time.time() - start\n",
        "    length += end\n",
        "    mean_so_far = length / (epoch+1)\n",
        "    time_left = (mean_so_far * (epochs - epoch - 1))/60\n",
        "    \n",
        "    print(f\"Epoch {epoch} of {epochs}:\\t\\t{end:.2f} seconds;\\ttotal: {length:.2f};\\tminutes left: {time_left:.2f}\")\n",
        "    print(f\"Generator loss: {epoch_loss_g:.8f}, Discriminator loss: {epoch_loss_d:.5f}, Unrolled Discriminator loss: {epoch_loss_ud:.5f}\")"
      ],
      "execution_count": 2,
      "outputs": []
    },
    {
      "cell_type": "code",
      "execution_count": null,
      "metadata": {},
      "outputs": [],
      "source": [
        "discriminator"
      ]
    },
    {
      "cell_type": "code",
      "metadata": {
        "id": "NV1Vtj8JYOla"
      },
      "source": [
        "print('DONE TRAINING')\n",
        "torch.save(generator.state_dict(), path + 'generator.pth')\n",
        "path"
      ],
      "execution_count": 1,
      "outputs": []
    },
    {
      "cell_type": "code",
      "metadata": {
        "id": "II3WYevue4FW"
      },
      "source": [
        "imgs = [np.array(to_pil_image(img)) for img in images]\n",
        "imageio.mimsave(path + 'generator_images.gif', imgs)"
      ],
      "execution_count": 22,
      "outputs": []
    },
    {
      "cell_type": "code",
      "metadata": {
        "colab": {
          "base_uri": "https://localhost:8080/",
          "height": 265
        },
        "id": "vQTiNztJfVpt",
        "outputId": "78767a7f-79ac-4366-f16f-eae67e5a96a8"
      },
      "source": [
        "plt.figure()\n",
        "plt.plot(losses_g, label='Generator loss')\n",
        "plt.plot(losses_d, label='Discriminator Loss')\n",
        "plt.legend()\n",
        "plt.savefig(path + 'loss.png')"
      ],
      "execution_count": null,
      "outputs": []
    },
    {
      "cell_type": "code",
      "metadata": {
        "id": "ZE4GO9YDfash"
      },
      "source": [],
      "execution_count": null,
      "outputs": []
    }
  ]
}