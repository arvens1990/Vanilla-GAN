{
  "nbformat": 4,
  "nbformat_minor": 0,
  "metadata": {
    "colab": {
      "name": "problem_2_unrolled_gan.ipynb",
      "provenance": []
    },
    "kernelspec": {
      "name": "python382jvsc74a57bd0a94883f8812057f41bf7c0f7649a41127778eaf25b6b91e0966940eb42cb8f65",
      "display_name": "Python 3.8.2 64-bit ('HW3': virtualenvwrapper)"
    },
    "language_info": {
      "name": "python",
      "version": "3.8.2"
    },
    "accelerator": "GPU",
    "metadata": {
      "interpreter": {
        "hash": "a94883f8812057f41bf7c0f7649a41127778eaf25b6b91e0966940eb42cb8f65"
      }
    }
  },
  "cells": [
    {
      "cell_type": "code",
      "metadata": {
        "colab": {
          "base_uri": "https://localhost:8080/"
        },
        "id": "1t3QWTo82IWJ",
        "outputId": "51e43caa-f730-4b9b-eabd-1c56bf5fe5e2"
      },
      "source": [
        "# from google.colab import drive\n",
        "# drive.mount('/content/drive')"
      ],
      "execution_count": 1,
      "outputs": []
    },
    {
      "cell_type": "code",
      "metadata": {
        "colab": {
          "base_uri": "https://localhost:8080/",
          "height": 235
        },
        "id": "mOn_JyJ7CVmi",
        "outputId": "3a2922c7-ee19-4e4b-d9d7-35770f79ec1e"
      },
      "source": [
        "# # clear shared RAM (Colab shares RAM and GPU with other user sessions, this guarantees all resources allocated to this session)\n",
        "# # memory footprint support libraries/code\n",
        "# !ln -sf /opt/bin/nvidia-smi /usr/bin/nvidia-smi\n",
        "# !pip install gputil --quiet\n",
        "# !pip install psutil --quiet\n",
        "# !pip install humanize --quiet\n",
        "# import psutil\n",
        "# import humanize\n",
        "# import os\n",
        "# import GPUtil as GPU\n",
        "# GPUs = GPU.getGPUs()\n",
        "# # only one GPU on Colab and isn't guaranteed\n",
        "# gpu = GPUs[0]\n",
        "# proc = psutil.Process(os.getpid())\n",
        "# print(\"Gen RAM Free: \" + humanize.naturalsize(psutil.virtual_memory().available), \" | Proc size: \" + humanize.naturalsize(proc.memory_info().rss))\n",
        "# print(\"GPU RAM Free: {0:.0f}MB | Used: {1:.0f}MB | Util {2:3.0f}% | Total {3:.0f}MB\".format(gpu.memoryFree, gpu.memoryUsed, gpu.memoryUtil*100, gpu.memoryTotal))"
      ],
      "execution_count": 2,
      "outputs": []
    },
    {
      "cell_type": "code",
      "metadata": {
        "id": "NxMVkEcI2k4u"
      },
      "source": [
        "import numpy as np\n",
        "import pandas as pd\n",
        "import torch\n",
        "import torchvision as tv\n",
        "import re\n",
        "import time\n",
        "from torch.utils.data import DataLoader, TensorDataset\n",
        "from torch.nn import Module, GRU, Embedding, Linear, Sigmoid, CrossEntropyLoss, ReLU, Tanh, Sequential\n",
        "from torch import nn\n",
        "from torchvision import transforms\n",
        "import torch.optim as optim\n",
        "from torchvision.utils import make_grid, save_image\n",
        "from tqdm import tqdm\n",
        "import torch\n",
        "import torch.nn as nn\n",
        "import torchvision.transforms as transforms\n",
        "import torch.optim as optim\n",
        "import torchvision.datasets as datasets\n",
        "import imageio\n",
        "import numpy as np\n",
        "import matplotlib\n",
        "from torchvision.utils import make_grid, save_image\n",
        "from torch.utils.data import DataLoader\n",
        "from matplotlib import pyplot as plt\n",
        "from tqdm import tqdm\n",
        "import copy\n",
        "matplotlib.style.use('ggplot')"
      ],
      "execution_count": 3,
      "outputs": []
    },
    {
      "cell_type": "code",
      "metadata": {
        "id": "gGIf8C6GB7-5"
      },
      "source": [
        "# learning parameters\n",
        "batch_size = 512\n",
        "epochs = 200\n",
        "sample_size = 64 # fixed sample size\n",
        "nz = 128 # latent vector size\n",
        "k = 1 # number of steps to apply to the discriminator\n",
        "device = torch.device('cuda' if torch.cuda.is_available() else 'cpu')"
      ],
      "execution_count": 4,
      "outputs": []
    },
    {
      "cell_type": "code",
      "metadata": {
        "id": "5ldDzsOLBPMJ"
      },
      "source": [
        "transform = transforms.Compose([\n",
        "                                transforms.ToTensor(),\n",
        "                                transforms.Normalize((0.5,),(0.5,)),\n",
        "])\n",
        "to_pil_image = transforms.ToPILImage()"
      ],
      "execution_count": 5,
      "outputs": []
    },
    {
      "cell_type": "code",
      "metadata": {
        "id": "KmNXt6n12wRu"
      },
      "source": [
        "fmnist = datasets.FashionMNIST(root='./', train=True, download=True, transform=transform)\n",
        "data_loader = DataLoader(fmnist, batch_size=batch_size, shuffle=True)"
      ],
      "execution_count": 6,
      "outputs": []
    },
    {
      "cell_type": "code",
      "metadata": {
        "id": "peaMJAPx4ss5"
      },
      "source": [
        "class Generator(Module):\n",
        "    def __init__(self, nz):\n",
        "        super(Generator, self).__init__()\n",
        "        self.nz = nz\n",
        "        self.main = Sequential(\n",
        "            Linear(self.nz, 256),\n",
        "            ReLU(),\n",
        "\n",
        "            Linear(256, 512),\n",
        "            ReLU(),\n",
        "\n",
        "            Linear(512, 784),\n",
        "            Tanh(),\n",
        "        )\n",
        "\n",
        "    def forward(self, x):\n",
        "        return self.main(x).view(-1, 1, 28, 28)\n"
      ],
      "execution_count": 7,
      "outputs": []
    },
    {
      "cell_type": "code",
      "metadata": {
        "id": "1oJcazUH8iDS"
      },
      "source": [
        "class Discriminator(Module):\n",
        "    def __init__(self):\n",
        "        super(Discriminator, self).__init__()\n",
        "        self.n_input = 784\n",
        "        self.main = Sequential(\n",
        "            Linear(self.n_input, 1024),\n",
        "            ReLU(),\n",
        "            Linear(1024, 512),\n",
        "            ReLU(),\n",
        "            Linear(512, 1),\n",
        "            nn.Sigmoid(),\n",
        "        )\n",
        "    def forward(self, x):\n",
        "        x = x.view(-1, 784)\n",
        "        return self.main(x)"
      ],
      "execution_count": 8,
      "outputs": []
    },
    {
      "cell_type": "markdown",
      "metadata": {
        "id": "7adj8WbJ9qpH"
      },
      "source": [
        "Initialize the Neural Networks and Define the Optimizers"
      ]
    },
    {
      "cell_type": "code",
      "metadata": {
        "colab": {
          "base_uri": "https://localhost:8080/"
        },
        "id": "p51ZeaQa9Vge",
        "outputId": "8e23ab2d-5361-48f4-b774-3878420f416c"
      },
      "source": [
        "\n",
        "\n",
        "generator = Generator(nz).to(device)\n",
        "discriminator = Discriminator().to(device)\n",
        "# unrolled_discriminator = Discriminator().to(device)\n",
        "print('##### GENERATOR #####')\n",
        "print(generator)\n",
        "print('######################')\n",
        "print('\\n##### DISCRIMINATOR #####')\n",
        "print(discriminator)\n",
        "print('######################')\n",
        "# print('\\n##### UNROLLED DISCRIMINATOR #####')\n",
        "# print(unrolled_discriminator)\n",
        "# print('######################')"
      ],
      "execution_count": 9,
      "outputs": [
        {
          "output_type": "stream",
          "name": "stdout",
          "text": [
            "##### GENERATOR #####\nGenerator(\n  (main): Sequential(\n    (0): Linear(in_features=128, out_features=256, bias=True)\n    (1): ReLU()\n    (2): Linear(in_features=256, out_features=512, bias=True)\n    (3): ReLU()\n    (4): Linear(in_features=512, out_features=784, bias=True)\n    (5): Tanh()\n  )\n)\n######################\n\n##### DISCRIMINATOR #####\nDiscriminator(\n  (main): Sequential(\n    (0): Linear(in_features=784, out_features=1024, bias=True)\n    (1): ReLU()\n    (2): Linear(in_features=1024, out_features=512, bias=True)\n    (3): ReLU()\n    (4): Linear(in_features=512, out_features=1, bias=True)\n    (5): Sigmoid()\n  )\n)\n######################\n"
          ]
        }
      ]
    },
    {
      "cell_type": "code",
      "metadata": {
        "id": "ZKlcQe_n-bHR"
      },
      "source": [
        "# optimizers\n",
        "\n",
        "optim_g = optim.Adam(generator.parameters(), lr=0.0002)\n",
        "optim_d = optim.Adam(discriminator.parameters(), lr=0.0002)\n",
        "optim_ud = optim.Adam(discriminator.parameters(), lr=0.0002)"
      ],
      "execution_count": 10,
      "outputs": []
    },
    {
      "cell_type": "code",
      "metadata": {
        "id": "rPNn0bai-r8-"
      },
      "source": [
        "# loss function\n",
        "criterion = nn.BCELoss()\n"
      ],
      "execution_count": 11,
      "outputs": []
    },
    {
      "cell_type": "code",
      "metadata": {
        "id": "mQJ7sr__-yEb"
      },
      "source": [
        "losses_g = [] # to store generator loss after each epoch\n",
        "losses_d = [] # to store discriminator loss after each epoch\n",
        "lossed_ud = []\n",
        "images = [] # to store images generatd by the generator"
      ],
      "execution_count": 12,
      "outputs": []
    },
    {
      "cell_type": "code",
      "metadata": {
        "id": "g5L3H3nt_Pny"
      },
      "source": [
        "# to create real labels (1s)\n",
        "def label_real(size):\n",
        "    data = torch.ones(size, 1)\n",
        "    return data.to(device)\n",
        "# to create fake labels (0s)\n",
        "def label_fake(size):\n",
        "    data = torch.zeros(size, 1)\n",
        "    return data.to(device)"
      ],
      "execution_count": 13,
      "outputs": []
    },
    {
      "cell_type": "code",
      "metadata": {
        "id": "n0BoEe0__VJf"
      },
      "source": [
        "def create_noise(sample_size, nz):\n",
        "    return torch.randn(sample_size, nz).to(device)"
      ],
      "execution_count": 14,
      "outputs": []
    },
    {
      "cell_type": "code",
      "metadata": {
        "id": "Xu4X0hef_ZV-"
      },
      "source": [
        "# to save the images generated by the generator\n",
        "def save_generator_image(image, path):\n",
        "    save_image(image, path)"
      ],
      "execution_count": 15,
      "outputs": []
    },
    {
      "cell_type": "code",
      "metadata": {
        "id": "f2Qqdkv4_qXO"
      },
      "source": [
        "# function to train the discriminator network\n",
        "def train_discriminator(optimizer, data_real, data_fake, discriminator):\n",
        "    b_size = data_real.size(0)\n",
        "    real_label = label_real(b_size)\n",
        "    fake_label = label_fake(b_size)\n",
        "    optimizer.zero_grad()\n",
        "    output_real = discriminator(data_real)\n",
        "    loss_real = criterion(output_real, real_label)\n",
        "    output_fake = discriminator(data_fake)\n",
        "    loss_fake = criterion(output_fake, fake_label)\n",
        "    loss_real.backward()\n",
        "    loss_fake.backward()\n",
        "    optimizer.step()\n",
        "    return loss_real + loss_fake"
      ],
      "execution_count": 16,
      "outputs": []
    },
    {
      "cell_type": "code",
      "metadata": {
        "id": "ANvhtzh1_3eu"
      },
      "source": [
        "# function to train the generator network\n",
        "def train_generator(optimizer, data_fake, discriminator):\n",
        "    b_size = data_fake.size(0)\n",
        "    real_label = label_real(b_size)\n",
        "    optimizer.zero_grad()\n",
        "    output = discriminator(data_fake)\n",
        "    loss = criterion(output, real_label)\n",
        "    loss.backward()\n",
        "    optimizer.step()\n",
        "    return loss"
      ],
      "execution_count": 17,
      "outputs": []
    },
    {
      "cell_type": "code",
      "metadata": {
        "colab": {
          "base_uri": "https://localhost:8080/"
        },
        "id": "tT0w5o2-_5k3",
        "outputId": "d8c6bc76-69a9-492d-e322-6b05345e2a9d"
      },
      "source": [
        "# create the noise vector\n",
        "noise = create_noise(sample_size, nz)\n",
        "generator.train()\n",
        "discriminator.train()"
      ],
      "execution_count": 18,
      "outputs": [
        {
          "output_type": "execute_result",
          "data": {
            "text/plain": [
              "Discriminator(\n",
              "  (main): Sequential(\n",
              "    (0): Linear(in_features=784, out_features=1024, bias=True)\n",
              "    (1): ReLU()\n",
              "    (2): Linear(in_features=1024, out_features=512, bias=True)\n",
              "    (3): ReLU()\n",
              "    (4): Linear(in_features=512, out_features=1, bias=True)\n",
              "    (5): Sigmoid()\n",
              "  )\n",
              ")"
            ]
          },
          "metadata": {},
          "execution_count": 18
        }
      ]
    },
    {
      "cell_type": "code",
      "metadata": {
        "colab": {
          "base_uri": "https://localhost:8080/"
        },
        "id": "kc2K7_CUAULN",
        "outputId": "f0559880-398d-49fb-8768-aa11b20fdf89"
      },
      "source": [
        "# path = \"/content/drive/MyDrive/Deep_Learning/HW3/outputs_unrolled_gan/\"\n",
        "path = \"./models/unrolled/\"\n",
        "epochs = 200\n",
        "# k = 10\n",
        "\n",
        "losses_g = [] # to store generator loss after each epoch\n",
        "losses_d = [] # to store discriminator loss after each epoch\n",
        "losses_ud = []\n",
        "images = [] # to store images generatd by the generator\n",
        "length = 0.\n",
        "\n",
        "for epoch in range(epochs):\n",
        "    start = time.time()\n",
        "    # length = 0.\n",
        "    loss_g = 0.0\n",
        "    loss_d = 0.0\n",
        "    loss_ud = 0.\n",
        "    for bi, data in enumerate(data_loader):\n",
        "        image, _ = data\n",
        "        image = image.to(device)\n",
        "        b_size = len(image)\n",
        "        # run the discriminator for k number of steps\n",
        "        for step in range(k):\n",
        "            # print(create_noise(b_size, nz).shape)\n",
        "            data_fake = generator(create_noise(b_size, nz)).detach()\n",
        "            data_real = image\n",
        "            # train the discriminator network\n",
        "            loss_d += train_discriminator(optim_d, data_real, data_fake, discriminator)\n",
        "\n",
        "            # unroll\n",
        "            unrolled_discriminator = copy.deepcopy(discriminator)\n",
        "            # print(unrolled_discriminator)\n",
        "            loss_ud += train_discriminator(optim_ud, data_real, data_fake, unrolled_discriminator)\n",
        "            \n",
        "\n",
        "        data_fake = generator(create_noise(b_size, nz))\n",
        "        # train the generator network\n",
        "        loss_g += train_generator(optim_g, data_fake, unrolled_discriminator)\n",
        "        del unrolled_discriminator\n",
        "    # create the final fake image for the epoch\n",
        "    generated_img = generator(noise).cpu().detach()\n",
        "    # make the images as grid\n",
        "    generated_img = make_grid(generated_img)\n",
        "    # save the generated torch tensor models to disk\n",
        "    save_generator_image(generated_img, path + f\"gen_img{epoch}.png\")\n",
        "    images.append(generated_img)\n",
        "    epoch_loss_g = loss_g / bi # total generator loss for the epoch\n",
        "    epoch_loss_d = loss_d / bi # total discriminator loss for the epoch\n",
        "    epoch_loss_ud = loss_ud / bi\n",
        "    losses_g.append(epoch_loss_g)\n",
        "    losses_d.append(epoch_loss_d)\n",
        "    losses_ud.append(epoch_loss_ud)\n",
        "    end = time.time() - start\n",
        "    length += end\n",
        "    mean_so_far = length / (epoch+1)\n",
        "    time_left = (mean_so_far * (epochs - epoch - 1))/60\n",
        "    \n",
        "    print(f\"Epoch {epoch} of {epochs}:\\t\\t{end:.2f} seconds;\\ttotal: {length:.2f};\\tminutes left: {time_left:.2f}\")\n",
        "    print(f\"Generator loss: {epoch_loss_g:.8f}, Discriminator loss: {epoch_loss_d:.5f}, Unrolled Discriminator loss: {epoch_loss_ud:.5f}\")"
      ],
      "execution_count": 19,
      "outputs": [
        {
          "output_type": "stream",
          "name": "stdout",
          "text": [
            "Epoch 0 of 200:\t\t43.42 seconds;\ttotal: 43.42;\tminutes left: 144.02\n",
            "Generator loss: 2.18666410, Discriminator loss: 0.40314, Unrolled Discriminator loss: 0.30680\n",
            "Epoch 1 of 200:\t\t41.47 seconds;\ttotal: 84.89;\tminutes left: 140.07\n",
            "Generator loss: 3.65209079, Discriminator loss: 0.09993, Unrolled Discriminator loss: 0.06859\n",
            "Epoch 2 of 200:\t\t41.23 seconds;\ttotal: 126.12;\tminutes left: 138.03\n",
            "Generator loss: 7.85629129, Discriminator loss: 0.01929, Unrolled Discriminator loss: 0.00892\n",
            "Epoch 3 of 200:\t\t41.20 seconds;\ttotal: 167.31;\tminutes left: 136.64\n",
            "Generator loss: 8.08483696, Discriminator loss: 0.01448, Unrolled Discriminator loss: 0.00757\n",
            "Epoch 4 of 200:\t\t41.31 seconds;\ttotal: 208.62;\tminutes left: 135.60\n",
            "Generator loss: 5.77362394, Discriminator loss: 0.01621, Unrolled Discriminator loss: 0.00998\n",
            "Epoch 5 of 200:\t\t41.72 seconds;\ttotal: 250.34;\tminutes left: 134.91\n",
            "Generator loss: 6.40051413, Discriminator loss: 0.01533, Unrolled Discriminator loss: 0.00879\n",
            "Epoch 6 of 200:\t\t41.18 seconds;\ttotal: 291.53;\tminutes left: 133.96\n",
            "Generator loss: 7.05831957, Discriminator loss: 0.01339, Unrolled Discriminator loss: 0.00744\n",
            "Epoch 7 of 200:\t\t41.22 seconds;\ttotal: 332.74;\tminutes left: 133.10\n",
            "Generator loss: 8.43947887, Discriminator loss: 0.01389, Unrolled Discriminator loss: 0.00758\n",
            "Epoch 8 of 200:\t\t41.41 seconds;\ttotal: 374.15;\tminutes left: 132.34\n",
            "Generator loss: 8.19896984, Discriminator loss: 0.01380, Unrolled Discriminator loss: 0.00755\n",
            "Epoch 9 of 200:\t\t41.38 seconds;\ttotal: 415.53;\tminutes left: 131.59\n",
            "Generator loss: 9.34415054, Discriminator loss: 0.02961, Unrolled Discriminator loss: 0.01853\n",
            "Epoch 10 of 200:\t\t41.32 seconds;\ttotal: 456.85;\tminutes left: 130.83\n",
            "Generator loss: 10.62567997, Discriminator loss: 0.01462, Unrolled Discriminator loss: 0.00762\n",
            "Epoch 11 of 200:\t\t41.29 seconds;\ttotal: 498.14;\tminutes left: 130.07\n",
            "Generator loss: 9.36070824, Discriminator loss: 0.06323, Unrolled Discriminator loss: 0.04236\n",
            "Epoch 12 of 200:\t\t41.28 seconds;\ttotal: 539.42;\tminutes left: 129.32\n",
            "Generator loss: 9.55634880, Discriminator loss: 0.03052, Unrolled Discriminator loss: 0.01816\n",
            "Epoch 13 of 200:\t\t41.24 seconds;\ttotal: 580.67;\tminutes left: 128.58\n",
            "Generator loss: 8.80799294, Discriminator loss: 0.04271, Unrolled Discriminator loss: 0.02906\n",
            "Epoch 14 of 200:\t\t41.21 seconds;\ttotal: 621.88;\tminutes left: 127.83\n",
            "Generator loss: 8.72911358, Discriminator loss: 0.04196, Unrolled Discriminator loss: 0.02898\n",
            "Epoch 15 of 200:\t\t41.52 seconds;\ttotal: 663.40;\tminutes left: 127.15\n",
            "Generator loss: 7.98775911, Discriminator loss: 0.02280, Unrolled Discriminator loss: 0.01507\n",
            "Epoch 16 of 200:\t\t43.10 seconds;\ttotal: 706.50;\tminutes left: 126.75\n",
            "Generator loss: 10.43868828, Discriminator loss: 0.06629, Unrolled Discriminator loss: 0.05085\n",
            "Epoch 17 of 200:\t\t41.80 seconds;\ttotal: 748.30;\tminutes left: 126.10\n",
            "Generator loss: 6.81174469, Discriminator loss: 0.21270, Unrolled Discriminator loss: 0.18994\n",
            "Epoch 18 of 200:\t\t43.04 seconds;\ttotal: 791.34;\tminutes left: 125.64\n",
            "Generator loss: 5.99414492, Discriminator loss: 0.07728, Unrolled Discriminator loss: 0.06044\n",
            "Epoch 19 of 200:\t\t42.35 seconds;\ttotal: 833.69;\tminutes left: 125.05\n",
            "Generator loss: 7.42323494, Discriminator loss: 0.06365, Unrolled Discriminator loss: 0.04936\n",
            "Epoch 20 of 200:\t\t43.52 seconds;\ttotal: 877.21;\tminutes left: 124.62\n",
            "Generator loss: 9.79337978, Discriminator loss: 0.11596, Unrolled Discriminator loss: 0.08453\n",
            "Epoch 21 of 200:\t\t42.79 seconds;\ttotal: 920.00;\tminutes left: 124.06\n",
            "Generator loss: 9.34243965, Discriminator loss: 0.08177, Unrolled Discriminator loss: 0.05748\n",
            "Epoch 22 of 200:\t\t41.95 seconds;\ttotal: 961.95;\tminutes left: 123.38\n",
            "Generator loss: 6.80317211, Discriminator loss: 0.06798, Unrolled Discriminator loss: 0.05088\n",
            "Epoch 23 of 200:\t\t41.92 seconds;\ttotal: 1003.87;\tminutes left: 122.70\n",
            "Generator loss: 7.68401575, Discriminator loss: 0.06688, Unrolled Discriminator loss: 0.04657\n",
            "Epoch 24 of 200:\t\t41.78 seconds;\ttotal: 1045.65;\tminutes left: 121.99\n",
            "Generator loss: 9.84437561, Discriminator loss: 0.06895, Unrolled Discriminator loss: 0.04791\n",
            "Epoch 25 of 200:\t\t41.98 seconds;\ttotal: 1087.63;\tminutes left: 121.31\n",
            "Generator loss: 11.33688545, Discriminator loss: 0.09206, Unrolled Discriminator loss: 0.06093\n",
            "Epoch 26 of 200:\t\t41.55 seconds;\ttotal: 1129.18;\tminutes left: 120.59\n",
            "Generator loss: 7.90244770, Discriminator loss: 0.06557, Unrolled Discriminator loss: 0.05208\n",
            "Epoch 27 of 200:\t\t41.57 seconds;\ttotal: 1170.75;\tminutes left: 119.86\n",
            "Generator loss: 7.01422024, Discriminator loss: 0.07093, Unrolled Discriminator loss: 0.05685\n",
            "Epoch 28 of 200:\t\t41.57 seconds;\ttotal: 1212.31;\tminutes left: 119.14\n",
            "Generator loss: 6.98379755, Discriminator loss: 0.07984, Unrolled Discriminator loss: 0.06151\n",
            "Epoch 29 of 200:\t\t42.19 seconds;\ttotal: 1254.51;\tminutes left: 118.48\n",
            "Generator loss: 9.02064991, Discriminator loss: 0.12241, Unrolled Discriminator loss: 0.09572\n",
            "Epoch 30 of 200:\t\t42.36 seconds;\ttotal: 1296.87;\tminutes left: 117.83\n",
            "Generator loss: 9.11531353, Discriminator loss: 0.11294, Unrolled Discriminator loss: 0.07743\n",
            "Epoch 31 of 200:\t\t41.72 seconds;\ttotal: 1338.58;\tminutes left: 117.13\n",
            "Generator loss: 9.13270092, Discriminator loss: 0.08569, Unrolled Discriminator loss: 0.06262\n",
            "Epoch 32 of 200:\t\t41.81 seconds;\ttotal: 1380.40;\tminutes left: 116.43\n",
            "Generator loss: 9.60291481, Discriminator loss: 0.22515, Unrolled Discriminator loss: 0.19765\n",
            "Epoch 33 of 200:\t\t41.78 seconds;\ttotal: 1422.17;\tminutes left: 115.73\n",
            "Generator loss: 5.57378006, Discriminator loss: 0.13971, Unrolled Discriminator loss: 0.11119\n",
            "Epoch 34 of 200:\t\t41.79 seconds;\ttotal: 1463.96;\tminutes left: 115.03\n",
            "Generator loss: 6.23710251, Discriminator loss: 0.13968, Unrolled Discriminator loss: 0.10409\n",
            "Epoch 35 of 200:\t\t41.53 seconds;\ttotal: 1505.49;\tminutes left: 114.31\n",
            "Generator loss: 6.73459482, Discriminator loss: 0.11982, Unrolled Discriminator loss: 0.09066\n",
            "Epoch 36 of 200:\t\t41.79 seconds;\ttotal: 1547.28;\tminutes left: 113.61\n",
            "Generator loss: 7.90545082, Discriminator loss: 0.20852, Unrolled Discriminator loss: 0.17147\n",
            "Epoch 37 of 200:\t\t41.55 seconds;\ttotal: 1588.83;\tminutes left: 112.89\n",
            "Generator loss: 5.28825140, Discriminator loss: 0.14708, Unrolled Discriminator loss: 0.11709\n",
            "Epoch 38 of 200:\t\t41.57 seconds;\ttotal: 1630.41;\tminutes left: 112.18\n",
            "Generator loss: 8.10176563, Discriminator loss: 0.23887, Unrolled Discriminator loss: 0.19115\n",
            "Epoch 39 of 200:\t\t41.61 seconds;\ttotal: 1672.02;\tminutes left: 111.47\n",
            "Generator loss: 6.72562361, Discriminator loss: 0.20337, Unrolled Discriminator loss: 0.15056\n",
            "Epoch 40 of 200:\t\t41.48 seconds;\ttotal: 1713.50;\tminutes left: 110.75\n",
            "Generator loss: 7.35965109, Discriminator loss: 0.15700, Unrolled Discriminator loss: 0.11283\n",
            "Epoch 41 of 200:\t\t42.08 seconds;\ttotal: 1755.58;\tminutes left: 110.07\n",
            "Generator loss: 8.13467216, Discriminator loss: 0.11303, Unrolled Discriminator loss: 0.08214\n",
            "Epoch 42 of 200:\t\t41.67 seconds;\ttotal: 1797.25;\tminutes left: 109.37\n",
            "Generator loss: 7.64938688, Discriminator loss: 0.14094, Unrolled Discriminator loss: 0.10915\n",
            "Epoch 43 of 200:\t\t41.49 seconds;\ttotal: 1838.74;\tminutes left: 108.65\n",
            "Generator loss: 6.36556959, Discriminator loss: 0.13844, Unrolled Discriminator loss: 0.10852\n",
            "Epoch 44 of 200:\t\t44.00 seconds;\ttotal: 1882.75;\tminutes left: 108.08\n",
            "Generator loss: 6.97995234, Discriminator loss: 0.18647, Unrolled Discriminator loss: 0.14765\n",
            "Epoch 45 of 200:\t\t42.94 seconds;\ttotal: 1925.69;\tminutes left: 107.45\n",
            "Generator loss: 6.22396708, Discriminator loss: 0.18949, Unrolled Discriminator loss: 0.14715\n",
            "Epoch 46 of 200:\t\t42.70 seconds;\ttotal: 1968.39;\tminutes left: 106.80\n",
            "Generator loss: 7.65676546, Discriminator loss: 0.21991, Unrolled Discriminator loss: 0.16303\n",
            "Epoch 47 of 200:\t\t42.96 seconds;\ttotal: 2011.35;\tminutes left: 106.15\n",
            "Generator loss: 6.52308273, Discriminator loss: 0.14971, Unrolled Discriminator loss: 0.11138\n",
            "Epoch 48 of 200:\t\t42.76 seconds;\ttotal: 2054.11;\tminutes left: 105.50\n",
            "Generator loss: 5.61225414, Discriminator loss: 0.13252, Unrolled Discriminator loss: 0.10892\n",
            "Epoch 49 of 200:\t\t42.77 seconds;\ttotal: 2096.89;\tminutes left: 104.84\n",
            "Generator loss: 5.41993523, Discriminator loss: 0.12902, Unrolled Discriminator loss: 0.10730\n",
            "Epoch 50 of 200:\t\t41.54 seconds;\ttotal: 2138.42;\tminutes left: 104.13\n",
            "Generator loss: 5.72348547, Discriminator loss: 0.16704, Unrolled Discriminator loss: 0.13473\n",
            "Epoch 51 of 200:\t\t39.81 seconds;\ttotal: 2178.23;\tminutes left: 103.33\n",
            "Generator loss: 6.67725182, Discriminator loss: 0.20543, Unrolled Discriminator loss: 0.15903\n",
            "Epoch 52 of 200:\t\t39.06 seconds;\ttotal: 2217.29;\tminutes left: 102.50\n",
            "Generator loss: 6.05257511, Discriminator loss: 0.19475, Unrolled Discriminator loss: 0.14621\n",
            "Epoch 53 of 200:\t\t39.89 seconds;\ttotal: 2257.19;\tminutes left: 101.71\n",
            "Generator loss: 7.18882179, Discriminator loss: 0.17406, Unrolled Discriminator loss: 0.13707\n",
            "Epoch 54 of 200:\t\t39.67 seconds;\ttotal: 2296.86;\tminutes left: 100.92\n",
            "Generator loss: 6.98292875, Discriminator loss: 0.20219, Unrolled Discriminator loss: 0.15249\n",
            "Epoch 55 of 200:\t\t40.10 seconds;\ttotal: 2336.96;\tminutes left: 100.16\n",
            "Generator loss: 5.71428299, Discriminator loss: 0.18724, Unrolled Discriminator loss: 0.14667\n",
            "Epoch 56 of 200:\t\t39.72 seconds;\ttotal: 2376.68;\tminutes left: 99.38\n",
            "Generator loss: 6.09247828, Discriminator loss: 0.21187, Unrolled Discriminator loss: 0.15952\n",
            "Epoch 57 of 200:\t\t39.73 seconds;\ttotal: 2416.41;\tminutes left: 98.60\n",
            "Generator loss: 5.93102455, Discriminator loss: 0.15981, Unrolled Discriminator loss: 0.11873\n",
            "Epoch 58 of 200:\t\t39.81 seconds;\ttotal: 2456.22;\tminutes left: 97.83\n",
            "Generator loss: 6.82816601, Discriminator loss: 0.21169, Unrolled Discriminator loss: 0.16168\n",
            "Epoch 59 of 200:\t\t39.92 seconds;\ttotal: 2496.13;\tminutes left: 97.07\n",
            "Generator loss: 7.89516258, Discriminator loss: 0.23365, Unrolled Discriminator loss: 0.17144\n",
            "Epoch 60 of 200:\t\t40.28 seconds;\ttotal: 2536.41;\tminutes left: 96.33\n",
            "Generator loss: 5.56608582, Discriminator loss: 0.18032, Unrolled Discriminator loss: 0.13821\n",
            "Epoch 61 of 200:\t\t37.71 seconds;\ttotal: 2574.12;\tminutes left: 95.49\n",
            "Generator loss: 4.93533516, Discriminator loss: 0.18395, Unrolled Discriminator loss: 0.15210\n",
            "Epoch 62 of 200:\t\t38.46 seconds;\ttotal: 2612.57;\tminutes left: 94.69\n",
            "Generator loss: 6.27487278, Discriminator loss: 0.25575, Unrolled Discriminator loss: 0.19597\n",
            "Epoch 63 of 200:\t\t38.23 seconds;\ttotal: 2650.80;\tminutes left: 93.88\n",
            "Generator loss: 5.30960989, Discriminator loss: 0.23179, Unrolled Discriminator loss: 0.17881\n",
            "Epoch 64 of 200:\t\t38.37 seconds;\ttotal: 2689.16;\tminutes left: 93.09\n",
            "Generator loss: 5.44413614, Discriminator loss: 0.18156, Unrolled Discriminator loss: 0.13702\n",
            "Epoch 65 of 200:\t\t37.58 seconds;\ttotal: 2726.74;\tminutes left: 92.27\n",
            "Generator loss: 6.83501148, Discriminator loss: 0.18191, Unrolled Discriminator loss: 0.13785\n",
            "Epoch 66 of 200:\t\t37.90 seconds;\ttotal: 2764.65;\tminutes left: 91.47\n",
            "Generator loss: 6.57458925, Discriminator loss: 0.14884, Unrolled Discriminator loss: 0.11564\n",
            "Epoch 67 of 200:\t\t38.19 seconds;\ttotal: 2802.83;\tminutes left: 90.68\n",
            "Generator loss: 6.45383978, Discriminator loss: 0.19787, Unrolled Discriminator loss: 0.15054\n",
            "Epoch 68 of 200:\t\t36.30 seconds;\ttotal: 2839.13;\tminutes left: 89.84\n",
            "Generator loss: 5.36741066, Discriminator loss: 0.18762, Unrolled Discriminator loss: 0.15406\n",
            "Epoch 69 of 200:\t\t36.29 seconds;\ttotal: 2875.42;\tminutes left: 89.00\n",
            "Generator loss: 5.38496685, Discriminator loss: 0.20873, Unrolled Discriminator loss: 0.16807\n",
            "Epoch 70 of 200:\t\t36.61 seconds;\ttotal: 2912.03;\tminutes left: 88.18\n",
            "Generator loss: 6.10031080, Discriminator loss: 0.25639, Unrolled Discriminator loss: 0.19678\n",
            "Epoch 71 of 200:\t\t37.68 seconds;\ttotal: 2949.70;\tminutes left: 87.40\n",
            "Generator loss: 6.37566376, Discriminator loss: 0.25585, Unrolled Discriminator loss: 0.18847\n",
            "Epoch 72 of 200:\t\t38.01 seconds;\ttotal: 2987.71;\tminutes left: 86.63\n",
            "Generator loss: 6.03470659, Discriminator loss: 0.23210, Unrolled Discriminator loss: 0.17320\n",
            "Epoch 73 of 200:\t\t38.09 seconds;\ttotal: 3025.80;\tminutes left: 85.87\n",
            "Generator loss: 5.88067770, Discriminator loss: 0.18795, Unrolled Discriminator loss: 0.14129\n",
            "Epoch 74 of 200:\t\t38.05 seconds;\ttotal: 3063.85;\tminutes left: 85.11\n",
            "Generator loss: 6.60050344, Discriminator loss: 0.23396, Unrolled Discriminator loss: 0.17931\n",
            "Epoch 75 of 200:\t\t38.03 seconds;\ttotal: 3101.88;\tminutes left: 84.35\n",
            "Generator loss: 5.76174450, Discriminator loss: 0.20562, Unrolled Discriminator loss: 0.16136\n",
            "Epoch 76 of 200:\t\t38.18 seconds;\ttotal: 3140.06;\tminutes left: 83.60\n",
            "Generator loss: 5.16695881, Discriminator loss: 0.20134, Unrolled Discriminator loss: 0.16059\n",
            "Epoch 77 of 200:\t\t38.44 seconds;\ttotal: 3178.50;\tminutes left: 82.86\n",
            "Generator loss: 5.21455288, Discriminator loss: 0.21897, Unrolled Discriminator loss: 0.17540\n",
            "Epoch 78 of 200:\t\t39.55 seconds;\ttotal: 3218.05;\tminutes left: 82.15\n",
            "Generator loss: 5.82392883, Discriminator loss: 0.23596, Unrolled Discriminator loss: 0.18712\n",
            "Epoch 79 of 200:\t\t38.45 seconds;\ttotal: 3256.50;\tminutes left: 81.41\n",
            "Generator loss: 5.74648666, Discriminator loss: 0.26091, Unrolled Discriminator loss: 0.19667\n",
            "Epoch 80 of 200:\t\t39.17 seconds;\ttotal: 3295.67;\tminutes left: 80.70\n",
            "Generator loss: 7.01496267, Discriminator loss: 0.23074, Unrolled Discriminator loss: 0.17437\n",
            "Epoch 81 of 200:\t\t38.69 seconds;\ttotal: 3334.37;\tminutes left: 79.97\n",
            "Generator loss: 5.44324827, Discriminator loss: 0.19855, Unrolled Discriminator loss: 0.15614\n",
            "Epoch 82 of 200:\t\t38.14 seconds;\ttotal: 3372.51;\tminutes left: 79.23\n",
            "Generator loss: 5.32177925, Discriminator loss: 0.18298, Unrolled Discriminator loss: 0.14283\n",
            "Epoch 83 of 200:\t\t37.97 seconds;\ttotal: 3410.48;\tminutes left: 78.50\n",
            "Generator loss: 6.93692112, Discriminator loss: 0.29441, Unrolled Discriminator loss: 0.22914\n",
            "Epoch 84 of 200:\t\t37.98 seconds;\ttotal: 3448.46;\tminutes left: 77.76\n",
            "Generator loss: 5.81362200, Discriminator loss: 0.27059, Unrolled Discriminator loss: 0.20894\n",
            "Epoch 85 of 200:\t\t38.00 seconds;\ttotal: 3486.46;\tminutes left: 77.03\n",
            "Generator loss: 5.40952587, Discriminator loss: 0.24453, Unrolled Discriminator loss: 0.18871\n",
            "Epoch 86 of 200:\t\t37.88 seconds;\ttotal: 3524.34;\tminutes left: 76.29\n",
            "Generator loss: 6.28095245, Discriminator loss: 0.29577, Unrolled Discriminator loss: 0.21843\n",
            "Epoch 87 of 200:\t\t38.06 seconds;\ttotal: 3562.41;\tminutes left: 75.57\n",
            "Generator loss: 6.29454041, Discriminator loss: 0.20135, Unrolled Discriminator loss: 0.15176\n",
            "Epoch 88 of 200:\t\t37.95 seconds;\ttotal: 3600.36;\tminutes left: 74.84\n",
            "Generator loss: 5.28615522, Discriminator loss: 0.16426, Unrolled Discriminator loss: 0.13453\n",
            "Epoch 89 of 200:\t\t37.99 seconds;\ttotal: 3638.36;\tminutes left: 74.11\n",
            "Generator loss: 5.34420586, Discriminator loss: 0.24054, Unrolled Discriminator loss: 0.19742\n",
            "Epoch 90 of 200:\t\t37.99 seconds;\ttotal: 3676.34;\tminutes left: 73.39\n",
            "Generator loss: 5.40572929, Discriminator loss: 0.28556, Unrolled Discriminator loss: 0.23250\n",
            "Epoch 91 of 200:\t\t38.02 seconds;\ttotal: 3714.36;\tminutes left: 72.67\n",
            "Generator loss: 6.07491541, Discriminator loss: 0.40564, Unrolled Discriminator loss: 0.31816\n",
            "Epoch 92 of 200:\t\t38.08 seconds;\ttotal: 3752.44;\tminutes left: 71.96\n",
            "Generator loss: 6.16009331, Discriminator loss: 0.29535, Unrolled Discriminator loss: 0.21562\n",
            "Epoch 93 of 200:\t\t37.94 seconds;\ttotal: 3790.38;\tminutes left: 71.24\n",
            "Generator loss: 8.31754112, Discriminator loss: 0.39374, Unrolled Discriminator loss: 0.29645\n",
            "Epoch 94 of 200:\t\t38.47 seconds;\ttotal: 3828.85;\tminutes left: 70.53\n",
            "Generator loss: 5.87028313, Discriminator loss: 0.26764, Unrolled Discriminator loss: 0.20158\n",
            "Epoch 95 of 200:\t\t38.50 seconds;\ttotal: 3867.35;\tminutes left: 69.83\n",
            "Generator loss: 5.32277155, Discriminator loss: 0.20431, Unrolled Discriminator loss: 0.16250\n",
            "Epoch 96 of 200:\t\t38.62 seconds;\ttotal: 3905.97;\tminutes left: 69.13\n",
            "Generator loss: 4.92574215, Discriminator loss: 0.26804, Unrolled Discriminator loss: 0.22019\n",
            "Epoch 97 of 200:\t\t38.47 seconds;\ttotal: 3944.45;\tminutes left: 68.42\n",
            "Generator loss: 4.96924829, Discriminator loss: 0.31405, Unrolled Discriminator loss: 0.25591\n",
            "Epoch 98 of 200:\t\t38.60 seconds;\ttotal: 3983.05;\tminutes left: 67.73\n",
            "Generator loss: 4.65415907, Discriminator loss: 0.31416, Unrolled Discriminator loss: 0.25394\n",
            "Epoch 99 of 200:\t\t38.60 seconds;\ttotal: 4021.64;\tminutes left: 67.03\n",
            "Generator loss: 4.91923618, Discriminator loss: 0.33605, Unrolled Discriminator loss: 0.26319\n",
            "Epoch 100 of 200:\t\t38.64 seconds;\ttotal: 4060.28;\tminutes left: 66.33\n",
            "Generator loss: 5.68553638, Discriminator loss: 0.29398, Unrolled Discriminator loss: 0.21992\n",
            "Epoch 101 of 200:\t\t38.63 seconds;\ttotal: 4098.91;\tminutes left: 65.64\n",
            "Generator loss: 6.29121447, Discriminator loss: 0.28549, Unrolled Discriminator loss: 0.21537\n",
            "Epoch 102 of 200:\t\t38.70 seconds;\ttotal: 4137.61;\tminutes left: 64.94\n",
            "Generator loss: 5.38111877, Discriminator loss: 0.20722, Unrolled Discriminator loss: 0.16310\n",
            "Epoch 103 of 200:\t\t38.71 seconds;\ttotal: 4176.32;\tminutes left: 64.25\n",
            "Generator loss: 4.69900846, Discriminator loss: 0.22318, Unrolled Discriminator loss: 0.18857\n",
            "Epoch 104 of 200:\t\t38.68 seconds;\ttotal: 4215.00;\tminutes left: 63.56\n",
            "Generator loss: 4.37238026, Discriminator loss: 0.24538, Unrolled Discriminator loss: 0.20847\n",
            "Epoch 105 of 200:\t\t38.60 seconds;\ttotal: 4253.60;\tminutes left: 62.87\n",
            "Generator loss: 4.55542707, Discriminator loss: 0.28319, Unrolled Discriminator loss: 0.22597\n",
            "Epoch 106 of 200:\t\t38.58 seconds;\ttotal: 4292.17;\tminutes left: 62.18\n",
            "Generator loss: 5.40175724, Discriminator loss: 0.32203, Unrolled Discriminator loss: 0.24509\n",
            "Epoch 107 of 200:\t\t38.58 seconds;\ttotal: 4330.76;\tminutes left: 61.49\n",
            "Generator loss: 6.05134821, Discriminator loss: 0.31660, Unrolled Discriminator loss: 0.23523\n",
            "Epoch 108 of 200:\t\t38.70 seconds;\ttotal: 4369.46;\tminutes left: 60.80\n",
            "Generator loss: 5.80383348, Discriminator loss: 0.29359, Unrolled Discriminator loss: 0.22523\n",
            "Epoch 109 of 200:\t\t38.65 seconds;\ttotal: 4408.11;\tminutes left: 60.11\n",
            "Generator loss: 5.62567234, Discriminator loss: 0.24367, Unrolled Discriminator loss: 0.19504\n",
            "Epoch 110 of 200:\t\t42.96 seconds;\ttotal: 4451.07;\tminutes left: 59.48\n",
            "Generator loss: 4.61007977, Discriminator loss: 0.21010, Unrolled Discriminator loss: 0.17607\n",
            "Epoch 111 of 200:\t\t66.27 seconds;\ttotal: 4517.33;\tminutes left: 59.16\n",
            "Generator loss: 4.42914009, Discriminator loss: 0.23314, Unrolled Discriminator loss: 0.19271\n"
          ]
        },
        {
          "output_type": "error",
          "ename": "KeyboardInterrupt",
          "evalue": "",
          "traceback": [
            "\u001b[0;31m---------------------------------------------------------------------------\u001b[0m",
            "\u001b[0;31mKeyboardInterrupt\u001b[0m                         Traceback (most recent call last)",
            "\u001b[0;32m<ipython-input-19-f4c240e55be0>\u001b[0m in \u001b[0;36m<module>\u001b[0;34m\u001b[0m\n\u001b[1;32m     16\u001b[0m     \u001b[0mloss_d\u001b[0m \u001b[0;34m=\u001b[0m \u001b[0;36m0.0\u001b[0m\u001b[0;34m\u001b[0m\u001b[0;34m\u001b[0m\u001b[0m\n\u001b[1;32m     17\u001b[0m     \u001b[0mloss_ud\u001b[0m \u001b[0;34m=\u001b[0m \u001b[0;36m0.\u001b[0m\u001b[0;34m\u001b[0m\u001b[0;34m\u001b[0m\u001b[0m\n\u001b[0;32m---> 18\u001b[0;31m     \u001b[0;32mfor\u001b[0m \u001b[0mbi\u001b[0m\u001b[0;34m,\u001b[0m \u001b[0mdata\u001b[0m \u001b[0;32min\u001b[0m \u001b[0menumerate\u001b[0m\u001b[0;34m(\u001b[0m\u001b[0mdata_loader\u001b[0m\u001b[0;34m)\u001b[0m\u001b[0;34m:\u001b[0m\u001b[0;34m\u001b[0m\u001b[0;34m\u001b[0m\u001b[0m\n\u001b[0m\u001b[1;32m     19\u001b[0m         \u001b[0mimage\u001b[0m\u001b[0;34m,\u001b[0m \u001b[0m_\u001b[0m \u001b[0;34m=\u001b[0m \u001b[0mdata\u001b[0m\u001b[0;34m\u001b[0m\u001b[0;34m\u001b[0m\u001b[0m\n\u001b[1;32m     20\u001b[0m         \u001b[0mimage\u001b[0m \u001b[0;34m=\u001b[0m \u001b[0mimage\u001b[0m\u001b[0;34m.\u001b[0m\u001b[0mto\u001b[0m\u001b[0;34m(\u001b[0m\u001b[0mdevice\u001b[0m\u001b[0;34m)\u001b[0m\u001b[0;34m\u001b[0m\u001b[0;34m\u001b[0m\u001b[0m\n",
            "\u001b[0;32m~/.virtualenvs/HW3/lib/python3.8/site-packages/torch/utils/data/dataloader.py\u001b[0m in \u001b[0;36m__next__\u001b[0;34m(self)\u001b[0m\n\u001b[1;32m    515\u001b[0m             \u001b[0;32mif\u001b[0m \u001b[0mself\u001b[0m\u001b[0;34m.\u001b[0m\u001b[0m_sampler_iter\u001b[0m \u001b[0;32mis\u001b[0m \u001b[0;32mNone\u001b[0m\u001b[0;34m:\u001b[0m\u001b[0;34m\u001b[0m\u001b[0;34m\u001b[0m\u001b[0m\n\u001b[1;32m    516\u001b[0m                 \u001b[0mself\u001b[0m\u001b[0;34m.\u001b[0m\u001b[0m_reset\u001b[0m\u001b[0;34m(\u001b[0m\u001b[0;34m)\u001b[0m\u001b[0;34m\u001b[0m\u001b[0;34m\u001b[0m\u001b[0m\n\u001b[0;32m--> 517\u001b[0;31m             \u001b[0mdata\u001b[0m \u001b[0;34m=\u001b[0m \u001b[0mself\u001b[0m\u001b[0;34m.\u001b[0m\u001b[0m_next_data\u001b[0m\u001b[0;34m(\u001b[0m\u001b[0;34m)\u001b[0m\u001b[0;34m\u001b[0m\u001b[0;34m\u001b[0m\u001b[0m\n\u001b[0m\u001b[1;32m    518\u001b[0m             \u001b[0mself\u001b[0m\u001b[0;34m.\u001b[0m\u001b[0m_num_yielded\u001b[0m \u001b[0;34m+=\u001b[0m \u001b[0;36m1\u001b[0m\u001b[0;34m\u001b[0m\u001b[0;34m\u001b[0m\u001b[0m\n\u001b[1;32m    519\u001b[0m             \u001b[0;32mif\u001b[0m \u001b[0mself\u001b[0m\u001b[0;34m.\u001b[0m\u001b[0m_dataset_kind\u001b[0m \u001b[0;34m==\u001b[0m \u001b[0m_DatasetKind\u001b[0m\u001b[0;34m.\u001b[0m\u001b[0mIterable\u001b[0m \u001b[0;32mand\u001b[0m\u001b[0;31m \u001b[0m\u001b[0;31m\\\u001b[0m\u001b[0;34m\u001b[0m\u001b[0;34m\u001b[0m\u001b[0m\n",
            "\u001b[0;32m~/.virtualenvs/HW3/lib/python3.8/site-packages/torch/utils/data/dataloader.py\u001b[0m in \u001b[0;36m_next_data\u001b[0;34m(self)\u001b[0m\n\u001b[1;32m    555\u001b[0m     \u001b[0;32mdef\u001b[0m \u001b[0m_next_data\u001b[0m\u001b[0;34m(\u001b[0m\u001b[0mself\u001b[0m\u001b[0;34m)\u001b[0m\u001b[0;34m:\u001b[0m\u001b[0;34m\u001b[0m\u001b[0;34m\u001b[0m\u001b[0m\n\u001b[1;32m    556\u001b[0m         \u001b[0mindex\u001b[0m \u001b[0;34m=\u001b[0m \u001b[0mself\u001b[0m\u001b[0;34m.\u001b[0m\u001b[0m_next_index\u001b[0m\u001b[0;34m(\u001b[0m\u001b[0;34m)\u001b[0m  \u001b[0;31m# may raise StopIteration\u001b[0m\u001b[0;34m\u001b[0m\u001b[0;34m\u001b[0m\u001b[0m\n\u001b[0;32m--> 557\u001b[0;31m         \u001b[0mdata\u001b[0m \u001b[0;34m=\u001b[0m \u001b[0mself\u001b[0m\u001b[0;34m.\u001b[0m\u001b[0m_dataset_fetcher\u001b[0m\u001b[0;34m.\u001b[0m\u001b[0mfetch\u001b[0m\u001b[0;34m(\u001b[0m\u001b[0mindex\u001b[0m\u001b[0;34m)\u001b[0m  \u001b[0;31m# may raise StopIteration\u001b[0m\u001b[0;34m\u001b[0m\u001b[0;34m\u001b[0m\u001b[0m\n\u001b[0m\u001b[1;32m    558\u001b[0m         \u001b[0;32mif\u001b[0m \u001b[0mself\u001b[0m\u001b[0;34m.\u001b[0m\u001b[0m_pin_memory\u001b[0m\u001b[0;34m:\u001b[0m\u001b[0;34m\u001b[0m\u001b[0;34m\u001b[0m\u001b[0m\n\u001b[1;32m    559\u001b[0m             \u001b[0mdata\u001b[0m \u001b[0;34m=\u001b[0m \u001b[0m_utils\u001b[0m\u001b[0;34m.\u001b[0m\u001b[0mpin_memory\u001b[0m\u001b[0;34m.\u001b[0m\u001b[0mpin_memory\u001b[0m\u001b[0;34m(\u001b[0m\u001b[0mdata\u001b[0m\u001b[0;34m)\u001b[0m\u001b[0;34m\u001b[0m\u001b[0;34m\u001b[0m\u001b[0m\n",
            "\u001b[0;32m~/.virtualenvs/HW3/lib/python3.8/site-packages/torch/utils/data/_utils/fetch.py\u001b[0m in \u001b[0;36mfetch\u001b[0;34m(self, possibly_batched_index)\u001b[0m\n\u001b[1;32m     42\u001b[0m     \u001b[0;32mdef\u001b[0m \u001b[0mfetch\u001b[0m\u001b[0;34m(\u001b[0m\u001b[0mself\u001b[0m\u001b[0;34m,\u001b[0m \u001b[0mpossibly_batched_index\u001b[0m\u001b[0;34m)\u001b[0m\u001b[0;34m:\u001b[0m\u001b[0;34m\u001b[0m\u001b[0;34m\u001b[0m\u001b[0m\n\u001b[1;32m     43\u001b[0m         \u001b[0;32mif\u001b[0m \u001b[0mself\u001b[0m\u001b[0;34m.\u001b[0m\u001b[0mauto_collation\u001b[0m\u001b[0;34m:\u001b[0m\u001b[0;34m\u001b[0m\u001b[0;34m\u001b[0m\u001b[0m\n\u001b[0;32m---> 44\u001b[0;31m             \u001b[0mdata\u001b[0m \u001b[0;34m=\u001b[0m \u001b[0;34m[\u001b[0m\u001b[0mself\u001b[0m\u001b[0;34m.\u001b[0m\u001b[0mdataset\u001b[0m\u001b[0;34m[\u001b[0m\u001b[0midx\u001b[0m\u001b[0;34m]\u001b[0m \u001b[0;32mfor\u001b[0m \u001b[0midx\u001b[0m \u001b[0;32min\u001b[0m \u001b[0mpossibly_batched_index\u001b[0m\u001b[0;34m]\u001b[0m\u001b[0;34m\u001b[0m\u001b[0;34m\u001b[0m\u001b[0m\n\u001b[0m\u001b[1;32m     45\u001b[0m         \u001b[0;32melse\u001b[0m\u001b[0;34m:\u001b[0m\u001b[0;34m\u001b[0m\u001b[0;34m\u001b[0m\u001b[0m\n\u001b[1;32m     46\u001b[0m             \u001b[0mdata\u001b[0m \u001b[0;34m=\u001b[0m \u001b[0mself\u001b[0m\u001b[0;34m.\u001b[0m\u001b[0mdataset\u001b[0m\u001b[0;34m[\u001b[0m\u001b[0mpossibly_batched_index\u001b[0m\u001b[0;34m]\u001b[0m\u001b[0;34m\u001b[0m\u001b[0;34m\u001b[0m\u001b[0m\n",
            "\u001b[0;32m~/.virtualenvs/HW3/lib/python3.8/site-packages/torch/utils/data/_utils/fetch.py\u001b[0m in \u001b[0;36m<listcomp>\u001b[0;34m(.0)\u001b[0m\n\u001b[1;32m     42\u001b[0m     \u001b[0;32mdef\u001b[0m \u001b[0mfetch\u001b[0m\u001b[0;34m(\u001b[0m\u001b[0mself\u001b[0m\u001b[0;34m,\u001b[0m \u001b[0mpossibly_batched_index\u001b[0m\u001b[0;34m)\u001b[0m\u001b[0;34m:\u001b[0m\u001b[0;34m\u001b[0m\u001b[0;34m\u001b[0m\u001b[0m\n\u001b[1;32m     43\u001b[0m         \u001b[0;32mif\u001b[0m \u001b[0mself\u001b[0m\u001b[0;34m.\u001b[0m\u001b[0mauto_collation\u001b[0m\u001b[0;34m:\u001b[0m\u001b[0;34m\u001b[0m\u001b[0;34m\u001b[0m\u001b[0m\n\u001b[0;32m---> 44\u001b[0;31m             \u001b[0mdata\u001b[0m \u001b[0;34m=\u001b[0m \u001b[0;34m[\u001b[0m\u001b[0mself\u001b[0m\u001b[0;34m.\u001b[0m\u001b[0mdataset\u001b[0m\u001b[0;34m[\u001b[0m\u001b[0midx\u001b[0m\u001b[0;34m]\u001b[0m \u001b[0;32mfor\u001b[0m \u001b[0midx\u001b[0m \u001b[0;32min\u001b[0m \u001b[0mpossibly_batched_index\u001b[0m\u001b[0;34m]\u001b[0m\u001b[0;34m\u001b[0m\u001b[0;34m\u001b[0m\u001b[0m\n\u001b[0m\u001b[1;32m     45\u001b[0m         \u001b[0;32melse\u001b[0m\u001b[0;34m:\u001b[0m\u001b[0;34m\u001b[0m\u001b[0;34m\u001b[0m\u001b[0m\n\u001b[1;32m     46\u001b[0m             \u001b[0mdata\u001b[0m \u001b[0;34m=\u001b[0m \u001b[0mself\u001b[0m\u001b[0;34m.\u001b[0m\u001b[0mdataset\u001b[0m\u001b[0;34m[\u001b[0m\u001b[0mpossibly_batched_index\u001b[0m\u001b[0;34m]\u001b[0m\u001b[0;34m\u001b[0m\u001b[0;34m\u001b[0m\u001b[0m\n",
            "\u001b[0;32m~/.virtualenvs/HW3/lib/python3.8/site-packages/torchvision/datasets/mnist.py\u001b[0m in \u001b[0;36m__getitem__\u001b[0;34m(self, index)\u001b[0m\n\u001b[1;32m    110\u001b[0m \u001b[0;34m\u001b[0m\u001b[0m\n\u001b[1;32m    111\u001b[0m         \u001b[0;32mif\u001b[0m \u001b[0mself\u001b[0m\u001b[0;34m.\u001b[0m\u001b[0mtransform\u001b[0m \u001b[0;32mis\u001b[0m \u001b[0;32mnot\u001b[0m \u001b[0;32mNone\u001b[0m\u001b[0;34m:\u001b[0m\u001b[0;34m\u001b[0m\u001b[0;34m\u001b[0m\u001b[0m\n\u001b[0;32m--> 112\u001b[0;31m             \u001b[0mimg\u001b[0m \u001b[0;34m=\u001b[0m \u001b[0mself\u001b[0m\u001b[0;34m.\u001b[0m\u001b[0mtransform\u001b[0m\u001b[0;34m(\u001b[0m\u001b[0mimg\u001b[0m\u001b[0;34m)\u001b[0m\u001b[0;34m\u001b[0m\u001b[0;34m\u001b[0m\u001b[0m\n\u001b[0m\u001b[1;32m    113\u001b[0m \u001b[0;34m\u001b[0m\u001b[0m\n\u001b[1;32m    114\u001b[0m         \u001b[0;32mif\u001b[0m \u001b[0mself\u001b[0m\u001b[0;34m.\u001b[0m\u001b[0mtarget_transform\u001b[0m \u001b[0;32mis\u001b[0m \u001b[0;32mnot\u001b[0m \u001b[0;32mNone\u001b[0m\u001b[0;34m:\u001b[0m\u001b[0;34m\u001b[0m\u001b[0;34m\u001b[0m\u001b[0m\n",
            "\u001b[0;32m~/.virtualenvs/HW3/lib/python3.8/site-packages/torchvision/transforms/transforms.py\u001b[0m in \u001b[0;36m__call__\u001b[0;34m(self, img)\u001b[0m\n\u001b[1;32m     58\u001b[0m     \u001b[0;32mdef\u001b[0m \u001b[0m__call__\u001b[0m\u001b[0;34m(\u001b[0m\u001b[0mself\u001b[0m\u001b[0;34m,\u001b[0m \u001b[0mimg\u001b[0m\u001b[0;34m)\u001b[0m\u001b[0;34m:\u001b[0m\u001b[0;34m\u001b[0m\u001b[0;34m\u001b[0m\u001b[0m\n\u001b[1;32m     59\u001b[0m         \u001b[0;32mfor\u001b[0m \u001b[0mt\u001b[0m \u001b[0;32min\u001b[0m \u001b[0mself\u001b[0m\u001b[0;34m.\u001b[0m\u001b[0mtransforms\u001b[0m\u001b[0;34m:\u001b[0m\u001b[0;34m\u001b[0m\u001b[0;34m\u001b[0m\u001b[0m\n\u001b[0;32m---> 60\u001b[0;31m             \u001b[0mimg\u001b[0m \u001b[0;34m=\u001b[0m \u001b[0mt\u001b[0m\u001b[0;34m(\u001b[0m\u001b[0mimg\u001b[0m\u001b[0;34m)\u001b[0m\u001b[0;34m\u001b[0m\u001b[0;34m\u001b[0m\u001b[0m\n\u001b[0m\u001b[1;32m     61\u001b[0m         \u001b[0;32mreturn\u001b[0m \u001b[0mimg\u001b[0m\u001b[0;34m\u001b[0m\u001b[0;34m\u001b[0m\u001b[0m\n\u001b[1;32m     62\u001b[0m \u001b[0;34m\u001b[0m\u001b[0m\n",
            "\u001b[0;32m~/.virtualenvs/HW3/lib/python3.8/site-packages/torchvision/transforms/transforms.py\u001b[0m in \u001b[0;36m__call__\u001b[0;34m(self, pic)\u001b[0m\n\u001b[1;32m     95\u001b[0m             \u001b[0mTensor\u001b[0m\u001b[0;34m:\u001b[0m \u001b[0mConverted\u001b[0m \u001b[0mimage\u001b[0m\u001b[0;34m.\u001b[0m\u001b[0;34m\u001b[0m\u001b[0;34m\u001b[0m\u001b[0m\n\u001b[1;32m     96\u001b[0m         \"\"\"\n\u001b[0;32m---> 97\u001b[0;31m         \u001b[0;32mreturn\u001b[0m \u001b[0mF\u001b[0m\u001b[0;34m.\u001b[0m\u001b[0mto_tensor\u001b[0m\u001b[0;34m(\u001b[0m\u001b[0mpic\u001b[0m\u001b[0;34m)\u001b[0m\u001b[0;34m\u001b[0m\u001b[0;34m\u001b[0m\u001b[0m\n\u001b[0m\u001b[1;32m     98\u001b[0m \u001b[0;34m\u001b[0m\u001b[0m\n\u001b[1;32m     99\u001b[0m     \u001b[0;32mdef\u001b[0m \u001b[0m__repr__\u001b[0m\u001b[0;34m(\u001b[0m\u001b[0mself\u001b[0m\u001b[0;34m)\u001b[0m\u001b[0;34m:\u001b[0m\u001b[0;34m\u001b[0m\u001b[0;34m\u001b[0m\u001b[0m\n",
            "\u001b[0;32m~/.virtualenvs/HW3/lib/python3.8/site-packages/torchvision/transforms/functional.py\u001b[0m in \u001b[0;36mto_tensor\u001b[0;34m(pic)\u001b[0m\n\u001b[1;32m    134\u001b[0m         \u001b[0mimg\u001b[0m \u001b[0;34m=\u001b[0m \u001b[0;36m255\u001b[0m \u001b[0;34m*\u001b[0m \u001b[0mtorch\u001b[0m\u001b[0;34m.\u001b[0m\u001b[0mfrom_numpy\u001b[0m\u001b[0;34m(\u001b[0m\u001b[0mnp\u001b[0m\u001b[0;34m.\u001b[0m\u001b[0marray\u001b[0m\u001b[0;34m(\u001b[0m\u001b[0mpic\u001b[0m\u001b[0;34m,\u001b[0m \u001b[0mnp\u001b[0m\u001b[0;34m.\u001b[0m\u001b[0muint8\u001b[0m\u001b[0;34m,\u001b[0m \u001b[0mcopy\u001b[0m\u001b[0;34m=\u001b[0m\u001b[0;32mFalse\u001b[0m\u001b[0;34m)\u001b[0m\u001b[0;34m)\u001b[0m\u001b[0;34m\u001b[0m\u001b[0;34m\u001b[0m\u001b[0m\n\u001b[1;32m    135\u001b[0m     \u001b[0;32melse\u001b[0m\u001b[0;34m:\u001b[0m\u001b[0;34m\u001b[0m\u001b[0;34m\u001b[0m\u001b[0m\n\u001b[0;32m--> 136\u001b[0;31m         \u001b[0mimg\u001b[0m \u001b[0;34m=\u001b[0m \u001b[0mtorch\u001b[0m\u001b[0;34m.\u001b[0m\u001b[0mByteTensor\u001b[0m\u001b[0;34m(\u001b[0m\u001b[0mtorch\u001b[0m\u001b[0;34m.\u001b[0m\u001b[0mByteStorage\u001b[0m\u001b[0;34m.\u001b[0m\u001b[0mfrom_buffer\u001b[0m\u001b[0;34m(\u001b[0m\u001b[0mpic\u001b[0m\u001b[0;34m.\u001b[0m\u001b[0mtobytes\u001b[0m\u001b[0;34m(\u001b[0m\u001b[0;34m)\u001b[0m\u001b[0;34m)\u001b[0m\u001b[0;34m)\u001b[0m\u001b[0;34m\u001b[0m\u001b[0;34m\u001b[0m\u001b[0m\n\u001b[0m\u001b[1;32m    137\u001b[0m \u001b[0;34m\u001b[0m\u001b[0m\n\u001b[1;32m    138\u001b[0m     \u001b[0mimg\u001b[0m \u001b[0;34m=\u001b[0m \u001b[0mimg\u001b[0m\u001b[0;34m.\u001b[0m\u001b[0mview\u001b[0m\u001b[0;34m(\u001b[0m\u001b[0mpic\u001b[0m\u001b[0;34m.\u001b[0m\u001b[0msize\u001b[0m\u001b[0;34m[\u001b[0m\u001b[0;36m1\u001b[0m\u001b[0;34m]\u001b[0m\u001b[0;34m,\u001b[0m \u001b[0mpic\u001b[0m\u001b[0;34m.\u001b[0m\u001b[0msize\u001b[0m\u001b[0;34m[\u001b[0m\u001b[0;36m0\u001b[0m\u001b[0;34m]\u001b[0m\u001b[0;34m,\u001b[0m \u001b[0mlen\u001b[0m\u001b[0;34m(\u001b[0m\u001b[0mpic\u001b[0m\u001b[0;34m.\u001b[0m\u001b[0mgetbands\u001b[0m\u001b[0;34m(\u001b[0m\u001b[0;34m)\u001b[0m\u001b[0;34m)\u001b[0m\u001b[0;34m)\u001b[0m\u001b[0;34m\u001b[0m\u001b[0;34m\u001b[0m\u001b[0m\n",
            "\u001b[0;32m~/.virtualenvs/HW3/lib/python3.8/site-packages/PIL/Image.py\u001b[0m in \u001b[0;36mtobytes\u001b[0;34m(self, encoder_name, *args)\u001b[0m\n\u001b[1;32m    742\u001b[0m         \u001b[0mdata\u001b[0m \u001b[0;34m=\u001b[0m \u001b[0;34m[\u001b[0m\u001b[0;34m]\u001b[0m\u001b[0;34m\u001b[0m\u001b[0;34m\u001b[0m\u001b[0m\n\u001b[1;32m    743\u001b[0m         \u001b[0;32mwhile\u001b[0m \u001b[0;32mTrue\u001b[0m\u001b[0;34m:\u001b[0m\u001b[0;34m\u001b[0m\u001b[0;34m\u001b[0m\u001b[0m\n\u001b[0;32m--> 744\u001b[0;31m             \u001b[0ml\u001b[0m\u001b[0;34m,\u001b[0m \u001b[0ms\u001b[0m\u001b[0;34m,\u001b[0m \u001b[0md\u001b[0m \u001b[0;34m=\u001b[0m \u001b[0me\u001b[0m\u001b[0;34m.\u001b[0m\u001b[0mencode\u001b[0m\u001b[0;34m(\u001b[0m\u001b[0mbufsize\u001b[0m\u001b[0;34m)\u001b[0m\u001b[0;34m\u001b[0m\u001b[0;34m\u001b[0m\u001b[0m\n\u001b[0m\u001b[1;32m    745\u001b[0m             \u001b[0mdata\u001b[0m\u001b[0;34m.\u001b[0m\u001b[0mappend\u001b[0m\u001b[0;34m(\u001b[0m\u001b[0md\u001b[0m\u001b[0;34m)\u001b[0m\u001b[0;34m\u001b[0m\u001b[0;34m\u001b[0m\u001b[0m\n\u001b[1;32m    746\u001b[0m             \u001b[0;32mif\u001b[0m \u001b[0ms\u001b[0m\u001b[0;34m:\u001b[0m\u001b[0;34m\u001b[0m\u001b[0;34m\u001b[0m\u001b[0m\n",
            "\u001b[0;31mKeyboardInterrupt\u001b[0m: "
          ]
        }
      ]
    },
    {
      "cell_type": "code",
      "execution_count": null,
      "metadata": {},
      "outputs": [],
      "source": [
        "discriminator"
      ]
    },
    {
      "cell_type": "code",
      "metadata": {
        "id": "NV1Vtj8JYOla"
      },
      "source": [
        "print('DONE TRAINING')\n",
        "torch.save(generator.state_dict(), path + 'generator.pth')\n",
        "path"
      ],
      "execution_count": 1,
      "outputs": [
        {
          "output_type": "stream",
          "name": "stdout",
          "text": [
            "DONE TRAINING\n"
          ]
        },
        {
          "output_type": "error",
          "ename": "NameError",
          "evalue": "name 'torch' is not defined",
          "traceback": [
            "\u001b[0;31m---------------------------------------------------------------------------\u001b[0m",
            "\u001b[0;31mNameError\u001b[0m                                 Traceback (most recent call last)",
            "\u001b[0;32m<ipython-input-1-92aa732d7a94>\u001b[0m in \u001b[0;36m<module>\u001b[0;34m\u001b[0m\n\u001b[1;32m      1\u001b[0m \u001b[0mprint\u001b[0m\u001b[0;34m(\u001b[0m\u001b[0;34m'DONE TRAINING'\u001b[0m\u001b[0;34m)\u001b[0m\u001b[0;34m\u001b[0m\u001b[0;34m\u001b[0m\u001b[0m\n\u001b[0;32m----> 2\u001b[0;31m \u001b[0mtorch\u001b[0m\u001b[0;34m.\u001b[0m\u001b[0msave\u001b[0m\u001b[0;34m(\u001b[0m\u001b[0mgenerator\u001b[0m\u001b[0;34m.\u001b[0m\u001b[0mstate_dict\u001b[0m\u001b[0;34m(\u001b[0m\u001b[0;34m)\u001b[0m\u001b[0;34m,\u001b[0m \u001b[0mpath\u001b[0m \u001b[0;34m+\u001b[0m \u001b[0;34m'generator.pth'\u001b[0m\u001b[0;34m)\u001b[0m\u001b[0;34m\u001b[0m\u001b[0;34m\u001b[0m\u001b[0m\n\u001b[0m\u001b[1;32m      3\u001b[0m \u001b[0mpath\u001b[0m\u001b[0;34m\u001b[0m\u001b[0;34m\u001b[0m\u001b[0m\n",
            "\u001b[0;31mNameError\u001b[0m: name 'torch' is not defined"
          ]
        }
      ]
    },
    {
      "cell_type": "code",
      "metadata": {
        "id": "II3WYevue4FW"
      },
      "source": [
        "imgs = [np.array(to_pil_image(img)) for img in images]\n",
        "imageio.mimsave(path + 'generator_images.gif', imgs)"
      ],
      "execution_count": 22,
      "outputs": []
    },
    {
      "cell_type": "code",
      "metadata": {
        "colab": {
          "base_uri": "https://localhost:8080/",
          "height": 265
        },
        "id": "vQTiNztJfVpt",
        "outputId": "78767a7f-79ac-4366-f16f-eae67e5a96a8"
      },
      "source": [
        "plt.figure()\n",
        "plt.plot(losses_g, label='Generator loss')\n",
        "plt.plot(losses_d, label='Discriminator Loss')\n",
        "plt.legend()\n",
        "plt.savefig(path + 'loss.png')"
      ],
      "execution_count": null,
      "outputs": []
    },
    {
      "cell_type": "code",
      "metadata": {
        "id": "ZE4GO9YDfash"
      },
      "source": [],
      "execution_count": null,
      "outputs": []
    }
  ]
}