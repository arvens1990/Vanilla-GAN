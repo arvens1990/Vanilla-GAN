{
  "nbformat": 4,
  "nbformat_minor": 0,
  "metadata": {
    "colab": {
      "name": "problem_2.ipynb",
      "provenance": []
    },
    "kernelspec": {
      "name": "python382jvsc74a57bd0a94883f8812057f41bf7c0f7649a41127778eaf25b6b91e0966940eb42cb8f65",
      "display_name": "Python 3.8.2 64-bit ('HW3': virtualenvwrapper)"
    },
    "language_info": {
      "name": "python",
      "version": "3.8.2"
    },
    "accelerator": "GPU",
    "metadata": {
      "interpreter": {
        "hash": "a94883f8812057f41bf7c0f7649a41127778eaf25b6b91e0966940eb42cb8f65"
      }
    }
  },
  "cells": [
    {
      "cell_type": "code",
      "metadata": {
        "colab": {
          "base_uri": "https://localhost:8080/"
        },
        "id": "1t3QWTo82IWJ",
        "outputId": "e51e49f4-2dca-4226-9d3a-5a5e9b8b2fd8"
      },
      "source": [
        "# from google.colab import drive\n",
        "# drive.mount('/content/drive')"
      ],
      "execution_count": 19,
      "outputs": []
    },
    {
      "cell_type": "code",
      "metadata": {
        "id": "NxMVkEcI2k4u"
      },
      "source": [
        "import numpy as np\n",
        "import pandas as pd\n",
        "import torch\n",
        "import torchvision as tv\n",
        "import re\n",
        "import time\n",
        "from torch.utils.data import DataLoader, TensorDataset\n",
        "from torch.nn import Module, GRU, Embedding, Linear, Sigmoid, CrossEntropyLoss, ReLU, Tanh, Sequential\n",
        "from torch import nn\n",
        "from torchvision import transforms\n",
        "import torch.optim as optim\n",
        "from torchvision.utils import make_grid, save_image\n",
        "from tqdm import tqdm\n",
        "import torch\n",
        "import torch.nn as nn\n",
        "import torchvision.transforms as transforms\n",
        "import torch.optim as optim\n",
        "import torchvision.datasets as datasets\n",
        "import imageio\n",
        "import numpy as np\n",
        "import matplotlib\n",
        "from torchvision.utils import make_grid, save_image\n",
        "from torch.utils.data import DataLoader\n",
        "from matplotlib import pyplot as plt\n",
        "from tqdm import tqdm\n",
        "matplotlib.style.use('ggplot')"
      ],
      "execution_count": 20,
      "outputs": []
    },
    {
      "cell_type": "code",
      "metadata": {
        "id": "gGIf8C6GB7-5"
      },
      "source": [
        "# learning parameters\n",
        "batch_size = 512\n",
        "epochs = 200\n",
        "sample_size = 64 # fixed sample size\n",
        "nz = 128 # latent vector size\n",
        "k = 1 # number of steps to apply to the discriminator\n",
        "device = torch.device('cuda' if torch.cuda.is_available() else 'cpu')"
      ],
      "execution_count": 21,
      "outputs": []
    },
    {
      "cell_type": "code",
      "metadata": {
        "id": "5ldDzsOLBPMJ"
      },
      "source": [
        "transform = transforms.Compose([\n",
        "                                transforms.ToTensor(),\n",
        "                                transforms.Normalize((0.5,),(0.5,)),\n",
        "])\n",
        "to_pil_image = transforms.ToPILImage()"
      ],
      "execution_count": 22,
      "outputs": []
    },
    {
      "cell_type": "code",
      "metadata": {
        "id": "KmNXt6n12wRu"
      },
      "source": [
        "fmnist = datasets.FashionMNIST(root='./', train=True, download=True, transform=transform)\n",
        "data_loader = DataLoader(fmnist, batch_size=batch_size, shuffle=True)"
      ],
      "execution_count": 23,
      "outputs": []
    },
    {
      "cell_type": "code",
      "metadata": {
        "id": "peaMJAPx4ss5"
      },
      "source": [
        "class Generator(Module):\n",
        "    def __init__(self, nz):\n",
        "        super(Generator, self).__init__()\n",
        "        self.nz = nz\n",
        "        self.main = Sequential(\n",
        "            Linear(self.nz, 256),\n",
        "            ReLU(),\n",
        "\n",
        "            Linear(256, 512),\n",
        "            ReLU(),\n",
        "\n",
        "            Linear(512, 784),\n",
        "            Tanh(),\n",
        "        )\n",
        "\n",
        "    def forward(self, x):\n",
        "        return self.main(x).view(-1, 1, 28, 28)\n"
      ],
      "execution_count": 24,
      "outputs": []
    },
    {
      "cell_type": "code",
      "metadata": {
        "id": "1oJcazUH8iDS"
      },
      "source": [
        "class Discriminator(Module):\n",
        "    def __init__(self):\n",
        "        super(Discriminator, self).__init__()\n",
        "        self.n_input = 784\n",
        "        self.main = Sequential(\n",
        "            Linear(self.n_input, 1024),\n",
        "            ReLU(),\n",
        "            Linear(1024, 512),\n",
        "            ReLU(),\n",
        "            Linear(512, 1),\n",
        "            nn.Sigmoid(),\n",
        "        )\n",
        "    def forward(self, x):\n",
        "        x = x.view(-1, 784)\n",
        "        return self.main(x)"
      ],
      "execution_count": 25,
      "outputs": []
    },
    {
      "cell_type": "markdown",
      "metadata": {
        "id": "7adj8WbJ9qpH"
      },
      "source": [
        "Initialize the Neural Networks and Define the Optimizers"
      ]
    },
    {
      "cell_type": "code",
      "metadata": {
        "colab": {
          "base_uri": "https://localhost:8080/"
        },
        "id": "p51ZeaQa9Vge",
        "outputId": "c2729b8e-2058-477d-b3e6-3f1a52ce2927"
      },
      "source": [
        "\n",
        "\n",
        "generator = Generator(nz).to(device)\n",
        "discriminator = Discriminator().to(device)\n",
        "print('##### GENERATOR #####')\n",
        "print(generator)\n",
        "print('######################')\n",
        "print('\\n##### DISCRIMINATOR #####')\n",
        "print(discriminator)\n",
        "print('######################')"
      ],
      "execution_count": 26,
      "outputs": [
        {
          "output_type": "stream",
          "name": "stdout",
          "text": [
            "##### GENERATOR #####\nGenerator(\n  (main): Sequential(\n    (0): Linear(in_features=128, out_features=256, bias=True)\n    (1): ReLU()\n    (2): Linear(in_features=256, out_features=512, bias=True)\n    (3): ReLU()\n    (4): Linear(in_features=512, out_features=784, bias=True)\n    (5): Tanh()\n  )\n)\n######################\n\n##### DISCRIMINATOR #####\nDiscriminator(\n  (main): Sequential(\n    (0): Linear(in_features=784, out_features=1024, bias=True)\n    (1): ReLU()\n    (2): Linear(in_features=1024, out_features=512, bias=True)\n    (3): ReLU()\n    (4): Linear(in_features=512, out_features=1, bias=True)\n    (5): Sigmoid()\n  )\n)\n######################\n"
          ]
        }
      ]
    },
    {
      "cell_type": "code",
      "metadata": {
        "id": "ZKlcQe_n-bHR"
      },
      "source": [
        "# optimizers\n",
        "\n",
        "optim_g = optim.Adam(generator.parameters(), lr=0.0002)\n",
        "optim_d = optim.Adam(discriminator.parameters(), lr=0.0002)"
      ],
      "execution_count": 27,
      "outputs": []
    },
    {
      "cell_type": "code",
      "metadata": {
        "id": "rPNn0bai-r8-"
      },
      "source": [
        "# loss function\n",
        "criterion = nn.BCELoss()\n"
      ],
      "execution_count": 28,
      "outputs": []
    },
    {
      "cell_type": "code",
      "metadata": {
        "id": "mQJ7sr__-yEb"
      },
      "source": [
        "losses_g = [] # to store generator loss after each epoch\n",
        "losses_d = [] # to store discriminator loss after each epoch\n",
        "images = [] # to store images generatd by the generator"
      ],
      "execution_count": 29,
      "outputs": []
    },
    {
      "cell_type": "code",
      "metadata": {
        "id": "g5L3H3nt_Pny"
      },
      "source": [
        "# to create real labels (1s)\n",
        "def label_real(size):\n",
        "    data = torch.ones(size, 1)\n",
        "    return data.to(device)\n",
        "# to create fake labels (0s)\n",
        "def label_fake(size):\n",
        "    data = torch.zeros(size, 1)\n",
        "    return data.to(device)"
      ],
      "execution_count": 30,
      "outputs": []
    },
    {
      "cell_type": "code",
      "metadata": {
        "id": "n0BoEe0__VJf"
      },
      "source": [
        "def create_noise(sample_size, nz):\n",
        "    return torch.randn(sample_size, nz).to(device)"
      ],
      "execution_count": 31,
      "outputs": []
    },
    {
      "cell_type": "code",
      "metadata": {
        "id": "Xu4X0hef_ZV-"
      },
      "source": [
        "# to save the images generated by the generator\n",
        "def save_generator_image(image, path):\n",
        "    save_image(image, path)"
      ],
      "execution_count": 32,
      "outputs": []
    },
    {
      "cell_type": "code",
      "metadata": {
        "id": "f2Qqdkv4_qXO"
      },
      "source": [
        "# function to train the discriminator network\n",
        "def train_discriminator(optimizer, data_real, data_fake):\n",
        "    b_size = data_real.size(0)\n",
        "    real_label = label_real(b_size)\n",
        "    fake_label = label_fake(b_size)\n",
        "    optimizer.zero_grad()\n",
        "    output_real = discriminator(data_real)\n",
        "    loss_real = criterion(output_real, real_label)\n",
        "    output_fake = discriminator(data_fake)\n",
        "    loss_fake = criterion(output_fake, fake_label)\n",
        "    loss_real.backward()\n",
        "    loss_fake.backward()\n",
        "    optimizer.step()\n",
        "    return loss_real + loss_fake"
      ],
      "execution_count": 33,
      "outputs": []
    },
    {
      "cell_type": "code",
      "metadata": {
        "id": "ANvhtzh1_3eu"
      },
      "source": [
        "# function to train the generator network\n",
        "def train_generator(optimizer, data_fake):\n",
        "    b_size = data_fake.size(0)\n",
        "    real_label = label_real(b_size)\n",
        "    optimizer.zero_grad()\n",
        "    output = discriminator(data_fake)\n",
        "    loss = criterion(output, real_label)\n",
        "    loss.backward()\n",
        "    optimizer.step()\n",
        "    return loss"
      ],
      "execution_count": 34,
      "outputs": []
    },
    {
      "cell_type": "code",
      "metadata": {
        "colab": {
          "base_uri": "https://localhost:8080/"
        },
        "id": "tT0w5o2-_5k3",
        "outputId": "3f7776af-9747-4ca4-ad21-4ba8e91758b2"
      },
      "source": [
        "# create the noise vector\n",
        "noise = create_noise(sample_size, nz)\n",
        "generator.train()\n",
        "discriminator.train()"
      ],
      "execution_count": 35,
      "outputs": [
        {
          "output_type": "execute_result",
          "data": {
            "text/plain": [
              "Discriminator(\n",
              "  (main): Sequential(\n",
              "    (0): Linear(in_features=784, out_features=1024, bias=True)\n",
              "    (1): ReLU()\n",
              "    (2): Linear(in_features=1024, out_features=512, bias=True)\n",
              "    (3): ReLU()\n",
              "    (4): Linear(in_features=512, out_features=1, bias=True)\n",
              "    (5): Sigmoid()\n",
              "  )\n",
              ")"
            ]
          },
          "metadata": {},
          "execution_count": 35
        }
      ]
    },
    {
      "cell_type": "code",
      "metadata": {
        "colab": {
          "base_uri": "https://localhost:8080/"
        },
        "id": "kc2K7_CUAULN",
        "outputId": "79febb0a-eff2-4cf1-dde1-1ce235541231",
        "tags": [
          "outputPrepend"
        ]
      },
      "source": [
        "# path = \"/content/drive/MyDrive/Deep_Learning/HW3/\"\n",
        "path = \"./models/vanilla_gan/\"\n",
        "epochs = 200\n",
        "# k = 10\n",
        "length = 0.\n",
        "\n",
        "losses_g = [] # to store generator loss after each epoch\n",
        "losses_d = [] # to store discriminator loss after each epoch\n",
        "images = [] # to store images generatd by the generator\n",
        "\n",
        "for epoch in range(epochs):\n",
        "    start = time.time()\n",
        "    loss_g = 0.0\n",
        "    loss_d = 0.0\n",
        "    for bi, data in enumerate(data_loader):\n",
        "        image, _ = data\n",
        "        image = image.to(device)\n",
        "        b_size = len(image)\n",
        "        # run the discriminator for k number of steps\n",
        "        for step in range(k):\n",
        "            # print(create_noise(b_size, nz).shape)\n",
        "            data_fake = generator(create_noise(b_size, nz)).detach()\n",
        "            data_real = image\n",
        "            # train the discriminator network\n",
        "            loss_d += train_discriminator(optim_d, data_real, data_fake)\n",
        "        data_fake = generator(create_noise(b_size, nz))\n",
        "        # train the generator network\n",
        "        loss_g += train_generator(optim_g, data_fake)\n",
        "    # create the final fake image for the epoch\n",
        "    generated_img = generator(noise).cpu().detach()\n",
        "    # make the images as grid\n",
        "    generated_img = make_grid(generated_img)\n",
        "    # save the generated torch tensor models to disk\n",
        "    save_generator_image(generated_img, path + f\"gen_img{epoch}.png\")\n",
        "    images.append(generated_img)\n",
        "    epoch_loss_g = loss_g / bi # total generator loss for the epoch\n",
        "    epoch_loss_d = loss_d / bi # total discriminator loss for the epoch\n",
        "    losses_g.append(epoch_loss_g)\n",
        "    losses_d.append(epoch_loss_d)\n",
        "    end = time.time() - start\n",
        "    length += end\n",
        "    mean_so_far = length / (epoch+1)\n",
        "    time_left = (mean_so_far * (epochs - epoch - 1))/60\n",
        "    \n",
        "    print(f\"Epoch {epoch} of {epochs}:\\t\\t{end:.2f} seconds;\\ttotal: {length:.2f};\\tminutes left: {time_left:.2f}\")\n",
        "    print(f\"Generator loss: {epoch_loss_g:.8f}, Discriminator loss: {epoch_loss_d:.8f}\")"
      ],
      "execution_count": 36,
      "outputs": [
        {
          "output_type": "stream",
          "name": "stdout",
          "text": [
            "eft: 103.96\n",
            "Generator loss: 9.62438107, Discriminator loss: 0.46294844\n",
            "Epoch 45 of 200:\t\t46.84 seconds;\ttotal: 1857.75;\tminutes left: 103.66\n",
            "Generator loss: 6.38235092, Discriminator loss: 0.21268624\n",
            "Epoch 46 of 200:\t\t46.14 seconds;\ttotal: 1903.89;\tminutes left: 103.30\n",
            "Generator loss: 6.42292118, Discriminator loss: 0.16593960\n",
            "Epoch 47 of 200:\t\t43.39 seconds;\ttotal: 1947.28;\tminutes left: 102.77\n",
            "Generator loss: 6.04775047, Discriminator loss: 0.20457686\n",
            "Epoch 48 of 200:\t\t43.26 seconds;\ttotal: 1990.54;\tminutes left: 102.24\n",
            "Generator loss: 6.78511286, Discriminator loss: 0.23237662\n",
            "Epoch 49 of 200:\t\t39.95 seconds;\ttotal: 2030.49;\tminutes left: 101.52\n",
            "Generator loss: 8.27967834, Discriminator loss: 0.35382560\n",
            "Epoch 50 of 200:\t\t41.38 seconds;\ttotal: 2071.87;\tminutes left: 100.89\n",
            "Generator loss: 7.79340029, Discriminator loss: 0.23028862\n",
            "Epoch 51 of 200:\t\t36.66 seconds;\ttotal: 2108.52;\tminutes left: 100.02\n",
            "Generator loss: 7.11012506, Discriminator loss: 0.15610741\n",
            "Epoch 52 of 200:\t\t31.86 seconds;\ttotal: 2140.38;\tminutes left: 98.94\n",
            "Generator loss: 6.71943378, Discriminator loss: 0.18908241\n",
            "Epoch 53 of 200:\t\t35.03 seconds;\ttotal: 2175.41;\tminutes left: 98.03\n",
            "Generator loss: 5.66539955, Discriminator loss: 0.15048046\n",
            "Epoch 54 of 200:\t\t31.82 seconds;\ttotal: 2207.23;\tminutes left: 96.98\n",
            "Generator loss: 5.81726646, Discriminator loss: 0.23266150\n",
            "Epoch 55 of 200:\t\t32.14 seconds;\ttotal: 2239.37;\tminutes left: 95.97\n",
            "Generator loss: 6.69174290, Discriminator loss: 0.31176546\n",
            "Epoch 56 of 200:\t\t33.86 seconds;\ttotal: 2273.23;\tminutes left: 95.05\n",
            "Generator loss: 7.32187605, Discriminator loss: 0.23589489\n",
            "Epoch 57 of 200:\t\t31.43 seconds;\ttotal: 2304.66;\tminutes left: 94.04\n",
            "Generator loss: 6.39574671, Discriminator loss: 0.18385565\n",
            "Epoch 58 of 200:\t\t31.92 seconds;\ttotal: 2336.58;\tminutes left: 93.07\n",
            "Generator loss: 5.39730978, Discriminator loss: 0.17867695\n",
            "Epoch 59 of 200:\t\t31.97 seconds;\ttotal: 2368.54;\tminutes left: 92.11\n",
            "Generator loss: 5.29706383, Discriminator loss: 0.20213564\n",
            "Epoch 60 of 200:\t\t32.14 seconds;\ttotal: 2400.68;\tminutes left: 91.17\n",
            "Generator loss: 6.17566586, Discriminator loss: 0.35278612\n",
            "Epoch 61 of 200:\t\t32.28 seconds;\ttotal: 2432.96;\tminutes left: 90.26\n",
            "Generator loss: 5.06317663, Discriminator loss: 0.24565294\n",
            "Epoch 62 of 200:\t\t31.99 seconds;\ttotal: 2464.95;\tminutes left: 89.34\n",
            "Generator loss: 5.08506966, Discriminator loss: 0.18974286\n",
            "Epoch 63 of 200:\t\t31.99 seconds;\ttotal: 2496.94;\tminutes left: 88.43\n",
            "Generator loss: 5.62231255, Discriminator loss: 0.17659168\n",
            "Epoch 64 of 200:\t\t32.08 seconds;\ttotal: 2529.02;\tminutes left: 87.54\n",
            "Generator loss: 5.90095472, Discriminator loss: 0.21662231\n",
            "Epoch 65 of 200:\t\t32.03 seconds;\ttotal: 2561.05;\tminutes left: 86.66\n",
            "Generator loss: 5.75077820, Discriminator loss: 0.26420036\n",
            "Epoch 66 of 200:\t\t32.18 seconds;\ttotal: 2593.23;\tminutes left: 85.80\n",
            "Generator loss: 5.36967754, Discriminator loss: 0.21420272\n",
            "Epoch 67 of 200:\t\t32.18 seconds;\ttotal: 2625.41;\tminutes left: 84.94\n",
            "Generator loss: 6.05940437, Discriminator loss: 0.21115266\n",
            "Epoch 68 of 200:\t\t31.96 seconds;\ttotal: 2657.37;\tminutes left: 84.09\n",
            "Generator loss: 6.32203102, Discriminator loss: 0.19980177\n",
            "Epoch 69 of 200:\t\t32.78 seconds;\ttotal: 2690.15;\tminutes left: 83.27\n",
            "Generator loss: 5.97883129, Discriminator loss: 0.19433129\n",
            "Epoch 70 of 200:\t\t35.87 seconds;\ttotal: 2726.02;\tminutes left: 82.55\n",
            "Generator loss: 5.91906548, Discriminator loss: 0.22024868\n",
            "Epoch 71 of 200:\t\t33.87 seconds;\ttotal: 2759.89;\tminutes left: 81.77\n",
            "Generator loss: 5.77046919, Discriminator loss: 0.21253346\n",
            "Epoch 72 of 200:\t\t33.65 seconds;\ttotal: 2793.54;\tminutes left: 81.00\n",
            "Generator loss: 5.38891745, Discriminator loss: 0.17963016\n",
            "Epoch 73 of 200:\t\t34.44 seconds;\ttotal: 2827.98;\tminutes left: 80.25\n",
            "Generator loss: 5.33357525, Discriminator loss: 0.20611639\n",
            "Epoch 74 of 200:\t\t33.61 seconds;\ttotal: 2861.59;\tminutes left: 79.49\n",
            "Generator loss: 5.75261354, Discriminator loss: 0.24659905\n",
            "Epoch 75 of 200:\t\t33.17 seconds;\ttotal: 2894.75;\tminutes left: 78.72\n",
            "Generator loss: 5.45819139, Discriminator loss: 0.21582888\n",
            "Epoch 76 of 200:\t\t33.83 seconds;\ttotal: 2928.58;\tminutes left: 77.97\n",
            "Generator loss: 5.74186611, Discriminator loss: 0.21907766\n",
            "Epoch 77 of 200:\t\t33.26 seconds;\ttotal: 2961.83;\tminutes left: 77.21\n",
            "Generator loss: 6.11578035, Discriminator loss: 0.22628801\n",
            "Epoch 78 of 200:\t\t33.31 seconds;\ttotal: 2995.14;\tminutes left: 76.46\n",
            "Generator loss: 7.03156614, Discriminator loss: 0.23314248\n",
            "Epoch 79 of 200:\t\t33.12 seconds;\ttotal: 3028.26;\tminutes left: 75.71\n",
            "Generator loss: 5.54496193, Discriminator loss: 0.19558445\n",
            "Epoch 80 of 200:\t\t33.08 seconds;\ttotal: 3061.35;\tminutes left: 74.96\n",
            "Generator loss: 4.73370361, Discriminator loss: 0.17250541\n",
            "Epoch 81 of 200:\t\t33.14 seconds;\ttotal: 3094.49;\tminutes left: 74.22\n",
            "Generator loss: 4.58592272, Discriminator loss: 0.18763034\n",
            "Epoch 82 of 200:\t\t34.14 seconds;\ttotal: 3128.62;\tminutes left: 73.50\n",
            "Generator loss: 5.13848495, Discriminator loss: 0.24228235\n",
            "Epoch 83 of 200:\t\t31.90 seconds;\ttotal: 3160.52;\tminutes left: 72.74\n",
            "Generator loss: 5.80276346, Discriminator loss: 0.24399969\n",
            "Epoch 84 of 200:\t\t31.98 seconds;\ttotal: 3192.50;\tminutes left: 71.99\n",
            "Generator loss: 4.69318342, Discriminator loss: 0.26924294\n",
            "Epoch 85 of 200:\t\t31.85 seconds;\ttotal: 3224.35;\tminutes left: 71.24\n",
            "Generator loss: 5.56940126, Discriminator loss: 0.25873736\n",
            "Epoch 86 of 200:\t\t32.03 seconds;\ttotal: 3256.38;\tminutes left: 70.49\n",
            "Generator loss: 4.60929012, Discriminator loss: 0.22958016\n",
            "Epoch 87 of 200:\t\t31.24 seconds;\ttotal: 3287.61;\tminutes left: 69.74\n",
            "Generator loss: 4.44305944, Discriminator loss: 0.20828819\n",
            "Epoch 88 of 200:\t\t31.57 seconds;\ttotal: 3319.18;\tminutes left: 68.99\n",
            "Generator loss: 5.14735460, Discriminator loss: 0.30629337\n",
            "Epoch 89 of 200:\t\t31.83 seconds;\ttotal: 3351.01;\tminutes left: 68.26\n",
            "Generator loss: 4.94239140, Discriminator loss: 0.23778927\n",
            "Epoch 90 of 200:\t\t31.76 seconds;\ttotal: 3382.77;\tminutes left: 67.53\n",
            "Generator loss: 4.50016022, Discriminator loss: 0.24343929\n",
            "Epoch 91 of 200:\t\t31.67 seconds;\ttotal: 3414.44;\tminutes left: 66.80\n",
            "Generator loss: 5.43528128, Discriminator loss: 0.24509415\n",
            "Epoch 92 of 200:\t\t29.86 seconds;\ttotal: 3444.30;\tminutes left: 66.05\n",
            "Generator loss: 5.05108404, Discriminator loss: 0.31164598\n",
            "Epoch 93 of 200:\t\t28.84 seconds;\ttotal: 3473.14;\tminutes left: 65.28\n",
            "Generator loss: 5.48442841, Discriminator loss: 0.29382390\n",
            "Epoch 94 of 200:\t\t26.22 seconds;\ttotal: 3499.36;\tminutes left: 64.46\n",
            "Generator loss: 4.28863668, Discriminator loss: 0.23496912\n",
            "Epoch 95 of 200:\t\t25.58 seconds;\ttotal: 3524.94;\tminutes left: 63.64\n",
            "Generator loss: 4.78532076, Discriminator loss: 0.28200206\n",
            "Epoch 96 of 200:\t\t26.58 seconds;\ttotal: 3551.51;\tminutes left: 62.85\n",
            "Generator loss: 4.95083857, Discriminator loss: 0.29772040\n",
            "Epoch 97 of 200:\t\t29.44 seconds;\ttotal: 3580.95;\tminutes left: 62.12\n",
            "Generator loss: 5.18178082, Discriminator loss: 0.22148946\n",
            "Epoch 98 of 200:\t\t29.29 seconds;\ttotal: 3610.24;\tminutes left: 61.39\n",
            "Generator loss: 5.02812386, Discriminator loss: 0.22966261\n",
            "Epoch 99 of 200:\t\t29.38 seconds;\ttotal: 3639.62;\tminutes left: 60.66\n",
            "Generator loss: 4.88704634, Discriminator loss: 0.28313994\n",
            "Epoch 100 of 200:\t\t29.43 seconds;\ttotal: 3669.05;\tminutes left: 59.94\n",
            "Generator loss: 4.65359545, Discriminator loss: 0.29522744\n",
            "Epoch 101 of 200:\t\t29.32 seconds;\ttotal: 3698.38;\tminutes left: 59.22\n",
            "Generator loss: 4.40657139, Discriminator loss: 0.28815365\n",
            "Epoch 102 of 200:\t\t29.39 seconds;\ttotal: 3727.76;\tminutes left: 58.51\n",
            "Generator loss: 4.67886877, Discriminator loss: 0.22521836\n",
            "Epoch 103 of 200:\t\t29.35 seconds;\ttotal: 3757.11;\tminutes left: 57.80\n",
            "Generator loss: 5.41373968, Discriminator loss: 0.38188764\n",
            "Epoch 104 of 200:\t\t29.41 seconds;\ttotal: 3786.52;\tminutes left: 57.10\n",
            "Generator loss: 4.08548212, Discriminator loss: 0.24155778\n",
            "Epoch 105 of 200:\t\t29.55 seconds;\ttotal: 3816.07;\tminutes left: 56.40\n",
            "Generator loss: 5.04830408, Discriminator loss: 0.30049232\n",
            "Epoch 106 of 200:\t\t29.77 seconds;\ttotal: 3845.84;\tminutes left: 55.71\n",
            "Generator loss: 5.07438374, Discriminator loss: 0.30633759\n",
            "Epoch 107 of 200:\t\t30.08 seconds;\ttotal: 3875.92;\tminutes left: 55.03\n",
            "Generator loss: 4.33088112, Discriminator loss: 0.21393073\n",
            "Epoch 108 of 200:\t\t29.99 seconds;\ttotal: 3905.91;\tminutes left: 54.35\n",
            "Generator loss: 5.25188637, Discriminator loss: 0.26135015\n",
            "Epoch 109 of 200:\t\t29.55 seconds;\ttotal: 3935.46;\tminutes left: 53.67\n",
            "Generator loss: 5.78918123, Discriminator loss: 0.25832894\n",
            "Epoch 110 of 200:\t\t29.37 seconds;\ttotal: 3964.84;\tminutes left: 52.98\n",
            "Generator loss: 4.52696180, Discriminator loss: 0.28502768\n",
            "Epoch 111 of 200:\t\t29.25 seconds;\ttotal: 3994.08;\tminutes left: 52.30\n",
            "Generator loss: 4.27189159, Discriminator loss: 0.17532931\n",
            "Epoch 112 of 200:\t\t29.07 seconds;\ttotal: 4023.15;\tminutes left: 51.62\n",
            "Generator loss: 5.28738785, Discriminator loss: 0.35780510\n",
            "Epoch 113 of 200:\t\t29.51 seconds;\ttotal: 4052.65;\tminutes left: 50.95\n",
            "Generator loss: 4.94678736, Discriminator loss: 0.31611794\n",
            "Epoch 114 of 200:\t\t30.80 seconds;\ttotal: 4083.45;\tminutes left: 50.30\n",
            "Generator loss: 5.05643654, Discriminator loss: 0.30810747\n",
            "Epoch 115 of 200:\t\t30.15 seconds;\ttotal: 4113.60;\tminutes left: 49.65\n",
            "Generator loss: 5.17434311, Discriminator loss: 0.27860820\n",
            "Epoch 116 of 200:\t\t30.07 seconds;\ttotal: 4143.67;\tminutes left: 48.99\n",
            "Generator loss: 5.36659431, Discriminator loss: 0.23839721\n",
            "Epoch 117 of 200:\t\t30.99 seconds;\ttotal: 4174.67;\tminutes left: 48.35\n",
            "Generator loss: 5.07472420, Discriminator loss: 0.23721990\n",
            "Epoch 118 of 200:\t\t31.07 seconds;\ttotal: 4205.73;\tminutes left: 47.71\n",
            "Generator loss: 5.37870169, Discriminator loss: 0.32015610\n",
            "Epoch 119 of 200:\t\t31.75 seconds;\ttotal: 4237.48;\tminutes left: 47.08\n",
            "Generator loss: 5.01063299, Discriminator loss: 0.31076312\n",
            "Epoch 120 of 200:\t\t32.50 seconds;\ttotal: 4269.99;\tminutes left: 46.46\n",
            "Generator loss: 4.43325615, Discriminator loss: 0.27943918\n",
            "Epoch 121 of 200:\t\t33.81 seconds;\ttotal: 4303.79;\tminutes left: 45.86\n",
            "Generator loss: 4.28217459, Discriminator loss: 0.27484789\n",
            "Epoch 122 of 200:\t\t32.42 seconds;\ttotal: 4336.22;\tminutes left: 45.24\n",
            "Generator loss: 4.62780237, Discriminator loss: 0.24168843\n",
            "Epoch 123 of 200:\t\t32.24 seconds;\ttotal: 4368.46;\tminutes left: 44.62\n",
            "Generator loss: 4.66372252, Discriminator loss: 0.27341762\n",
            "Epoch 124 of 200:\t\t32.03 seconds;\ttotal: 4400.49;\tminutes left: 44.00\n",
            "Generator loss: 4.46718645, Discriminator loss: 0.30050114\n",
            "Epoch 125 of 200:\t\t32.16 seconds;\ttotal: 4432.66;\tminutes left: 43.39\n",
            "Generator loss: 4.57428455, Discriminator loss: 0.31268206\n",
            "Epoch 126 of 200:\t\t32.16 seconds;\ttotal: 4464.82;\tminutes left: 42.77\n",
            "Generator loss: 4.81894541, Discriminator loss: 0.30518222\n",
            "Epoch 127 of 200:\t\t32.40 seconds;\ttotal: 4497.22;\tminutes left: 42.16\n",
            "Generator loss: 4.73029280, Discriminator loss: 0.33620000\n",
            "Epoch 128 of 200:\t\t32.25 seconds;\ttotal: 4529.46;\tminutes left: 41.55\n",
            "Generator loss: 4.19776297, Discriminator loss: 0.33456713\n",
            "Epoch 129 of 200:\t\t31.86 seconds;\ttotal: 4561.32;\tminutes left: 40.93\n",
            "Generator loss: 4.03134394, Discriminator loss: 0.30759987\n",
            "Epoch 130 of 200:\t\t31.92 seconds;\ttotal: 4593.25;\tminutes left: 40.32\n",
            "Generator loss: 5.47280550, Discriminator loss: 0.33758265\n",
            "Epoch 131 of 200:\t\t32.02 seconds;\ttotal: 4625.27;\tminutes left: 39.71\n",
            "Generator loss: 4.92575026, Discriminator loss: 0.29592383\n",
            "Epoch 132 of 200:\t\t32.11 seconds;\ttotal: 4657.38;\tminutes left: 39.10\n",
            "Generator loss: 5.13773394, Discriminator loss: 0.31965861\n",
            "Epoch 133 of 200:\t\t31.79 seconds;\ttotal: 4689.17;\tminutes left: 38.49\n",
            "Generator loss: 4.56168032, Discriminator loss: 0.31137827\n",
            "Epoch 134 of 200:\t\t31.97 seconds;\ttotal: 4721.14;\tminutes left: 37.89\n",
            "Generator loss: 4.04157591, Discriminator loss: 0.31465819\n",
            "Epoch 135 of 200:\t\t31.77 seconds;\ttotal: 4752.91;\tminutes left: 37.28\n",
            "Generator loss: 4.94650745, Discriminator loss: 0.28451747\n",
            "Epoch 136 of 200:\t\t31.75 seconds;\ttotal: 4784.66;\tminutes left: 36.67\n",
            "Generator loss: 4.55454254, Discriminator loss: 0.28762734\n",
            "Epoch 137 of 200:\t\t31.83 seconds;\ttotal: 4816.49;\tminutes left: 36.07\n",
            "Generator loss: 4.83439684, Discriminator loss: 0.30692884\n",
            "Epoch 138 of 200:\t\t31.83 seconds;\ttotal: 4848.32;\tminutes left: 35.46\n",
            "Generator loss: 4.91808939, Discriminator loss: 0.28467712\n",
            "Epoch 139 of 200:\t\t31.74 seconds;\ttotal: 4880.07;\tminutes left: 34.86\n",
            "Generator loss: 4.44551468, Discriminator loss: 0.30305865\n",
            "Epoch 140 of 200:\t\t31.94 seconds;\ttotal: 4912.00;\tminutes left: 34.26\n",
            "Generator loss: 4.15083313, Discriminator loss: 0.35397765\n",
            "Epoch 141 of 200:\t\t32.49 seconds;\ttotal: 4944.49;\tminutes left: 33.66\n",
            "Generator loss: 4.00134611, Discriminator loss: 0.27420425\n",
            "Epoch 142 of 200:\t\t32.44 seconds;\ttotal: 4976.94;\tminutes left: 33.06\n",
            "Generator loss: 4.95346928, Discriminator loss: 0.30719790\n",
            "Epoch 143 of 200:\t\t31.76 seconds;\ttotal: 5008.70;\tminutes left: 32.46\n",
            "Generator loss: 4.07484150, Discriminator loss: 0.33856067\n",
            "Epoch 144 of 200:\t\t32.39 seconds;\ttotal: 5041.08;\tminutes left: 31.87\n",
            "Generator loss: 3.94948554, Discriminator loss: 0.30002636\n",
            "Epoch 145 of 200:\t\t32.03 seconds;\ttotal: 5073.12;\tminutes left: 31.27\n",
            "Generator loss: 4.57841730, Discriminator loss: 0.29322284\n",
            "Epoch 146 of 200:\t\t33.01 seconds;\ttotal: 5106.13;\tminutes left: 30.68\n",
            "Generator loss: 4.32692337, Discriminator loss: 0.41167516\n",
            "Epoch 147 of 200:\t\t32.88 seconds;\ttotal: 5139.01;\tminutes left: 30.09\n",
            "Generator loss: 3.66414332, Discriminator loss: 0.29771814\n",
            "Epoch 148 of 200:\t\t32.23 seconds;\ttotal: 5171.25;\tminutes left: 29.50\n",
            "Generator loss: 4.32826710, Discriminator loss: 0.36649695\n",
            "Epoch 149 of 200:\t\t31.61 seconds;\ttotal: 5202.86;\tminutes left: 28.90\n",
            "Generator loss: 3.69068599, Discriminator loss: 0.31732121\n",
            "Epoch 150 of 200:\t\t31.97 seconds;\ttotal: 5234.83;\tminutes left: 28.31\n",
            "Generator loss: 3.43186688, Discriminator loss: 0.31354266\n",
            "Epoch 151 of 200:\t\t32.31 seconds;\ttotal: 5267.14;\tminutes left: 27.72\n",
            "Generator loss: 5.21698046, Discriminator loss: 0.57321018\n",
            "Epoch 152 of 200:\t\t32.15 seconds;\ttotal: 5299.29;\tminutes left: 27.13\n",
            "Generator loss: 3.77583623, Discriminator loss: 0.33596596\n",
            "Epoch 153 of 200:\t\t32.61 seconds;\ttotal: 5331.90;\tminutes left: 26.54\n",
            "Generator loss: 4.19985580, Discriminator loss: 0.35811952\n",
            "Epoch 154 of 200:\t\t32.03 seconds;\ttotal: 5363.93;\tminutes left: 25.95\n",
            "Generator loss: 3.82967782, Discriminator loss: 0.37738231\n",
            "Epoch 155 of 200:\t\t32.04 seconds;\ttotal: 5395.96;\tminutes left: 25.37\n",
            "Generator loss: 3.78203130, Discriminator loss: 0.38065022\n",
            "Epoch 156 of 200:\t\t32.12 seconds;\ttotal: 5428.09;\tminutes left: 24.78\n",
            "Generator loss: 3.92365503, Discriminator loss: 0.38420585\n",
            "Epoch 157 of 200:\t\t32.09 seconds;\ttotal: 5460.17;\tminutes left: 24.19\n",
            "Generator loss: 4.39685488, Discriminator loss: 0.43163973\n",
            "Epoch 158 of 200:\t\t32.01 seconds;\ttotal: 5492.19;\tminutes left: 23.60\n",
            "Generator loss: 4.17909813, Discriminator loss: 0.49800453\n",
            "Epoch 159 of 200:\t\t32.65 seconds;\ttotal: 5524.84;\tminutes left: 23.02\n",
            "Generator loss: 4.99072981, Discriminator loss: 0.38505599\n",
            "Epoch 160 of 200:\t\t31.99 seconds;\ttotal: 5556.82;\tminutes left: 22.43\n",
            "Generator loss: 7.80390882, Discriminator loss: 0.40567440\n",
            "Epoch 161 of 200:\t\t32.96 seconds;\ttotal: 5589.78;\tminutes left: 21.85\n",
            "Generator loss: 7.20935154, Discriminator loss: 0.52593702\n",
            "Epoch 162 of 200:\t\t32.37 seconds;\ttotal: 5622.15;\tminutes left: 21.27\n",
            "Generator loss: 5.12120676, Discriminator loss: 0.37376159\n",
            "Epoch 163 of 200:\t\t32.27 seconds;\ttotal: 5654.42;\tminutes left: 20.69\n",
            "Generator loss: 3.98036170, Discriminator loss: 0.31995085\n",
            "Epoch 164 of 200:\t\t31.81 seconds;\ttotal: 5686.23;\tminutes left: 20.10\n",
            "Generator loss: 3.97118759, Discriminator loss: 0.30013484\n",
            "Epoch 165 of 200:\t\t32.09 seconds;\ttotal: 5718.32;\tminutes left: 19.52\n",
            "Generator loss: 3.66986823, Discriminator loss: 0.30413520\n",
            "Epoch 166 of 200:\t\t32.00 seconds;\ttotal: 5750.32;\tminutes left: 18.94\n",
            "Generator loss: 3.72223473, Discriminator loss: 0.33341271\n",
            "Epoch 167 of 200:\t\t31.91 seconds;\ttotal: 5782.22;\tminutes left: 18.36\n",
            "Generator loss: 3.79057479, Discriminator loss: 0.34942746\n",
            "Epoch 168 of 200:\t\t32.05 seconds;\ttotal: 5814.28;\tminutes left: 17.78\n",
            "Generator loss: 3.83625579, Discriminator loss: 0.34935012\n",
            "Epoch 169 of 200:\t\t32.01 seconds;\ttotal: 5846.29;\tminutes left: 17.19\n",
            "Generator loss: 4.38148260, Discriminator loss: 0.35939088\n",
            "Epoch 170 of 200:\t\t31.95 seconds;\ttotal: 5878.24;\tminutes left: 16.61\n",
            "Generator loss: 4.60190058, Discriminator loss: 0.46475655\n",
            "Epoch 171 of 200:\t\t32.11 seconds;\ttotal: 5910.35;\tminutes left: 16.04\n",
            "Generator loss: 5.43578339, Discriminator loss: 0.34295017\n",
            "Epoch 172 of 200:\t\t32.08 seconds;\ttotal: 5942.43;\tminutes left: 15.46\n",
            "Generator loss: 6.26424694, Discriminator loss: 0.50504994\n",
            "Epoch 173 of 200:\t\t32.09 seconds;\ttotal: 5974.53;\tminutes left: 14.88\n",
            "Generator loss: 4.36053944, Discriminator loss: 0.39077339\n",
            "Epoch 174 of 200:\t\t32.61 seconds;\ttotal: 6007.13;\tminutes left: 14.30\n",
            "Generator loss: 4.13289976, Discriminator loss: 0.33970216\n",
            "Epoch 175 of 200:\t\t32.18 seconds;\ttotal: 6039.32;\tminutes left: 13.73\n",
            "Generator loss: 4.37296534, Discriminator loss: 0.38651928\n",
            "Epoch 176 of 200:\t\t32.08 seconds;\ttotal: 6071.39;\tminutes left: 13.15\n",
            "Generator loss: 3.68205976, Discriminator loss: 0.38455954\n",
            "Epoch 177 of 200:\t\t31.91 seconds;\ttotal: 6103.30;\tminutes left: 12.57\n",
            "Generator loss: 4.02023792, Discriminator loss: 0.37973621\n",
            "Epoch 178 of 200:\t\t33.19 seconds;\ttotal: 6136.49;\tminutes left: 12.00\n",
            "Generator loss: 3.79162025, Discriminator loss: 0.36707541\n",
            "Epoch 179 of 200:\t\t33.78 seconds;\ttotal: 6170.27;\tminutes left: 11.43\n",
            "Generator loss: 4.69141960, Discriminator loss: 0.46866503\n",
            "Epoch 180 of 200:\t\t33.03 seconds;\ttotal: 6203.31;\tminutes left: 10.85\n",
            "Generator loss: 4.69459295, Discriminator loss: 0.42965779\n",
            "Epoch 181 of 200:\t\t32.81 seconds;\ttotal: 6236.12;\tminutes left: 10.28\n",
            "Generator loss: 5.13326359, Discriminator loss: 0.38481647\n",
            "Epoch 182 of 200:\t\t33.17 seconds;\ttotal: 6269.30;\tminutes left: 9.71\n",
            "Generator loss: 4.44757223, Discriminator loss: 0.39702725\n",
            "Epoch 183 of 200:\t\t32.78 seconds;\ttotal: 6302.08;\tminutes left: 9.13\n",
            "Generator loss: 4.64469051, Discriminator loss: 0.36685660\n",
            "Epoch 184 of 200:\t\t34.04 seconds;\ttotal: 6336.11;\tminutes left: 8.56\n",
            "Generator loss: 4.96869469, Discriminator loss: 0.38920078\n",
            "Epoch 185 of 200:\t\t32.21 seconds;\ttotal: 6368.33;\tminutes left: 7.99\n",
            "Generator loss: 5.18509531, Discriminator loss: 0.37105697\n",
            "Epoch 186 of 200:\t\t31.98 seconds;\ttotal: 6400.30;\tminutes left: 7.42\n",
            "Generator loss: 4.89719772, Discriminator loss: 0.37916672\n",
            "Epoch 187 of 200:\t\t31.24 seconds;\ttotal: 6431.54;\tminutes left: 6.84\n",
            "Generator loss: 4.34009027, Discriminator loss: 0.35816216\n",
            "Epoch 188 of 200:\t\t29.55 seconds;\ttotal: 6461.09;\tminutes left: 6.27\n",
            "Generator loss: 4.77661180, Discriminator loss: 0.37392405\n",
            "Epoch 189 of 200:\t\t30.22 seconds;\ttotal: 6491.31;\tminutes left: 5.69\n",
            "Generator loss: 4.65108013, Discriminator loss: 0.33770797\n",
            "Epoch 190 of 200:\t\t29.93 seconds;\ttotal: 6521.24;\tminutes left: 5.12\n",
            "Generator loss: 4.53912449, Discriminator loss: 0.35077018\n",
            "Epoch 191 of 200:\t\t29.93 seconds;\ttotal: 6551.17;\tminutes left: 4.55\n",
            "Generator loss: 4.46811152, Discriminator loss: 0.33952668\n",
            "Epoch 192 of 200:\t\t30.05 seconds;\ttotal: 6581.22;\tminutes left: 3.98\n",
            "Generator loss: 4.06649685, Discriminator loss: 0.35008359\n",
            "Epoch 193 of 200:\t\t30.38 seconds;\ttotal: 6611.60;\tminutes left: 3.41\n",
            "Generator loss: 4.52850246, Discriminator loss: 0.34045053\n",
            "Epoch 194 of 200:\t\t30.15 seconds;\ttotal: 6641.74;\tminutes left: 2.84\n",
            "Generator loss: 4.23261642, Discriminator loss: 0.36737826\n",
            "Epoch 195 of 200:\t\t30.18 seconds;\ttotal: 6671.93;\tminutes left: 2.27\n",
            "Generator loss: 4.40178776, Discriminator loss: 0.41788468\n",
            "Epoch 196 of 200:\t\t30.25 seconds;\ttotal: 6702.18;\tminutes left: 1.70\n",
            "Generator loss: 3.85598564, Discriminator loss: 0.34724048\n",
            "Epoch 197 of 200:\t\t30.21 seconds;\ttotal: 6732.40;\tminutes left: 1.13\n",
            "Generator loss: 3.71406102, Discriminator loss: 0.33206773\n",
            "Epoch 198 of 200:\t\t30.25 seconds;\ttotal: 6762.65;\tminutes left: 0.57\n",
            "Generator loss: 4.05093908, Discriminator loss: 0.31608924\n",
            "Epoch 199 of 200:\t\t30.22 seconds;\ttotal: 6792.87;\tminutes left: 0.00\n",
            "Generator loss: 4.38100672, Discriminator loss: 0.46017036\n"
          ]
        }
      ]
    },
    {
      "cell_type": "code",
      "metadata": {
        "colab": {
          "base_uri": "https://localhost:8080/",
          "height": 53
        },
        "id": "NV1Vtj8JYOla",
        "outputId": "08eacebc-d905-4877-b5c4-0f0ee9b2f1eb"
      },
      "source": [
        "print('DONE TRAINING')\n",
        "torch.save(generator.state_dict(), path + 'generator.pth')\n",
        "path"
      ],
      "execution_count": 37,
      "outputs": [
        {
          "output_type": "stream",
          "name": "stdout",
          "text": [
            "DONE TRAINING\n"
          ]
        },
        {
          "output_type": "execute_result",
          "data": {
            "text/plain": [
              "'./models/vanilla_gan/'"
            ]
          },
          "metadata": {},
          "execution_count": 37
        }
      ]
    },
    {
      "cell_type": "code",
      "metadata": {
        "id": "II3WYevue4FW"
      },
      "source": [
        "imgs = [np.array(to_pil_image(img)) for img in images]\n",
        "imageio.mimsave(path + 'generator_images.gif', imgs)"
      ],
      "execution_count": 38,
      "outputs": []
    },
    {
      "cell_type": "code",
      "metadata": {
        "colab": {
          "base_uri": "https://localhost:8080/",
          "height": 265
        },
        "id": "vQTiNztJfVpt",
        "outputId": "78767a7f-79ac-4366-f16f-eae67e5a96a8"
      },
      "source": [
        "plt.figure()\n",
        "plt.plot([x.detach() for x in losses_g], label='Generator loss')\n",
        "plt.plot([x.detach() for x in losses_d], label='Discriminator Loss')\n",
        "plt.legend()\n",
        "plt.savefig(path + 'loss.png')"
      ],
      "execution_count": 40,
      "outputs": [
        {
          "output_type": "display_data",
          "data": {
            "text/plain": "<Figure size 432x288 with 1 Axes>",
            "image/svg+xml": "<?xml version=\"1.0\" encoding=\"utf-8\" standalone=\"no\"?>\n<!DOCTYPE svg PUBLIC \"-//W3C//DTD SVG 1.1//EN\"\n  \"http://www.w3.org/Graphics/SVG/1.1/DTD/svg11.dtd\">\n<svg height=\"248.518125pt\" version=\"1.1\" viewBox=\"0 0 368.925 248.518125\" width=\"368.925pt\" xmlns=\"http://www.w3.org/2000/svg\" xmlns:xlink=\"http://www.w3.org/1999/xlink\">\n <metadata>\n  <rdf:RDF xmlns:cc=\"http://creativecommons.org/ns#\" xmlns:dc=\"http://purl.org/dc/elements/1.1/\" xmlns:rdf=\"http://www.w3.org/1999/02/22-rdf-syntax-ns#\">\n   <cc:Work>\n    <dc:type rdf:resource=\"http://purl.org/dc/dcmitype/StillImage\"/>\n    <dc:date>2021-05-06T22:13:15.378765</dc:date>\n    <dc:format>image/svg+xml</dc:format>\n    <dc:creator>\n     <cc:Agent>\n      <dc:title>Matplotlib v3.4.1, https://matplotlib.org/</dc:title>\n     </cc:Agent>\n    </dc:creator>\n   </cc:Work>\n  </rdf:RDF>\n </metadata>\n <defs>\n  <style type=\"text/css\">*{stroke-linecap:butt;stroke-linejoin:round;}</style>\n </defs>\n <g id=\"figure_1\">\n  <g id=\"patch_1\">\n   <path d=\"M -0 248.518125 \nL 368.925 248.518125 \nL 368.925 0 \nL -0 0 \nz\n\" style=\"fill:#ffffff;\"/>\n  </g>\n  <g id=\"axes_1\">\n   <g id=\"patch_2\">\n    <path d=\"M 26.925 224.64 \nL 361.725 224.64 \nL 361.725 7.2 \nL 26.925 7.2 \nz\n\" style=\"fill:#e5e5e5;\"/>\n   </g>\n   <g id=\"matplotlib.axis_1\">\n    <g id=\"xtick_1\">\n     <g id=\"line2d_1\">\n      <path clip-path=\"url(#p17d4d85d77)\" d=\"M 42.143182 224.64 \nL 42.143182 7.2 \n\" style=\"fill:none;stroke:#ffffff;stroke-linecap:square;stroke-width:0.8;\"/>\n     </g>\n     <g id=\"line2d_2\">\n      <defs>\n       <path d=\"M 0 0 \nL 0 3.5 \n\" id=\"m5bfe41eb19\" style=\"stroke:#555555;stroke-width:0.8;\"/>\n      </defs>\n      <g>\n       <use style=\"fill:#555555;stroke:#555555;stroke-width:0.8;\" x=\"42.143182\" xlink:href=\"#m5bfe41eb19\" y=\"224.64\"/>\n      </g>\n     </g>\n     <g id=\"text_1\">\n      <!-- 0 -->\n      <g style=\"fill:#555555;\" transform=\"translate(38.961932 239.238437)scale(0.1 -0.1)\">\n       <defs>\n        <path d=\"M 2034 4250 \nQ 1547 4250 1301 3770 \nQ 1056 3291 1056 2328 \nQ 1056 1369 1301 889 \nQ 1547 409 2034 409 \nQ 2525 409 2770 889 \nQ 3016 1369 3016 2328 \nQ 3016 3291 2770 3770 \nQ 2525 4250 2034 4250 \nz\nM 2034 4750 \nQ 2819 4750 3233 4129 \nQ 3647 3509 3647 2328 \nQ 3647 1150 3233 529 \nQ 2819 -91 2034 -91 \nQ 1250 -91 836 529 \nQ 422 1150 422 2328 \nQ 422 3509 836 4129 \nQ 1250 4750 2034 4750 \nz\n\" id=\"DejaVuSans-30\" transform=\"scale(0.015625)\"/>\n       </defs>\n       <use xlink:href=\"#DejaVuSans-30\"/>\n      </g>\n     </g>\n    </g>\n    <g id=\"xtick_2\">\n     <g id=\"line2d_3\">\n      <path clip-path=\"url(#p17d4d85d77)\" d=\"M 80.37982 224.64 \nL 80.37982 7.2 \n\" style=\"fill:none;stroke:#ffffff;stroke-linecap:square;stroke-width:0.8;\"/>\n     </g>\n     <g id=\"line2d_4\">\n      <g>\n       <use style=\"fill:#555555;stroke:#555555;stroke-width:0.8;\" x=\"80.37982\" xlink:href=\"#m5bfe41eb19\" y=\"224.64\"/>\n      </g>\n     </g>\n     <g id=\"text_2\">\n      <!-- 25 -->\n      <g style=\"fill:#555555;\" transform=\"translate(74.01732 239.238437)scale(0.1 -0.1)\">\n       <defs>\n        <path d=\"M 1228 531 \nL 3431 531 \nL 3431 0 \nL 469 0 \nL 469 531 \nQ 828 903 1448 1529 \nQ 2069 2156 2228 2338 \nQ 2531 2678 2651 2914 \nQ 2772 3150 2772 3378 \nQ 2772 3750 2511 3984 \nQ 2250 4219 1831 4219 \nQ 1534 4219 1204 4116 \nQ 875 4013 500 3803 \nL 500 4441 \nQ 881 4594 1212 4672 \nQ 1544 4750 1819 4750 \nQ 2544 4750 2975 4387 \nQ 3406 4025 3406 3419 \nQ 3406 3131 3298 2873 \nQ 3191 2616 2906 2266 \nQ 2828 2175 2409 1742 \nQ 1991 1309 1228 531 \nz\n\" id=\"DejaVuSans-32\" transform=\"scale(0.015625)\"/>\n        <path d=\"M 691 4666 \nL 3169 4666 \nL 3169 4134 \nL 1269 4134 \nL 1269 2991 \nQ 1406 3038 1543 3061 \nQ 1681 3084 1819 3084 \nQ 2600 3084 3056 2656 \nQ 3513 2228 3513 1497 \nQ 3513 744 3044 326 \nQ 2575 -91 1722 -91 \nQ 1428 -91 1123 -41 \nQ 819 9 494 109 \nL 494 744 \nQ 775 591 1075 516 \nQ 1375 441 1709 441 \nQ 2250 441 2565 725 \nQ 2881 1009 2881 1497 \nQ 2881 1984 2565 2268 \nQ 2250 2553 1709 2553 \nQ 1456 2553 1204 2497 \nQ 953 2441 691 2322 \nL 691 4666 \nz\n\" id=\"DejaVuSans-35\" transform=\"scale(0.015625)\"/>\n       </defs>\n       <use xlink:href=\"#DejaVuSans-32\"/>\n       <use x=\"63.623047\" xlink:href=\"#DejaVuSans-35\"/>\n      </g>\n     </g>\n    </g>\n    <g id=\"xtick_3\">\n     <g id=\"line2d_5\">\n      <path clip-path=\"url(#p17d4d85d77)\" d=\"M 118.616457 224.64 \nL 118.616457 7.2 \n\" style=\"fill:none;stroke:#ffffff;stroke-linecap:square;stroke-width:0.8;\"/>\n     </g>\n     <g id=\"line2d_6\">\n      <g>\n       <use style=\"fill:#555555;stroke:#555555;stroke-width:0.8;\" x=\"118.616457\" xlink:href=\"#m5bfe41eb19\" y=\"224.64\"/>\n      </g>\n     </g>\n     <g id=\"text_3\">\n      <!-- 50 -->\n      <g style=\"fill:#555555;\" transform=\"translate(112.253957 239.238437)scale(0.1 -0.1)\">\n       <use xlink:href=\"#DejaVuSans-35\"/>\n       <use x=\"63.623047\" xlink:href=\"#DejaVuSans-30\"/>\n      </g>\n     </g>\n    </g>\n    <g id=\"xtick_4\">\n     <g id=\"line2d_7\">\n      <path clip-path=\"url(#p17d4d85d77)\" d=\"M 156.853095 224.64 \nL 156.853095 7.2 \n\" style=\"fill:none;stroke:#ffffff;stroke-linecap:square;stroke-width:0.8;\"/>\n     </g>\n     <g id=\"line2d_8\">\n      <g>\n       <use style=\"fill:#555555;stroke:#555555;stroke-width:0.8;\" x=\"156.853095\" xlink:href=\"#m5bfe41eb19\" y=\"224.64\"/>\n      </g>\n     </g>\n     <g id=\"text_4\">\n      <!-- 75 -->\n      <g style=\"fill:#555555;\" transform=\"translate(150.490595 239.238437)scale(0.1 -0.1)\">\n       <defs>\n        <path d=\"M 525 4666 \nL 3525 4666 \nL 3525 4397 \nL 1831 0 \nL 1172 0 \nL 2766 4134 \nL 525 4134 \nL 525 4666 \nz\n\" id=\"DejaVuSans-37\" transform=\"scale(0.015625)\"/>\n       </defs>\n       <use xlink:href=\"#DejaVuSans-37\"/>\n       <use x=\"63.623047\" xlink:href=\"#DejaVuSans-35\"/>\n      </g>\n     </g>\n    </g>\n    <g id=\"xtick_5\">\n     <g id=\"line2d_9\">\n      <path clip-path=\"url(#p17d4d85d77)\" d=\"M 195.089733 224.64 \nL 195.089733 7.2 \n\" style=\"fill:none;stroke:#ffffff;stroke-linecap:square;stroke-width:0.8;\"/>\n     </g>\n     <g id=\"line2d_10\">\n      <g>\n       <use style=\"fill:#555555;stroke:#555555;stroke-width:0.8;\" x=\"195.089733\" xlink:href=\"#m5bfe41eb19\" y=\"224.64\"/>\n      </g>\n     </g>\n     <g id=\"text_5\">\n      <!-- 100 -->\n      <g style=\"fill:#555555;\" transform=\"translate(185.545983 239.238437)scale(0.1 -0.1)\">\n       <defs>\n        <path d=\"M 794 531 \nL 1825 531 \nL 1825 4091 \nL 703 3866 \nL 703 4441 \nL 1819 4666 \nL 2450 4666 \nL 2450 531 \nL 3481 531 \nL 3481 0 \nL 794 0 \nL 794 531 \nz\n\" id=\"DejaVuSans-31\" transform=\"scale(0.015625)\"/>\n       </defs>\n       <use xlink:href=\"#DejaVuSans-31\"/>\n       <use x=\"63.623047\" xlink:href=\"#DejaVuSans-30\"/>\n       <use x=\"127.246094\" xlink:href=\"#DejaVuSans-30\"/>\n      </g>\n     </g>\n    </g>\n    <g id=\"xtick_6\">\n     <g id=\"line2d_11\">\n      <path clip-path=\"url(#p17d4d85d77)\" d=\"M 233.32637 224.64 \nL 233.32637 7.2 \n\" style=\"fill:none;stroke:#ffffff;stroke-linecap:square;stroke-width:0.8;\"/>\n     </g>\n     <g id=\"line2d_12\">\n      <g>\n       <use style=\"fill:#555555;stroke:#555555;stroke-width:0.8;\" x=\"233.32637\" xlink:href=\"#m5bfe41eb19\" y=\"224.64\"/>\n      </g>\n     </g>\n     <g id=\"text_6\">\n      <!-- 125 -->\n      <g style=\"fill:#555555;\" transform=\"translate(223.78262 239.238437)scale(0.1 -0.1)\">\n       <use xlink:href=\"#DejaVuSans-31\"/>\n       <use x=\"63.623047\" xlink:href=\"#DejaVuSans-32\"/>\n       <use x=\"127.246094\" xlink:href=\"#DejaVuSans-35\"/>\n      </g>\n     </g>\n    </g>\n    <g id=\"xtick_7\">\n     <g id=\"line2d_13\">\n      <path clip-path=\"url(#p17d4d85d77)\" d=\"M 271.563008 224.64 \nL 271.563008 7.2 \n\" style=\"fill:none;stroke:#ffffff;stroke-linecap:square;stroke-width:0.8;\"/>\n     </g>\n     <g id=\"line2d_14\">\n      <g>\n       <use style=\"fill:#555555;stroke:#555555;stroke-width:0.8;\" x=\"271.563008\" xlink:href=\"#m5bfe41eb19\" y=\"224.64\"/>\n      </g>\n     </g>\n     <g id=\"text_7\">\n      <!-- 150 -->\n      <g style=\"fill:#555555;\" transform=\"translate(262.019258 239.238437)scale(0.1 -0.1)\">\n       <use xlink:href=\"#DejaVuSans-31\"/>\n       <use x=\"63.623047\" xlink:href=\"#DejaVuSans-35\"/>\n       <use x=\"127.246094\" xlink:href=\"#DejaVuSans-30\"/>\n      </g>\n     </g>\n    </g>\n    <g id=\"xtick_8\">\n     <g id=\"line2d_15\">\n      <path clip-path=\"url(#p17d4d85d77)\" d=\"M 309.799646 224.64 \nL 309.799646 7.2 \n\" style=\"fill:none;stroke:#ffffff;stroke-linecap:square;stroke-width:0.8;\"/>\n     </g>\n     <g id=\"line2d_16\">\n      <g>\n       <use style=\"fill:#555555;stroke:#555555;stroke-width:0.8;\" x=\"309.799646\" xlink:href=\"#m5bfe41eb19\" y=\"224.64\"/>\n      </g>\n     </g>\n     <g id=\"text_8\">\n      <!-- 175 -->\n      <g style=\"fill:#555555;\" transform=\"translate(300.255896 239.238437)scale(0.1 -0.1)\">\n       <use xlink:href=\"#DejaVuSans-31\"/>\n       <use x=\"63.623047\" xlink:href=\"#DejaVuSans-37\"/>\n       <use x=\"127.246094\" xlink:href=\"#DejaVuSans-35\"/>\n      </g>\n     </g>\n    </g>\n    <g id=\"xtick_9\">\n     <g id=\"line2d_17\">\n      <path clip-path=\"url(#p17d4d85d77)\" d=\"M 348.036284 224.64 \nL 348.036284 7.2 \n\" style=\"fill:none;stroke:#ffffff;stroke-linecap:square;stroke-width:0.8;\"/>\n     </g>\n     <g id=\"line2d_18\">\n      <g>\n       <use style=\"fill:#555555;stroke:#555555;stroke-width:0.8;\" x=\"348.036284\" xlink:href=\"#m5bfe41eb19\" y=\"224.64\"/>\n      </g>\n     </g>\n     <g id=\"text_9\">\n      <!-- 200 -->\n      <g style=\"fill:#555555;\" transform=\"translate(338.492534 239.238437)scale(0.1 -0.1)\">\n       <use xlink:href=\"#DejaVuSans-32\"/>\n       <use x=\"63.623047\" xlink:href=\"#DejaVuSans-30\"/>\n       <use x=\"127.246094\" xlink:href=\"#DejaVuSans-30\"/>\n      </g>\n     </g>\n    </g>\n   </g>\n   <g id=\"matplotlib.axis_2\">\n    <g id=\"ytick_1\">\n     <g id=\"line2d_19\">\n      <path clip-path=\"url(#p17d4d85d77)\" d=\"M 26.925 214.897386 \nL 361.725 214.897386 \n\" style=\"fill:none;stroke:#ffffff;stroke-linecap:square;stroke-width:0.8;\"/>\n     </g>\n     <g id=\"line2d_20\">\n      <defs>\n       <path d=\"M 0 0 \nL -3.5 0 \n\" id=\"m887ede6d9c\" style=\"stroke:#555555;stroke-width:0.8;\"/>\n      </defs>\n      <g>\n       <use style=\"fill:#555555;stroke:#555555;stroke-width:0.8;\" x=\"26.925\" xlink:href=\"#m887ede6d9c\" y=\"214.897386\"/>\n      </g>\n     </g>\n     <g id=\"text_10\">\n      <!-- 0 -->\n      <g style=\"fill:#555555;\" transform=\"translate(13.5625 218.696605)scale(0.1 -0.1)\">\n       <use xlink:href=\"#DejaVuSans-30\"/>\n      </g>\n     </g>\n    </g>\n    <g id=\"ytick_2\">\n     <g id=\"line2d_21\">\n      <path clip-path=\"url(#p17d4d85d77)\" d=\"M 26.925 187.626699 \nL 361.725 187.626699 \n\" style=\"fill:none;stroke:#ffffff;stroke-linecap:square;stroke-width:0.8;\"/>\n     </g>\n     <g id=\"line2d_22\">\n      <g>\n       <use style=\"fill:#555555;stroke:#555555;stroke-width:0.8;\" x=\"26.925\" xlink:href=\"#m887ede6d9c\" y=\"187.626699\"/>\n      </g>\n     </g>\n     <g id=\"text_11\">\n      <!-- 2 -->\n      <g style=\"fill:#555555;\" transform=\"translate(13.5625 191.425918)scale(0.1 -0.1)\">\n       <use xlink:href=\"#DejaVuSans-32\"/>\n      </g>\n     </g>\n    </g>\n    <g id=\"ytick_3\">\n     <g id=\"line2d_23\">\n      <path clip-path=\"url(#p17d4d85d77)\" d=\"M 26.925 160.356013 \nL 361.725 160.356013 \n\" style=\"fill:none;stroke:#ffffff;stroke-linecap:square;stroke-width:0.8;\"/>\n     </g>\n     <g id=\"line2d_24\">\n      <g>\n       <use style=\"fill:#555555;stroke:#555555;stroke-width:0.8;\" x=\"26.925\" xlink:href=\"#m887ede6d9c\" y=\"160.356013\"/>\n      </g>\n     </g>\n     <g id=\"text_12\">\n      <!-- 4 -->\n      <g style=\"fill:#555555;\" transform=\"translate(13.5625 164.155232)scale(0.1 -0.1)\">\n       <defs>\n        <path d=\"M 2419 4116 \nL 825 1625 \nL 2419 1625 \nL 2419 4116 \nz\nM 2253 4666 \nL 3047 4666 \nL 3047 1625 \nL 3713 1625 \nL 3713 1100 \nL 3047 1100 \nL 3047 0 \nL 2419 0 \nL 2419 1100 \nL 313 1100 \nL 313 1709 \nL 2253 4666 \nz\n\" id=\"DejaVuSans-34\" transform=\"scale(0.015625)\"/>\n       </defs>\n       <use xlink:href=\"#DejaVuSans-34\"/>\n      </g>\n     </g>\n    </g>\n    <g id=\"ytick_4\">\n     <g id=\"line2d_25\">\n      <path clip-path=\"url(#p17d4d85d77)\" d=\"M 26.925 133.085326 \nL 361.725 133.085326 \n\" style=\"fill:none;stroke:#ffffff;stroke-linecap:square;stroke-width:0.8;\"/>\n     </g>\n     <g id=\"line2d_26\">\n      <g>\n       <use style=\"fill:#555555;stroke:#555555;stroke-width:0.8;\" x=\"26.925\" xlink:href=\"#m887ede6d9c\" y=\"133.085326\"/>\n      </g>\n     </g>\n     <g id=\"text_13\">\n      <!-- 6 -->\n      <g style=\"fill:#555555;\" transform=\"translate(13.5625 136.884545)scale(0.1 -0.1)\">\n       <defs>\n        <path d=\"M 2113 2584 \nQ 1688 2584 1439 2293 \nQ 1191 2003 1191 1497 \nQ 1191 994 1439 701 \nQ 1688 409 2113 409 \nQ 2538 409 2786 701 \nQ 3034 994 3034 1497 \nQ 3034 2003 2786 2293 \nQ 2538 2584 2113 2584 \nz\nM 3366 4563 \nL 3366 3988 \nQ 3128 4100 2886 4159 \nQ 2644 4219 2406 4219 \nQ 1781 4219 1451 3797 \nQ 1122 3375 1075 2522 \nQ 1259 2794 1537 2939 \nQ 1816 3084 2150 3084 \nQ 2853 3084 3261 2657 \nQ 3669 2231 3669 1497 \nQ 3669 778 3244 343 \nQ 2819 -91 2113 -91 \nQ 1303 -91 875 529 \nQ 447 1150 447 2328 \nQ 447 3434 972 4092 \nQ 1497 4750 2381 4750 \nQ 2619 4750 2861 4703 \nQ 3103 4656 3366 4563 \nz\n\" id=\"DejaVuSans-36\" transform=\"scale(0.015625)\"/>\n       </defs>\n       <use xlink:href=\"#DejaVuSans-36\"/>\n      </g>\n     </g>\n    </g>\n    <g id=\"ytick_5\">\n     <g id=\"line2d_27\">\n      <path clip-path=\"url(#p17d4d85d77)\" d=\"M 26.925 105.81464 \nL 361.725 105.81464 \n\" style=\"fill:none;stroke:#ffffff;stroke-linecap:square;stroke-width:0.8;\"/>\n     </g>\n     <g id=\"line2d_28\">\n      <g>\n       <use style=\"fill:#555555;stroke:#555555;stroke-width:0.8;\" x=\"26.925\" xlink:href=\"#m887ede6d9c\" y=\"105.81464\"/>\n      </g>\n     </g>\n     <g id=\"text_14\">\n      <!-- 8 -->\n      <g style=\"fill:#555555;\" transform=\"translate(13.5625 109.613859)scale(0.1 -0.1)\">\n       <defs>\n        <path d=\"M 2034 2216 \nQ 1584 2216 1326 1975 \nQ 1069 1734 1069 1313 \nQ 1069 891 1326 650 \nQ 1584 409 2034 409 \nQ 2484 409 2743 651 \nQ 3003 894 3003 1313 \nQ 3003 1734 2745 1975 \nQ 2488 2216 2034 2216 \nz\nM 1403 2484 \nQ 997 2584 770 2862 \nQ 544 3141 544 3541 \nQ 544 4100 942 4425 \nQ 1341 4750 2034 4750 \nQ 2731 4750 3128 4425 \nQ 3525 4100 3525 3541 \nQ 3525 3141 3298 2862 \nQ 3072 2584 2669 2484 \nQ 3125 2378 3379 2068 \nQ 3634 1759 3634 1313 \nQ 3634 634 3220 271 \nQ 2806 -91 2034 -91 \nQ 1263 -91 848 271 \nQ 434 634 434 1313 \nQ 434 1759 690 2068 \nQ 947 2378 1403 2484 \nz\nM 1172 3481 \nQ 1172 3119 1398 2916 \nQ 1625 2713 2034 2713 \nQ 2441 2713 2670 2916 \nQ 2900 3119 2900 3481 \nQ 2900 3844 2670 4047 \nQ 2441 4250 2034 4250 \nQ 1625 4250 1398 4047 \nQ 1172 3844 1172 3481 \nz\n\" id=\"DejaVuSans-38\" transform=\"scale(0.015625)\"/>\n       </defs>\n       <use xlink:href=\"#DejaVuSans-38\"/>\n      </g>\n     </g>\n    </g>\n    <g id=\"ytick_6\">\n     <g id=\"line2d_29\">\n      <path clip-path=\"url(#p17d4d85d77)\" d=\"M 26.925 78.543954 \nL 361.725 78.543954 \n\" style=\"fill:none;stroke:#ffffff;stroke-linecap:square;stroke-width:0.8;\"/>\n     </g>\n     <g id=\"line2d_30\">\n      <g>\n       <use style=\"fill:#555555;stroke:#555555;stroke-width:0.8;\" x=\"26.925\" xlink:href=\"#m887ede6d9c\" y=\"78.543954\"/>\n      </g>\n     </g>\n     <g id=\"text_15\">\n      <!-- 10 -->\n      <g style=\"fill:#555555;\" transform=\"translate(7.2 82.343172)scale(0.1 -0.1)\">\n       <use xlink:href=\"#DejaVuSans-31\"/>\n       <use x=\"63.623047\" xlink:href=\"#DejaVuSans-30\"/>\n      </g>\n     </g>\n    </g>\n    <g id=\"ytick_7\">\n     <g id=\"line2d_31\">\n      <path clip-path=\"url(#p17d4d85d77)\" d=\"M 26.925 51.273267 \nL 361.725 51.273267 \n\" style=\"fill:none;stroke:#ffffff;stroke-linecap:square;stroke-width:0.8;\"/>\n     </g>\n     <g id=\"line2d_32\">\n      <g>\n       <use style=\"fill:#555555;stroke:#555555;stroke-width:0.8;\" x=\"26.925\" xlink:href=\"#m887ede6d9c\" y=\"51.273267\"/>\n      </g>\n     </g>\n     <g id=\"text_16\">\n      <!-- 12 -->\n      <g style=\"fill:#555555;\" transform=\"translate(7.2 55.072486)scale(0.1 -0.1)\">\n       <use xlink:href=\"#DejaVuSans-31\"/>\n       <use x=\"63.623047\" xlink:href=\"#DejaVuSans-32\"/>\n      </g>\n     </g>\n    </g>\n    <g id=\"ytick_8\">\n     <g id=\"line2d_33\">\n      <path clip-path=\"url(#p17d4d85d77)\" d=\"M 26.925 24.002581 \nL 361.725 24.002581 \n\" style=\"fill:none;stroke:#ffffff;stroke-linecap:square;stroke-width:0.8;\"/>\n     </g>\n     <g id=\"line2d_34\">\n      <g>\n       <use style=\"fill:#555555;stroke:#555555;stroke-width:0.8;\" x=\"26.925\" xlink:href=\"#m887ede6d9c\" y=\"24.002581\"/>\n      </g>\n     </g>\n     <g id=\"text_17\">\n      <!-- 14 -->\n      <g style=\"fill:#555555;\" transform=\"translate(7.2 27.801799)scale(0.1 -0.1)\">\n       <use xlink:href=\"#DejaVuSans-31\"/>\n       <use x=\"63.623047\" xlink:href=\"#DejaVuSans-34\"/>\n      </g>\n     </g>\n    </g>\n   </g>\n   <g id=\"line2d_35\">\n    <path clip-path=\"url(#p17d4d85d77)\" d=\"M 42.143182 187.179093 \nL 43.672647 161.443205 \nL 45.202113 105.454685 \nL 48.261044 139.117511 \nL 49.790509 125.762247 \nL 51.319975 108.966361 \nL 52.84944 97.094713 \nL 54.378906 114.343017 \nL 55.908371 108.131297 \nL 57.437837 42.312173 \nL 58.967302 17.083636 \nL 60.496768 107.72174 \nL 62.026233 114.168995 \nL 63.555699 119.563967 \nL 65.085164 98.967268 \nL 66.61463 108.912226 \nL 68.144095 103.221538 \nL 69.673561 111.322224 \nL 71.203026 57.599985 \nL 72.732492 93.601262 \nL 74.261958 88.966907 \nL 75.791423 111.104009 \nL 77.320889 120.124438 \nL 78.850354 113.20578 \nL 80.37982 116.593583 \nL 81.909285 111.730793 \nL 83.438751 107.60853 \nL 84.968216 128.17034 \nL 86.497682 104.21866 \nL 88.027147 117.041215 \nL 89.556613 118.163204 \nL 91.086078 95.720458 \nL 92.615544 120.56289 \nL 94.145009 111.554183 \nL 95.674475 97.473926 \nL 97.20394 120.967779 \nL 98.733406 127.960454 \nL 100.262871 79.860212 \nL 101.792337 145.301982 \nL 103.321802 128.151868 \nL 104.851268 85.827989 \nL 106.380733 137.106265 \nL 107.910199 129.804889 \nL 109.439664 83.665647 \nL 110.96913 127.87184 \nL 112.498595 127.318651 \nL 114.028061 132.434232 \nL 115.557526 122.380043 \nL 117.086992 102.00113 \nL 118.616457 108.631698 \nL 120.145923 117.94839 \nL 121.675388 123.2756 \nL 123.204854 137.647718 \nL 124.734319 135.576961 \nL 126.263785 123.653175 \nL 127.79325 115.061093 \nL 129.322716 127.689184 \nL 130.852181 141.303214 \nL 132.381647 142.670102 \nL 133.911112 130.690062 \nL 135.440578 145.859235 \nL 136.970043 145.560716 \nL 138.499509 138.235224 \nL 140.028974 134.435843 \nL 141.55844 136.483551 \nL 143.087905 141.679989 \nL 144.617371 132.275327 \nL 146.146836 128.694323 \nL 147.676302 133.373969 \nL 149.205767 134.188896 \nL 150.735233 136.215058 \nL 152.264698 141.417647 \nL 153.794164 142.172257 \nL 155.32363 136.458526 \nL 156.853095 140.473073 \nL 158.382561 136.605071 \nL 159.912026 131.506622 \nL 161.441492 119.019568 \nL 162.970957 139.289927 \nL 164.500423 150.351712 \nL 166.029888 152.366755 \nL 167.559354 144.83238 \nL 169.088819 135.774714 \nL 170.618285 150.904219 \nL 172.14775 138.956688 \nL 173.677216 152.048133 \nL 175.206681 154.314745 \nL 176.736147 144.711439 \nL 178.265612 147.506183 \nL 179.795078 153.536157 \nL 181.324543 140.78546 \nL 182.854009 146.024121 \nL 184.383474 140.115322 \nL 185.91294 156.420353 \nL 187.442405 149.647895 \nL 188.971871 147.391003 \nL 190.501336 144.242026 \nL 193.560267 148.260832 \nL 196.619198 154.812272 \nL 198.148664 151.099404 \nL 199.678129 141.079187 \nL 201.207595 159.190435 \nL 202.73706 146.062027 \nL 204.266526 145.706422 \nL 205.795991 155.844335 \nL 207.325457 143.286113 \nL 208.854922 135.959913 \nL 210.384388 153.170708 \nL 211.913853 156.648678 \nL 213.443319 142.802038 \nL 214.972784 147.446242 \nL 218.031715 144.343441 \nL 219.561181 141.72203 \nL 221.090646 145.70178 \nL 222.620112 141.556942 \nL 224.149577 146.575685 \nL 225.679043 154.448417 \nL 227.208508 156.508466 \nL 228.737974 151.795712 \nL 230.267439 151.305929 \nL 231.796905 153.985765 \nL 233.32637 152.525446 \nL 234.855836 149.189411 \nL 236.385302 150.39822 \nL 237.914767 157.659447 \nL 239.444233 159.928628 \nL 240.973698 140.273804 \nL 242.503164 147.73309 \nL 244.032629 144.84262 \nL 245.562095 152.697309 \nL 247.09156 159.789111 \nL 248.621026 147.450059 \nL 250.150491 152.794635 \nL 251.679957 148.978726 \nL 253.209422 147.837549 \nL 254.738888 154.281267 \nL 256.268353 158.299351 \nL 257.797819 160.337658 \nL 259.327284 147.355132 \nL 260.85675 159.335523 \nL 262.386215 161.044795 \nL 263.915681 152.469094 \nL 265.445146 155.8983 \nL 266.974612 164.935534 \nL 268.504077 155.879978 \nL 270.033543 164.573616 \nL 271.563008 168.102703 \nL 273.092474 143.762067 \nL 274.621939 163.412563 \nL 276.151405 157.63091 \nL 277.68087 162.678414 \nL 279.210336 163.328091 \nL 280.739801 161.397003 \nL 282.269267 154.94476 \nL 283.798732 157.913948 \nL 285.328198 146.847072 \nL 286.857663 108.48841 \nL 288.387129 116.595403 \nL 289.916594 145.067974 \nL 291.44606 160.623788 \nL 292.975525 160.74888 \nL 294.504991 164.857473 \nL 296.034456 164.143438 \nL 297.563922 163.211597 \nL 299.093387 162.588721 \nL 300.622853 155.154367 \nL 302.152318 152.148892 \nL 305.211249 129.482229 \nL 306.740715 155.439934 \nL 308.27018 158.543879 \nL 309.799646 155.270502 \nL 311.329111 164.691237 \nL 312.858577 160.080062 \nL 314.388042 163.197342 \nL 315.917508 150.928269 \nL 317.446974 150.885 \nL 318.976439 144.903575 \nL 320.505905 154.253212 \nL 322.03537 151.565436 \nL 323.564836 147.147528 \nL 325.094301 144.196832 \nL 326.623767 148.122414 \nL 328.153232 155.718765 \nL 329.682698 149.766644 \nL 331.212163 151.478312 \nL 332.741629 153.004865 \nL 334.271094 153.973152 \nL 335.80056 159.449305 \nL 337.330025 153.1497 \nL 338.859491 157.184208 \nL 340.388956 154.877499 \nL 341.918422 162.319698 \nL 343.447887 164.254889 \nL 346.506818 155.160855 \nL 346.506818 155.160855 \n\" style=\"fill:none;stroke:#e24a33;stroke-linecap:square;stroke-width:1.5;\"/>\n   </g>\n   <g id=\"line2d_36\">\n    <path clip-path=\"url(#p17d4d85d77)\" d=\"M 42.143182 209.309033 \nL 43.672647 213.586086 \nL 45.202113 214.579331 \nL 48.261044 214.670971 \nL 49.790509 214.608771 \nL 52.84944 214.729189 \nL 55.908371 214.756364 \nL 57.437837 214.447418 \nL 58.967302 213.730633 \nL 60.496768 213.530675 \nL 62.026233 212.966443 \nL 63.555699 213.675657 \nL 66.61463 214.099539 \nL 68.144095 213.597352 \nL 69.673561 214.051639 \nL 71.203026 212.084959 \nL 72.732492 213.665329 \nL 74.261958 213.454899 \nL 75.791423 213.784661 \nL 77.320889 214.297353 \nL 78.850354 213.819625 \nL 80.37982 214.16071 \nL 81.909285 213.697086 \nL 83.438751 212.710079 \nL 84.968216 213.550381 \nL 86.497682 212.204053 \nL 88.027147 213.326118 \nL 89.556613 213.28397 \nL 91.086078 213.032451 \nL 92.615544 213.046564 \nL 94.145009 213.362404 \nL 95.674475 213.280072 \nL 97.20394 213.952121 \nL 98.733406 213.972901 \nL 100.262871 208.663324 \nL 101.792337 212.263536 \nL 103.321802 212.525721 \nL 104.851268 210.219374 \nL 106.380733 212.095089 \nL 107.910199 211.956576 \nL 109.439664 208.584925 \nL 110.96913 211.997336 \nL 112.498595 212.634742 \nL 114.028061 212.10791 \nL 115.557526 211.728851 \nL 117.086992 210.072852 \nL 118.616457 211.757321 \nL 120.145923 212.768808 \nL 121.675388 212.319182 \nL 123.204854 212.845533 \nL 126.263785 210.646357 \nL 127.79325 211.680878 \nL 129.322716 212.390451 \nL 130.852181 212.461064 \nL 132.381647 212.141197 \nL 133.911112 210.087026 \nL 135.440578 211.547824 \nL 136.970043 212.310177 \nL 138.499509 212.489498 \nL 141.55844 211.294923 \nL 143.087905 211.976658 \nL 144.617371 212.018247 \nL 147.676302 212.247612 \nL 149.205767 211.894219 \nL 150.735233 211.999419 \nL 152.264698 212.448067 \nL 153.794164 212.086918 \nL 155.32363 211.534923 \nL 156.853095 211.954485 \nL 161.441492 211.718408 \nL 162.970957 212.230525 \nL 164.500423 212.545215 \nL 166.029888 212.338982 \nL 167.559354 211.593783 \nL 169.088819 211.570366 \nL 170.618285 211.226166 \nL 172.14775 211.369413 \nL 175.206681 212.057305 \nL 176.736147 210.720971 \nL 178.265612 211.655047 \nL 181.324543 211.555443 \nL 182.854009 210.647986 \nL 184.383474 210.890996 \nL 185.91294 211.693501 \nL 187.442405 211.052191 \nL 188.971871 210.837866 \nL 190.501336 211.877301 \nL 192.030802 211.765857 \nL 193.560267 211.036675 \nL 195.089733 210.871858 \nL 196.619198 210.968312 \nL 198.148664 211.826456 \nL 199.678129 209.690217 \nL 201.207595 211.603663 \nL 202.73706 210.80007 \nL 204.266526 210.720368 \nL 205.795991 211.980367 \nL 207.325457 211.333787 \nL 208.854922 211.374982 \nL 210.384388 211.010935 \nL 211.913853 212.50671 \nL 213.443319 210.01859 \nL 214.972784 210.587009 \nL 216.50225 210.696235 \nL 218.031715 211.098467 \nL 219.561181 211.646758 \nL 221.090646 211.662811 \nL 222.620112 210.531947 \nL 224.149577 210.660024 \nL 225.679043 211.087137 \nL 227.208508 211.14974 \nL 228.737974 211.601881 \nL 231.796905 210.79995 \nL 233.32637 210.633859 \nL 234.855836 210.736121 \nL 236.385302 210.313183 \nL 237.914767 210.335448 \nL 239.444233 210.703156 \nL 240.973698 210.29433 \nL 242.503164 210.862363 \nL 244.032629 210.538731 \nL 245.562095 210.651636 \nL 247.09156 210.606913 \nL 248.621026 211.017892 \nL 250.150491 210.975488 \nL 251.679957 210.712306 \nL 253.209422 211.015716 \nL 254.738888 210.765077 \nL 256.268353 210.070779 \nL 257.797819 211.158517 \nL 260.85675 210.280995 \nL 262.386215 210.806423 \nL 263.915681 210.899192 \nL 265.445146 209.284054 \nL 266.974612 210.837897 \nL 268.504077 209.900074 \nL 270.033543 210.570602 \nL 271.563008 210.622124 \nL 273.092474 207.081468 \nL 274.621939 210.316375 \nL 277.68087 209.751648 \nL 280.739801 209.658607 \nL 282.269267 209.01183 \nL 283.798732 208.106923 \nL 285.328198 209.647015 \nL 286.857663 209.365876 \nL 288.387129 207.726054 \nL 289.916594 209.801018 \nL 291.44606 210.534746 \nL 292.975525 210.804944 \nL 294.504991 210.750398 \nL 296.034456 210.351189 \nL 297.563922 210.132822 \nL 299.093387 210.133877 \nL 300.622853 209.996968 \nL 302.152318 208.560271 \nL 303.681784 210.221143 \nL 305.211249 208.010856 \nL 306.740715 209.569057 \nL 308.27018 210.26543 \nL 309.799646 209.627063 \nL 312.858577 209.719552 \nL 314.388042 209.892187 \nL 315.917508 208.506977 \nL 318.976439 209.650281 \nL 320.505905 209.483783 \nL 322.03537 209.89517 \nL 323.564836 209.5905 \nL 325.094301 209.837897 \nL 326.623767 209.727317 \nL 328.153232 210.013722 \nL 329.682698 209.798803 \nL 331.212163 210.292622 \nL 332.741629 210.114514 \nL 334.271094 210.267823 \nL 335.80056 210.123876 \nL 337.330025 210.255226 \nL 338.859491 209.888057 \nL 340.388956 209.199385 \nL 341.918422 210.162643 \nL 344.977353 210.5874 \nL 346.506818 208.622805 \nL 346.506818 208.622805 \n\" style=\"fill:none;stroke:#348abd;stroke-linecap:square;stroke-width:1.5;\"/>\n   </g>\n   <g id=\"patch_3\">\n    <path d=\"M 26.925 224.64 \nL 26.925 7.2 \n\" style=\"fill:none;stroke:#ffffff;stroke-linecap:square;stroke-linejoin:miter;\"/>\n   </g>\n   <g id=\"patch_4\">\n    <path d=\"M 361.725 224.64 \nL 361.725 7.2 \n\" style=\"fill:none;stroke:#ffffff;stroke-linecap:square;stroke-linejoin:miter;\"/>\n   </g>\n   <g id=\"patch_5\">\n    <path d=\"M 26.925 224.64 \nL 361.725 224.64 \n\" style=\"fill:none;stroke:#ffffff;stroke-linecap:square;stroke-linejoin:miter;\"/>\n   </g>\n   <g id=\"patch_6\">\n    <path d=\"M 26.925 7.2 \nL 361.725 7.2 \n\" style=\"fill:none;stroke:#ffffff;stroke-linecap:square;stroke-linejoin:miter;\"/>\n   </g>\n   <g id=\"legend_1\">\n    <g id=\"patch_7\">\n     <path d=\"M 230.403125 44.55625 \nL 354.725 44.55625 \nQ 356.725 44.55625 356.725 42.55625 \nL 356.725 14.2 \nQ 356.725 12.2 354.725 12.2 \nL 230.403125 12.2 \nQ 228.403125 12.2 228.403125 14.2 \nL 228.403125 42.55625 \nQ 228.403125 44.55625 230.403125 44.55625 \nz\n\" style=\"fill:#e5e5e5;opacity:0.8;stroke:#cccccc;stroke-linejoin:miter;stroke-width:0.5;\"/>\n    </g>\n    <g id=\"line2d_37\">\n     <path d=\"M 232.403125 20.298437 \nL 252.403125 20.298437 \n\" style=\"fill:none;stroke:#e24a33;stroke-linecap:square;stroke-width:1.5;\"/>\n    </g>\n    <g id=\"line2d_38\"/>\n    <g id=\"text_18\">\n     <!-- Generator loss -->\n     <g transform=\"translate(260.403125 23.798437)scale(0.1 -0.1)\">\n      <defs>\n       <path d=\"M 3809 666 \nL 3809 1919 \nL 2778 1919 \nL 2778 2438 \nL 4434 2438 \nL 4434 434 \nQ 4069 175 3628 42 \nQ 3188 -91 2688 -91 \nQ 1594 -91 976 548 \nQ 359 1188 359 2328 \nQ 359 3472 976 4111 \nQ 1594 4750 2688 4750 \nQ 3144 4750 3555 4637 \nQ 3966 4525 4313 4306 \nL 4313 3634 \nQ 3963 3931 3569 4081 \nQ 3175 4231 2741 4231 \nQ 1884 4231 1454 3753 \nQ 1025 3275 1025 2328 \nQ 1025 1384 1454 906 \nQ 1884 428 2741 428 \nQ 3075 428 3337 486 \nQ 3600 544 3809 666 \nz\n\" id=\"DejaVuSans-47\" transform=\"scale(0.015625)\"/>\n       <path d=\"M 3597 1894 \nL 3597 1613 \nL 953 1613 \nQ 991 1019 1311 708 \nQ 1631 397 2203 397 \nQ 2534 397 2845 478 \nQ 3156 559 3463 722 \nL 3463 178 \nQ 3153 47 2828 -22 \nQ 2503 -91 2169 -91 \nQ 1331 -91 842 396 \nQ 353 884 353 1716 \nQ 353 2575 817 3079 \nQ 1281 3584 2069 3584 \nQ 2775 3584 3186 3129 \nQ 3597 2675 3597 1894 \nz\nM 3022 2063 \nQ 3016 2534 2758 2815 \nQ 2500 3097 2075 3097 \nQ 1594 3097 1305 2825 \nQ 1016 2553 972 2059 \nL 3022 2063 \nz\n\" id=\"DejaVuSans-65\" transform=\"scale(0.015625)\"/>\n       <path d=\"M 3513 2113 \nL 3513 0 \nL 2938 0 \nL 2938 2094 \nQ 2938 2591 2744 2837 \nQ 2550 3084 2163 3084 \nQ 1697 3084 1428 2787 \nQ 1159 2491 1159 1978 \nL 1159 0 \nL 581 0 \nL 581 3500 \nL 1159 3500 \nL 1159 2956 \nQ 1366 3272 1645 3428 \nQ 1925 3584 2291 3584 \nQ 2894 3584 3203 3211 \nQ 3513 2838 3513 2113 \nz\n\" id=\"DejaVuSans-6e\" transform=\"scale(0.015625)\"/>\n       <path d=\"M 2631 2963 \nQ 2534 3019 2420 3045 \nQ 2306 3072 2169 3072 \nQ 1681 3072 1420 2755 \nQ 1159 2438 1159 1844 \nL 1159 0 \nL 581 0 \nL 581 3500 \nL 1159 3500 \nL 1159 2956 \nQ 1341 3275 1631 3429 \nQ 1922 3584 2338 3584 \nQ 2397 3584 2469 3576 \nQ 2541 3569 2628 3553 \nL 2631 2963 \nz\n\" id=\"DejaVuSans-72\" transform=\"scale(0.015625)\"/>\n       <path d=\"M 2194 1759 \nQ 1497 1759 1228 1600 \nQ 959 1441 959 1056 \nQ 959 750 1161 570 \nQ 1363 391 1709 391 \nQ 2188 391 2477 730 \nQ 2766 1069 2766 1631 \nL 2766 1759 \nL 2194 1759 \nz\nM 3341 1997 \nL 3341 0 \nL 2766 0 \nL 2766 531 \nQ 2569 213 2275 61 \nQ 1981 -91 1556 -91 \nQ 1019 -91 701 211 \nQ 384 513 384 1019 \nQ 384 1609 779 1909 \nQ 1175 2209 1959 2209 \nL 2766 2209 \nL 2766 2266 \nQ 2766 2663 2505 2880 \nQ 2244 3097 1772 3097 \nQ 1472 3097 1187 3025 \nQ 903 2953 641 2809 \nL 641 3341 \nQ 956 3463 1253 3523 \nQ 1550 3584 1831 3584 \nQ 2591 3584 2966 3190 \nQ 3341 2797 3341 1997 \nz\n\" id=\"DejaVuSans-61\" transform=\"scale(0.015625)\"/>\n       <path d=\"M 1172 4494 \nL 1172 3500 \nL 2356 3500 \nL 2356 3053 \nL 1172 3053 \nL 1172 1153 \nQ 1172 725 1289 603 \nQ 1406 481 1766 481 \nL 2356 481 \nL 2356 0 \nL 1766 0 \nQ 1100 0 847 248 \nQ 594 497 594 1153 \nL 594 3053 \nL 172 3053 \nL 172 3500 \nL 594 3500 \nL 594 4494 \nL 1172 4494 \nz\n\" id=\"DejaVuSans-74\" transform=\"scale(0.015625)\"/>\n       <path d=\"M 1959 3097 \nQ 1497 3097 1228 2736 \nQ 959 2375 959 1747 \nQ 959 1119 1226 758 \nQ 1494 397 1959 397 \nQ 2419 397 2687 759 \nQ 2956 1122 2956 1747 \nQ 2956 2369 2687 2733 \nQ 2419 3097 1959 3097 \nz\nM 1959 3584 \nQ 2709 3584 3137 3096 \nQ 3566 2609 3566 1747 \nQ 3566 888 3137 398 \nQ 2709 -91 1959 -91 \nQ 1206 -91 779 398 \nQ 353 888 353 1747 \nQ 353 2609 779 3096 \nQ 1206 3584 1959 3584 \nz\n\" id=\"DejaVuSans-6f\" transform=\"scale(0.015625)\"/>\n       <path id=\"DejaVuSans-20\" transform=\"scale(0.015625)\"/>\n       <path d=\"M 603 4863 \nL 1178 4863 \nL 1178 0 \nL 603 0 \nL 603 4863 \nz\n\" id=\"DejaVuSans-6c\" transform=\"scale(0.015625)\"/>\n       <path d=\"M 2834 3397 \nL 2834 2853 \nQ 2591 2978 2328 3040 \nQ 2066 3103 1784 3103 \nQ 1356 3103 1142 2972 \nQ 928 2841 928 2578 \nQ 928 2378 1081 2264 \nQ 1234 2150 1697 2047 \nL 1894 2003 \nQ 2506 1872 2764 1633 \nQ 3022 1394 3022 966 \nQ 3022 478 2636 193 \nQ 2250 -91 1575 -91 \nQ 1294 -91 989 -36 \nQ 684 19 347 128 \nL 347 722 \nQ 666 556 975 473 \nQ 1284 391 1588 391 \nQ 1994 391 2212 530 \nQ 2431 669 2431 922 \nQ 2431 1156 2273 1281 \nQ 2116 1406 1581 1522 \nL 1381 1569 \nQ 847 1681 609 1914 \nQ 372 2147 372 2553 \nQ 372 3047 722 3315 \nQ 1072 3584 1716 3584 \nQ 2034 3584 2315 3537 \nQ 2597 3491 2834 3397 \nz\n\" id=\"DejaVuSans-73\" transform=\"scale(0.015625)\"/>\n      </defs>\n      <use xlink:href=\"#DejaVuSans-47\"/>\n      <use x=\"77.490234\" xlink:href=\"#DejaVuSans-65\"/>\n      <use x=\"139.013672\" xlink:href=\"#DejaVuSans-6e\"/>\n      <use x=\"202.392578\" xlink:href=\"#DejaVuSans-65\"/>\n      <use x=\"263.916016\" xlink:href=\"#DejaVuSans-72\"/>\n      <use x=\"305.029297\" xlink:href=\"#DejaVuSans-61\"/>\n      <use x=\"366.308594\" xlink:href=\"#DejaVuSans-74\"/>\n      <use x=\"405.517578\" xlink:href=\"#DejaVuSans-6f\"/>\n      <use x=\"466.699219\" xlink:href=\"#DejaVuSans-72\"/>\n      <use x=\"507.8125\" xlink:href=\"#DejaVuSans-20\"/>\n      <use x=\"539.599609\" xlink:href=\"#DejaVuSans-6c\"/>\n      <use x=\"567.382812\" xlink:href=\"#DejaVuSans-6f\"/>\n      <use x=\"628.564453\" xlink:href=\"#DejaVuSans-73\"/>\n      <use x=\"680.664062\" xlink:href=\"#DejaVuSans-73\"/>\n     </g>\n    </g>\n    <g id=\"line2d_39\">\n     <path d=\"M 232.403125 34.976562 \nL 252.403125 34.976562 \n\" style=\"fill:none;stroke:#348abd;stroke-linecap:square;stroke-width:1.5;\"/>\n    </g>\n    <g id=\"line2d_40\"/>\n    <g id=\"text_19\">\n     <!-- Discriminator Loss -->\n     <g transform=\"translate(260.403125 38.476562)scale(0.1 -0.1)\">\n      <defs>\n       <path d=\"M 1259 4147 \nL 1259 519 \nL 2022 519 \nQ 2988 519 3436 956 \nQ 3884 1394 3884 2338 \nQ 3884 3275 3436 3711 \nQ 2988 4147 2022 4147 \nL 1259 4147 \nz\nM 628 4666 \nL 1925 4666 \nQ 3281 4666 3915 4102 \nQ 4550 3538 4550 2338 \nQ 4550 1131 3912 565 \nQ 3275 0 1925 0 \nL 628 0 \nL 628 4666 \nz\n\" id=\"DejaVuSans-44\" transform=\"scale(0.015625)\"/>\n       <path d=\"M 603 3500 \nL 1178 3500 \nL 1178 0 \nL 603 0 \nL 603 3500 \nz\nM 603 4863 \nL 1178 4863 \nL 1178 4134 \nL 603 4134 \nL 603 4863 \nz\n\" id=\"DejaVuSans-69\" transform=\"scale(0.015625)\"/>\n       <path d=\"M 3122 3366 \nL 3122 2828 \nQ 2878 2963 2633 3030 \nQ 2388 3097 2138 3097 \nQ 1578 3097 1268 2742 \nQ 959 2388 959 1747 \nQ 959 1106 1268 751 \nQ 1578 397 2138 397 \nQ 2388 397 2633 464 \nQ 2878 531 3122 666 \nL 3122 134 \nQ 2881 22 2623 -34 \nQ 2366 -91 2075 -91 \nQ 1284 -91 818 406 \nQ 353 903 353 1747 \nQ 353 2603 823 3093 \nQ 1294 3584 2113 3584 \nQ 2378 3584 2631 3529 \nQ 2884 3475 3122 3366 \nz\n\" id=\"DejaVuSans-63\" transform=\"scale(0.015625)\"/>\n       <path d=\"M 3328 2828 \nQ 3544 3216 3844 3400 \nQ 4144 3584 4550 3584 \nQ 5097 3584 5394 3201 \nQ 5691 2819 5691 2113 \nL 5691 0 \nL 5113 0 \nL 5113 2094 \nQ 5113 2597 4934 2840 \nQ 4756 3084 4391 3084 \nQ 3944 3084 3684 2787 \nQ 3425 2491 3425 1978 \nL 3425 0 \nL 2847 0 \nL 2847 2094 \nQ 2847 2600 2669 2842 \nQ 2491 3084 2119 3084 \nQ 1678 3084 1418 2786 \nQ 1159 2488 1159 1978 \nL 1159 0 \nL 581 0 \nL 581 3500 \nL 1159 3500 \nL 1159 2956 \nQ 1356 3278 1631 3431 \nQ 1906 3584 2284 3584 \nQ 2666 3584 2933 3390 \nQ 3200 3197 3328 2828 \nz\n\" id=\"DejaVuSans-6d\" transform=\"scale(0.015625)\"/>\n       <path d=\"M 628 4666 \nL 1259 4666 \nL 1259 531 \nL 3531 531 \nL 3531 0 \nL 628 0 \nL 628 4666 \nz\n\" id=\"DejaVuSans-4c\" transform=\"scale(0.015625)\"/>\n      </defs>\n      <use xlink:href=\"#DejaVuSans-44\"/>\n      <use x=\"77.001953\" xlink:href=\"#DejaVuSans-69\"/>\n      <use x=\"104.785156\" xlink:href=\"#DejaVuSans-73\"/>\n      <use x=\"156.884766\" xlink:href=\"#DejaVuSans-63\"/>\n      <use x=\"211.865234\" xlink:href=\"#DejaVuSans-72\"/>\n      <use x=\"252.978516\" xlink:href=\"#DejaVuSans-69\"/>\n      <use x=\"280.761719\" xlink:href=\"#DejaVuSans-6d\"/>\n      <use x=\"378.173828\" xlink:href=\"#DejaVuSans-69\"/>\n      <use x=\"405.957031\" xlink:href=\"#DejaVuSans-6e\"/>\n      <use x=\"469.335938\" xlink:href=\"#DejaVuSans-61\"/>\n      <use x=\"530.615234\" xlink:href=\"#DejaVuSans-74\"/>\n      <use x=\"569.824219\" xlink:href=\"#DejaVuSans-6f\"/>\n      <use x=\"631.005859\" xlink:href=\"#DejaVuSans-72\"/>\n      <use x=\"672.119141\" xlink:href=\"#DejaVuSans-20\"/>\n      <use x=\"703.90625\" xlink:href=\"#DejaVuSans-4c\"/>\n      <use x=\"757.869141\" xlink:href=\"#DejaVuSans-6f\"/>\n      <use x=\"819.050781\" xlink:href=\"#DejaVuSans-73\"/>\n      <use x=\"871.150391\" xlink:href=\"#DejaVuSans-73\"/>\n     </g>\n    </g>\n   </g>\n  </g>\n </g>\n <defs>\n  <clipPath id=\"p17d4d85d77\">\n   <rect height=\"217.44\" width=\"334.8\" x=\"26.925\" y=\"7.2\"/>\n  </clipPath>\n </defs>\n</svg>\n",
            "image/png": "[encoded data removed]"
          },
          "metadata": {}
        }
      ]
    },
    {
      "cell_type": "code",
      "metadata": {
        "id": "ZE4GO9YDfash"
      },
      "source": [],
      "execution_count": null,
      "outputs": []
    }
  ]
}