{
  "nbformat": 4,
  "nbformat_minor": 0,
  "metadata": {
    "colab": {
      "name": "Copy of problem_2.ipynb",
      "provenance": [],
      "collapsed_sections": []
    },
    "kernelspec": {
      "name": "python382jvsc74a57bd0a94883f8812057f41bf7c0f7649a41127778eaf25b6b91e0966940eb42cb8f65",
      "display_name": "Python 3.8.2 64-bit ('HW3': virtualenvwrapper)"
    },
    "language_info": {
      "name": "python",
      "version": "3.8.2"
    },
    "accelerator": "GPU",
    "metadata": {
      "interpreter": {
        "hash": "a94883f8812057f41bf7c0f7649a41127778eaf25b6b91e0966940eb42cb8f65"
      }
    },
    "widgets": {
      "application/vnd.jupyter.widget-state+json": {
        "7006d2c1c72f4f8eb576a4eef3b61f5b": {
          "model_module": "@jupyter-widgets/controls",
          "model_name": "HBoxModel",
          "state": {
            "_view_name": "HBoxView",
            "_dom_classes": [],
            "_model_name": "HBoxModel",
            "_view_module": "@jupyter-widgets/controls",
            "_model_module_version": "1.5.0",
            "_view_count": null,
            "_view_module_version": "1.5.0",
            "box_style": "",
            "layout": "IPY_MODEL_52038f499ae64e2995bdfb6e40c0631b",
            "_model_module": "@jupyter-widgets/controls",
            "children": [
              "IPY_MODEL_be5ce289cddd422cbc226972ea6e6ba8",
              "IPY_MODEL_e8ea3e1b7b304b2c9b380399162dfb44"
            ]
          }
        },
        "52038f499ae64e2995bdfb6e40c0631b": {
          "model_module": "@jupyter-widgets/base",
          "model_name": "LayoutModel",
          "state": {
            "_view_name": "LayoutView",
            "grid_template_rows": null,
            "right": null,
            "justify_content": null,
            "_view_module": "@jupyter-widgets/base",
            "overflow": null,
            "_model_module_version": "1.2.0",
            "_view_count": null,
            "flex_flow": null,
            "width": null,
            "min_width": null,
            "border": null,
            "align_items": null,
            "bottom": null,
            "_model_module": "@jupyter-widgets/base",
            "top": null,
            "grid_column": null,
            "overflow_y": null,
            "overflow_x": null,
            "grid_auto_flow": null,
            "grid_area": null,
            "grid_template_columns": null,
            "flex": null,
            "_model_name": "LayoutModel",
            "justify_items": null,
            "grid_row": null,
            "max_height": null,
            "align_content": null,
            "visibility": null,
            "align_self": null,
            "height": null,
            "min_height": null,
            "padding": null,
            "grid_auto_rows": null,
            "grid_gap": null,
            "max_width": null,
            "order": null,
            "_view_module_version": "1.2.0",
            "grid_template_areas": null,
            "object_position": null,
            "object_fit": null,
            "grid_auto_columns": null,
            "margin": null,
            "display": null,
            "left": null
          }
        },
        "be5ce289cddd422cbc226972ea6e6ba8": {
          "model_module": "@jupyter-widgets/controls",
          "model_name": "FloatProgressModel",
          "state": {
            "_view_name": "ProgressView",
            "style": "IPY_MODEL_0f70f25114d2458b87dba905593583c9",
            "_dom_classes": [],
            "description": "",
            "_model_name": "FloatProgressModel",
            "bar_style": "success",
            "max": 26421880,
            "_view_module": "@jupyter-widgets/controls",
            "_model_module_version": "1.5.0",
            "value": 26421880,
            "_view_count": null,
            "_view_module_version": "1.5.0",
            "orientation": "horizontal",
            "min": 0,
            "description_tooltip": null,
            "_model_module": "@jupyter-widgets/controls",
            "layout": "IPY_MODEL_80fad510567f46c98ff41396ac86781b"
          }
        },
        "e8ea3e1b7b304b2c9b380399162dfb44": {
          "model_module": "@jupyter-widgets/controls",
          "model_name": "HTMLModel",
          "state": {
            "_view_name": "HTMLView",
            "style": "IPY_MODEL_6e71f06997e042b0a3d2653063c967d7",
            "_dom_classes": [],
            "description": "",
            "_model_name": "HTMLModel",
            "placeholder": "​",
            "_view_module": "@jupyter-widgets/controls",
            "_model_module_version": "1.5.0",
            "value": " 26422272/? [00:03&lt;00:00, 7955385.68it/s]",
            "_view_count": null,
            "_view_module_version": "1.5.0",
            "description_tooltip": null,
            "_model_module": "@jupyter-widgets/controls",
            "layout": "IPY_MODEL_85055a115e2c4ac68948525ab032411c"
          }
        },
        "0f70f25114d2458b87dba905593583c9": {
          "model_module": "@jupyter-widgets/controls",
          "model_name": "ProgressStyleModel",
          "state": {
            "_view_name": "StyleView",
            "_model_name": "ProgressStyleModel",
            "description_width": "initial",
            "_view_module": "@jupyter-widgets/base",
            "_model_module_version": "1.5.0",
            "_view_count": null,
            "_view_module_version": "1.2.0",
            "bar_color": null,
            "_model_module": "@jupyter-widgets/controls"
          }
        },
        "80fad510567f46c98ff41396ac86781b": {
          "model_module": "@jupyter-widgets/base",
          "model_name": "LayoutModel",
          "state": {
            "_view_name": "LayoutView",
            "grid_template_rows": null,
            "right": null,
            "justify_content": null,
            "_view_module": "@jupyter-widgets/base",
            "overflow": null,
            "_model_module_version": "1.2.0",
            "_view_count": null,
            "flex_flow": null,
            "width": null,
            "min_width": null,
            "border": null,
            "align_items": null,
            "bottom": null,
            "_model_module": "@jupyter-widgets/base",
            "top": null,
            "grid_column": null,
            "overflow_y": null,
            "overflow_x": null,
            "grid_auto_flow": null,
            "grid_area": null,
            "grid_template_columns": null,
            "flex": null,
            "_model_name": "LayoutModel",
            "justify_items": null,
            "grid_row": null,
            "max_height": null,
            "align_content": null,
            "visibility": null,
            "align_self": null,
            "height": null,
            "min_height": null,
            "padding": null,
            "grid_auto_rows": null,
            "grid_gap": null,
            "max_width": null,
            "order": null,
            "_view_module_version": "1.2.0",
            "grid_template_areas": null,
            "object_position": null,
            "object_fit": null,
            "grid_auto_columns": null,
            "margin": null,
            "display": null,
            "left": null
          }
        },
        "6e71f06997e042b0a3d2653063c967d7": {
          "model_module": "@jupyter-widgets/controls",
          "model_name": "DescriptionStyleModel",
          "state": {
            "_view_name": "StyleView",
            "_model_name": "DescriptionStyleModel",
            "description_width": "",
            "_view_module": "@jupyter-widgets/base",
            "_model_module_version": "1.5.0",
            "_view_count": null,
            "_view_module_version": "1.2.0",
            "_model_module": "@jupyter-widgets/controls"
          }
        },
        "85055a115e2c4ac68948525ab032411c": {
          "model_module": "@jupyter-widgets/base",
          "model_name": "LayoutModel",
          "state": {
            "_view_name": "LayoutView",
            "grid_template_rows": null,
            "right": null,
            "justify_content": null,
            "_view_module": "@jupyter-widgets/base",
            "overflow": null,
            "_model_module_version": "1.2.0",
            "_view_count": null,
            "flex_flow": null,
            "width": null,
            "min_width": null,
            "border": null,
            "align_items": null,
            "bottom": null,
            "_model_module": "@jupyter-widgets/base",
            "top": null,
            "grid_column": null,
            "overflow_y": null,
            "overflow_x": null,
            "grid_auto_flow": null,
            "grid_area": null,
            "grid_template_columns": null,
            "flex": null,
            "_model_name": "LayoutModel",
            "justify_items": null,
            "grid_row": null,
            "max_height": null,
            "align_content": null,
            "visibility": null,
            "align_self": null,
            "height": null,
            "min_height": null,
            "padding": null,
            "grid_auto_rows": null,
            "grid_gap": null,
            "max_width": null,
            "order": null,
            "_view_module_version": "1.2.0",
            "grid_template_areas": null,
            "object_position": null,
            "object_fit": null,
            "grid_auto_columns": null,
            "margin": null,
            "display": null,
            "left": null
          }
        },
        "8f35ed731e74412db0e2f2f503f0af6e": {
          "model_module": "@jupyter-widgets/controls",
          "model_name": "HBoxModel",
          "state": {
            "_view_name": "HBoxView",
            "_dom_classes": [],
            "_model_name": "HBoxModel",
            "_view_module": "@jupyter-widgets/controls",
            "_model_module_version": "1.5.0",
            "_view_count": null,
            "_view_module_version": "1.5.0",
            "box_style": "",
            "layout": "IPY_MODEL_1083b678f25d49b4991ace241d199a9a",
            "_model_module": "@jupyter-widgets/controls",
            "children": [
              "IPY_MODEL_744c36f9c9f643369f901d41510edb19",
              "IPY_MODEL_f1c5ff59b5534202bc4f7ca9caf92781"
            ]
          }
        },
        "1083b678f25d49b4991ace241d199a9a": {
          "model_module": "@jupyter-widgets/base",
          "model_name": "LayoutModel",
          "state": {
            "_view_name": "LayoutView",
            "grid_template_rows": null,
            "right": null,
            "justify_content": null,
            "_view_module": "@jupyter-widgets/base",
            "overflow": null,
            "_model_module_version": "1.2.0",
            "_view_count": null,
            "flex_flow": null,
            "width": null,
            "min_width": null,
            "border": null,
            "align_items": null,
            "bottom": null,
            "_model_module": "@jupyter-widgets/base",
            "top": null,
            "grid_column": null,
            "overflow_y": null,
            "overflow_x": null,
            "grid_auto_flow": null,
            "grid_area": null,
            "grid_template_columns": null,
            "flex": null,
            "_model_name": "LayoutModel",
            "justify_items": null,
            "grid_row": null,
            "max_height": null,
            "align_content": null,
            "visibility": null,
            "align_self": null,
            "height": null,
            "min_height": null,
            "padding": null,
            "grid_auto_rows": null,
            "grid_gap": null,
            "max_width": null,
            "order": null,
            "_view_module_version": "1.2.0",
            "grid_template_areas": null,
            "object_position": null,
            "object_fit": null,
            "grid_auto_columns": null,
            "margin": null,
            "display": null,
            "left": null
          }
        },
        "744c36f9c9f643369f901d41510edb19": {
          "model_module": "@jupyter-widgets/controls",
          "model_name": "FloatProgressModel",
          "state": {
            "_view_name": "ProgressView",
            "style": "IPY_MODEL_8279cfd7e42f4150a5f56b95d20a3171",
            "_dom_classes": [],
            "description": "",
            "_model_name": "FloatProgressModel",
            "bar_style": "success",
            "max": 29515,
            "_view_module": "@jupyter-widgets/controls",
            "_model_module_version": "1.5.0",
            "value": 29515,
            "_view_count": null,
            "_view_module_version": "1.5.0",
            "orientation": "horizontal",
            "min": 0,
            "description_tooltip": null,
            "_model_module": "@jupyter-widgets/controls",
            "layout": "IPY_MODEL_fe7ca591e9d84305abd60574532043a4"
          }
        },
        "f1c5ff59b5534202bc4f7ca9caf92781": {
          "model_module": "@jupyter-widgets/controls",
          "model_name": "HTMLModel",
          "state": {
            "_view_name": "HTMLView",
            "style": "IPY_MODEL_afca8d542ae446eeafde29f6e56a2703",
            "_dom_classes": [],
            "description": "",
            "_model_name": "HTMLModel",
            "placeholder": "​",
            "_view_module": "@jupyter-widgets/controls",
            "_model_module_version": "1.5.0",
            "value": " 29696/? [00:00&lt;00:00, 207418.62it/s]",
            "_view_count": null,
            "_view_module_version": "1.5.0",
            "description_tooltip": null,
            "_model_module": "@jupyter-widgets/controls",
            "layout": "IPY_MODEL_ff72d69329fc45978a16b1e08ece7f65"
          }
        },
        "8279cfd7e42f4150a5f56b95d20a3171": {
          "model_module": "@jupyter-widgets/controls",
          "model_name": "ProgressStyleModel",
          "state": {
            "_view_name": "StyleView",
            "_model_name": "ProgressStyleModel",
            "description_width": "initial",
            "_view_module": "@jupyter-widgets/base",
            "_model_module_version": "1.5.0",
            "_view_count": null,
            "_view_module_version": "1.2.0",
            "bar_color": null,
            "_model_module": "@jupyter-widgets/controls"
          }
        },
        "fe7ca591e9d84305abd60574532043a4": {
          "model_module": "@jupyter-widgets/base",
          "model_name": "LayoutModel",
          "state": {
            "_view_name": "LayoutView",
            "grid_template_rows": null,
            "right": null,
            "justify_content": null,
            "_view_module": "@jupyter-widgets/base",
            "overflow": null,
            "_model_module_version": "1.2.0",
            "_view_count": null,
            "flex_flow": null,
            "width": null,
            "min_width": null,
            "border": null,
            "align_items": null,
            "bottom": null,
            "_model_module": "@jupyter-widgets/base",
            "top": null,
            "grid_column": null,
            "overflow_y": null,
            "overflow_x": null,
            "grid_auto_flow": null,
            "grid_area": null,
            "grid_template_columns": null,
            "flex": null,
            "_model_name": "LayoutModel",
            "justify_items": null,
            "grid_row": null,
            "max_height": null,
            "align_content": null,
            "visibility": null,
            "align_self": null,
            "height": null,
            "min_height": null,
            "padding": null,
            "grid_auto_rows": null,
            "grid_gap": null,
            "max_width": null,
            "order": null,
            "_view_module_version": "1.2.0",
            "grid_template_areas": null,
            "object_position": null,
            "object_fit": null,
            "grid_auto_columns": null,
            "margin": null,
            "display": null,
            "left": null
          }
        },
        "afca8d542ae446eeafde29f6e56a2703": {
          "model_module": "@jupyter-widgets/controls",
          "model_name": "DescriptionStyleModel",
          "state": {
            "_view_name": "StyleView",
            "_model_name": "DescriptionStyleModel",
            "description_width": "",
            "_view_module": "@jupyter-widgets/base",
            "_model_module_version": "1.5.0",
            "_view_count": null,
            "_view_module_version": "1.2.0",
            "_model_module": "@jupyter-widgets/controls"
          }
        },
        "ff72d69329fc45978a16b1e08ece7f65": {
          "model_module": "@jupyter-widgets/base",
          "model_name": "LayoutModel",
          "state": {
            "_view_name": "LayoutView",
            "grid_template_rows": null,
            "right": null,
            "justify_content": null,
            "_view_module": "@jupyter-widgets/base",
            "overflow": null,
            "_model_module_version": "1.2.0",
            "_view_count": null,
            "flex_flow": null,
            "width": null,
            "min_width": null,
            "border": null,
            "align_items": null,
            "bottom": null,
            "_model_module": "@jupyter-widgets/base",
            "top": null,
            "grid_column": null,
            "overflow_y": null,
            "overflow_x": null,
            "grid_auto_flow": null,
            "grid_area": null,
            "grid_template_columns": null,
            "flex": null,
            "_model_name": "LayoutModel",
            "justify_items": null,
            "grid_row": null,
            "max_height": null,
            "align_content": null,
            "visibility": null,
            "align_self": null,
            "height": null,
            "min_height": null,
            "padding": null,
            "grid_auto_rows": null,
            "grid_gap": null,
            "max_width": null,
            "order": null,
            "_view_module_version": "1.2.0",
            "grid_template_areas": null,
            "object_position": null,
            "object_fit": null,
            "grid_auto_columns": null,
            "margin": null,
            "display": null,
            "left": null
          }
        },
        "5bc16ca6c11640878e4ae120bb65310c": {
          "model_module": "@jupyter-widgets/controls",
          "model_name": "HBoxModel",
          "state": {
            "_view_name": "HBoxView",
            "_dom_classes": [],
            "_model_name": "HBoxModel",
            "_view_module": "@jupyter-widgets/controls",
            "_model_module_version": "1.5.0",
            "_view_count": null,
            "_view_module_version": "1.5.0",
            "box_style": "",
            "layout": "IPY_MODEL_b79dd789ae8e45f68f49b45df13321b1",
            "_model_module": "@jupyter-widgets/controls",
            "children": [
              "IPY_MODEL_bb5e5434154e4ea8b0a3f674255d5d7b",
              "IPY_MODEL_ccac1c8c7bb14cfd832ca6062f672387"
            ]
          }
        },
        "b79dd789ae8e45f68f49b45df13321b1": {
          "model_module": "@jupyter-widgets/base",
          "model_name": "LayoutModel",
          "state": {
            "_view_name": "LayoutView",
            "grid_template_rows": null,
            "right": null,
            "justify_content": null,
            "_view_module": "@jupyter-widgets/base",
            "overflow": null,
            "_model_module_version": "1.2.0",
            "_view_count": null,
            "flex_flow": null,
            "width": null,
            "min_width": null,
            "border": null,
            "align_items": null,
            "bottom": null,
            "_model_module": "@jupyter-widgets/base",
            "top": null,
            "grid_column": null,
            "overflow_y": null,
            "overflow_x": null,
            "grid_auto_flow": null,
            "grid_area": null,
            "grid_template_columns": null,
            "flex": null,
            "_model_name": "LayoutModel",
            "justify_items": null,
            "grid_row": null,
            "max_height": null,
            "align_content": null,
            "visibility": null,
            "align_self": null,
            "height": null,
            "min_height": null,
            "padding": null,
            "grid_auto_rows": null,
            "grid_gap": null,
            "max_width": null,
            "order": null,
            "_view_module_version": "1.2.0",
            "grid_template_areas": null,
            "object_position": null,
            "object_fit": null,
            "grid_auto_columns": null,
            "margin": null,
            "display": null,
            "left": null
          }
        },
        "bb5e5434154e4ea8b0a3f674255d5d7b": {
          "model_module": "@jupyter-widgets/controls",
          "model_name": "FloatProgressModel",
          "state": {
            "_view_name": "ProgressView",
            "style": "IPY_MODEL_dc9b7cf726174d03b68549602d4b28b9",
            "_dom_classes": [],
            "description": "",
            "_model_name": "FloatProgressModel",
            "bar_style": "success",
            "max": 4422102,
            "_view_module": "@jupyter-widgets/controls",
            "_model_module_version": "1.5.0",
            "value": 4422102,
            "_view_count": null,
            "_view_module_version": "1.5.0",
            "orientation": "horizontal",
            "min": 0,
            "description_tooltip": null,
            "_model_module": "@jupyter-widgets/controls",
            "layout": "IPY_MODEL_68dec7e9a7174d87a47e3015111b34c5"
          }
        },
        "ccac1c8c7bb14cfd832ca6062f672387": {
          "model_module": "@jupyter-widgets/controls",
          "model_name": "HTMLModel",
          "state": {
            "_view_name": "HTMLView",
            "style": "IPY_MODEL_b63517dff02d46a6bb9165f1842de062",
            "_dom_classes": [],
            "description": "",
            "_model_name": "HTMLModel",
            "placeholder": "​",
            "_view_module": "@jupyter-widgets/controls",
            "_model_module_version": "1.5.0",
            "value": " 4422656/? [00:02&lt;00:00, 2091540.86it/s]",
            "_view_count": null,
            "_view_module_version": "1.5.0",
            "description_tooltip": null,
            "_model_module": "@jupyter-widgets/controls",
            "layout": "IPY_MODEL_dbfd86af8fc64d3e8f88cd6d0c4897e1"
          }
        },
        "dc9b7cf726174d03b68549602d4b28b9": {
          "model_module": "@jupyter-widgets/controls",
          "model_name": "ProgressStyleModel",
          "state": {
            "_view_name": "StyleView",
            "_model_name": "ProgressStyleModel",
            "description_width": "initial",
            "_view_module": "@jupyter-widgets/base",
            "_model_module_version": "1.5.0",
            "_view_count": null,
            "_view_module_version": "1.2.0",
            "bar_color": null,
            "_model_module": "@jupyter-widgets/controls"
          }
        },
        "68dec7e9a7174d87a47e3015111b34c5": {
          "model_module": "@jupyter-widgets/base",
          "model_name": "LayoutModel",
          "state": {
            "_view_name": "LayoutView",
            "grid_template_rows": null,
            "right": null,
            "justify_content": null,
            "_view_module": "@jupyter-widgets/base",
            "overflow": null,
            "_model_module_version": "1.2.0",
            "_view_count": null,
            "flex_flow": null,
            "width": null,
            "min_width": null,
            "border": null,
            "align_items": null,
            "bottom": null,
            "_model_module": "@jupyter-widgets/base",
            "top": null,
            "grid_column": null,
            "overflow_y": null,
            "overflow_x": null,
            "grid_auto_flow": null,
            "grid_area": null,
            "grid_template_columns": null,
            "flex": null,
            "_model_name": "LayoutModel",
            "justify_items": null,
            "grid_row": null,
            "max_height": null,
            "align_content": null,
            "visibility": null,
            "align_self": null,
            "height": null,
            "min_height": null,
            "padding": null,
            "grid_auto_rows": null,
            "grid_gap": null,
            "max_width": null,
            "order": null,
            "_view_module_version": "1.2.0",
            "grid_template_areas": null,
            "object_position": null,
            "object_fit": null,
            "grid_auto_columns": null,
            "margin": null,
            "display": null,
            "left": null
          }
        },
        "b63517dff02d46a6bb9165f1842de062": {
          "model_module": "@jupyter-widgets/controls",
          "model_name": "DescriptionStyleModel",
          "state": {
            "_view_name": "StyleView",
            "_model_name": "DescriptionStyleModel",
            "description_width": "",
            "_view_module": "@jupyter-widgets/base",
            "_model_module_version": "1.5.0",
            "_view_count": null,
            "_view_module_version": "1.2.0",
            "_model_module": "@jupyter-widgets/controls"
          }
        },
        "dbfd86af8fc64d3e8f88cd6d0c4897e1": {
          "model_module": "@jupyter-widgets/base",
          "model_name": "LayoutModel",
          "state": {
            "_view_name": "LayoutView",
            "grid_template_rows": null,
            "right": null,
            "justify_content": null,
            "_view_module": "@jupyter-widgets/base",
            "overflow": null,
            "_model_module_version": "1.2.0",
            "_view_count": null,
            "flex_flow": null,
            "width": null,
            "min_width": null,
            "border": null,
            "align_items": null,
            "bottom": null,
            "_model_module": "@jupyter-widgets/base",
            "top": null,
            "grid_column": null,
            "overflow_y": null,
            "overflow_x": null,
            "grid_auto_flow": null,
            "grid_area": null,
            "grid_template_columns": null,
            "flex": null,
            "_model_name": "LayoutModel",
            "justify_items": null,
            "grid_row": null,
            "max_height": null,
            "align_content": null,
            "visibility": null,
            "align_self": null,
            "height": null,
            "min_height": null,
            "padding": null,
            "grid_auto_rows": null,
            "grid_gap": null,
            "max_width": null,
            "order": null,
            "_view_module_version": "1.2.0",
            "grid_template_areas": null,
            "object_position": null,
            "object_fit": null,
            "grid_auto_columns": null,
            "margin": null,
            "display": null,
            "left": null
          }
        },
        "eb2b5ee0b77342a1b4cd9fa10182b7ef": {
          "model_module": "@jupyter-widgets/controls",
          "model_name": "HBoxModel",
          "state": {
            "_view_name": "HBoxView",
            "_dom_classes": [],
            "_model_name": "HBoxModel",
            "_view_module": "@jupyter-widgets/controls",
            "_model_module_version": "1.5.0",
            "_view_count": null,
            "_view_module_version": "1.5.0",
            "box_style": "",
            "layout": "IPY_MODEL_75bc0f4d32234c6ba9abe0153c333a86",
            "_model_module": "@jupyter-widgets/controls",
            "children": [
              "IPY_MODEL_a319c106a68f4ffe92e6e284de173c0f",
              "IPY_MODEL_1c61c056546f4a59972d74a29bd4d066"
            ]
          }
        },
        "75bc0f4d32234c6ba9abe0153c333a86": {
          "model_module": "@jupyter-widgets/base",
          "model_name": "LayoutModel",
          "state": {
            "_view_name": "LayoutView",
            "grid_template_rows": null,
            "right": null,
            "justify_content": null,
            "_view_module": "@jupyter-widgets/base",
            "overflow": null,
            "_model_module_version": "1.2.0",
            "_view_count": null,
            "flex_flow": null,
            "width": null,
            "min_width": null,
            "border": null,
            "align_items": null,
            "bottom": null,
            "_model_module": "@jupyter-widgets/base",
            "top": null,
            "grid_column": null,
            "overflow_y": null,
            "overflow_x": null,
            "grid_auto_flow": null,
            "grid_area": null,
            "grid_template_columns": null,
            "flex": null,
            "_model_name": "LayoutModel",
            "justify_items": null,
            "grid_row": null,
            "max_height": null,
            "align_content": null,
            "visibility": null,
            "align_self": null,
            "height": null,
            "min_height": null,
            "padding": null,
            "grid_auto_rows": null,
            "grid_gap": null,
            "max_width": null,
            "order": null,
            "_view_module_version": "1.2.0",
            "grid_template_areas": null,
            "object_position": null,
            "object_fit": null,
            "grid_auto_columns": null,
            "margin": null,
            "display": null,
            "left": null
          }
        },
        "a319c106a68f4ffe92e6e284de173c0f": {
          "model_module": "@jupyter-widgets/controls",
          "model_name": "FloatProgressModel",
          "state": {
            "_view_name": "ProgressView",
            "style": "IPY_MODEL_a3177a7d54b541a69e8d103555144422",
            "_dom_classes": [],
            "description": "",
            "_model_name": "FloatProgressModel",
            "bar_style": "success",
            "max": 5148,
            "_view_module": "@jupyter-widgets/controls",
            "_model_module_version": "1.5.0",
            "value": 5148,
            "_view_count": null,
            "_view_module_version": "1.5.0",
            "orientation": "horizontal",
            "min": 0,
            "description_tooltip": null,
            "_model_module": "@jupyter-widgets/controls",
            "layout": "IPY_MODEL_8d17f7159bd34ba9bc0a915f776a2549"
          }
        },
        "1c61c056546f4a59972d74a29bd4d066": {
          "model_module": "@jupyter-widgets/controls",
          "model_name": "HTMLModel",
          "state": {
            "_view_name": "HTMLView",
            "style": "IPY_MODEL_f19c40562313415faef45999fc80c2e6",
            "_dom_classes": [],
            "description": "",
            "_model_name": "HTMLModel",
            "placeholder": "​",
            "_view_module": "@jupyter-widgets/controls",
            "_model_module_version": "1.5.0",
            "value": " 6144/? [00:00&lt;00:00, 24395.05it/s]",
            "_view_count": null,
            "_view_module_version": "1.5.0",
            "description_tooltip": null,
            "_model_module": "@jupyter-widgets/controls",
            "layout": "IPY_MODEL_4832549715bb47cb9e02ade03dd525c1"
          }
        },
        "a3177a7d54b541a69e8d103555144422": {
          "model_module": "@jupyter-widgets/controls",
          "model_name": "ProgressStyleModel",
          "state": {
            "_view_name": "StyleView",
            "_model_name": "ProgressStyleModel",
            "description_width": "initial",
            "_view_module": "@jupyter-widgets/base",
            "_model_module_version": "1.5.0",
            "_view_count": null,
            "_view_module_version": "1.2.0",
            "bar_color": null,
            "_model_module": "@jupyter-widgets/controls"
          }
        },
        "8d17f7159bd34ba9bc0a915f776a2549": {
          "model_module": "@jupyter-widgets/base",
          "model_name": "LayoutModel",
          "state": {
            "_view_name": "LayoutView",
            "grid_template_rows": null,
            "right": null,
            "justify_content": null,
            "_view_module": "@jupyter-widgets/base",
            "overflow": null,
            "_model_module_version": "1.2.0",
            "_view_count": null,
            "flex_flow": null,
            "width": null,
            "min_width": null,
            "border": null,
            "align_items": null,
            "bottom": null,
            "_model_module": "@jupyter-widgets/base",
            "top": null,
            "grid_column": null,
            "overflow_y": null,
            "overflow_x": null,
            "grid_auto_flow": null,
            "grid_area": null,
            "grid_template_columns": null,
            "flex": null,
            "_model_name": "LayoutModel",
            "justify_items": null,
            "grid_row": null,
            "max_height": null,
            "align_content": null,
            "visibility": null,
            "align_self": null,
            "height": null,
            "min_height": null,
            "padding": null,
            "grid_auto_rows": null,
            "grid_gap": null,
            "max_width": null,
            "order": null,
            "_view_module_version": "1.2.0",
            "grid_template_areas": null,
            "object_position": null,
            "object_fit": null,
            "grid_auto_columns": null,
            "margin": null,
            "display": null,
            "left": null
          }
        },
        "f19c40562313415faef45999fc80c2e6": {
          "model_module": "@jupyter-widgets/controls",
          "model_name": "DescriptionStyleModel",
          "state": {
            "_view_name": "StyleView",
            "_model_name": "DescriptionStyleModel",
            "description_width": "",
            "_view_module": "@jupyter-widgets/base",
            "_model_module_version": "1.5.0",
            "_view_count": null,
            "_view_module_version": "1.2.0",
            "_model_module": "@jupyter-widgets/controls"
          }
        },
        "4832549715bb47cb9e02ade03dd525c1": {
          "model_module": "@jupyter-widgets/base",
          "model_name": "LayoutModel",
          "state": {
            "_view_name": "LayoutView",
            "grid_template_rows": null,
            "right": null,
            "justify_content": null,
            "_view_module": "@jupyter-widgets/base",
            "overflow": null,
            "_model_module_version": "1.2.0",
            "_view_count": null,
            "flex_flow": null,
            "width": null,
            "min_width": null,
            "border": null,
            "align_items": null,
            "bottom": null,
            "_model_module": "@jupyter-widgets/base",
            "top": null,
            "grid_column": null,
            "overflow_y": null,
            "overflow_x": null,
            "grid_auto_flow": null,
            "grid_area": null,
            "grid_template_columns": null,
            "flex": null,
            "_model_name": "LayoutModel",
            "justify_items": null,
            "grid_row": null,
            "max_height": null,
            "align_content": null,
            "visibility": null,
            "align_self": null,
            "height": null,
            "min_height": null,
            "padding": null,
            "grid_auto_rows": null,
            "grid_gap": null,
            "max_width": null,
            "order": null,
            "_view_module_version": "1.2.0",
            "grid_template_areas": null,
            "object_position": null,
            "object_fit": null,
            "grid_auto_columns": null,
            "margin": null,
            "display": null,
            "left": null
          }
        }
      }
    }
  },
  "cells": [
    {
      "cell_type": "code",
      "metadata": {
        "colab": {
          "base_uri": "https://localhost:8080/"
        },
        "id": "1t3QWTo82IWJ",
        "outputId": "bfbd0802-cb94-4cd2-8dbc-c7eebc4ab589"
      },
      "source": [
        "from google.colab import drive\n",
        "drive.mount('/content/drive')"
      ],
      "execution_count": 13,
      "outputs": [
        {
          "output_type": "stream",
          "text": [
            "Drive already mounted at /content/drive; to attempt to forcibly remount, call drive.mount(\"/content/drive\", force_remount=True).\n"
          ],
          "name": "stdout"
        }
      ]
    },
    {
      "cell_type": "code",
      "metadata": {
        "id": "NxMVkEcI2k4u"
      },
      "source": [
        "import numpy as np\n",
        "import pandas as pd\n",
        "import torch\n",
        "import torchvision as tv\n",
        "import re\n",
        "import time\n",
        "from torch.utils.data import DataLoader, TensorDataset\n",
        "from torch.nn import Module, GRU, Embedding, Linear, Sigmoid, CrossEntropyLoss, ReLU, Tanh, Sequential\n",
        "from torch import nn\n",
        "from torchvision import transforms\n",
        "import torch.optim as optim\n",
        "from torchvision.utils import make_grid, save_image\n",
        "from tqdm import tqdm\n",
        "import torch\n",
        "import torch.nn as nn\n",
        "import torchvision.transforms as transforms\n",
        "import torch.optim as optim\n",
        "import torchvision.datasets as datasets\n",
        "import imageio\n",
        "import numpy as np\n",
        "import matplotlib\n",
        "from torchvision.utils import make_grid, save_image\n",
        "from torch.utils.data import DataLoader\n",
        "from matplotlib import pyplot as plt\n",
        "from tqdm import tqdm\n",
        "matplotlib.style.use('ggplot')"
      ],
      "execution_count": 2,
      "outputs": []
    },
    {
      "cell_type": "code",
      "metadata": {
        "id": "gGIf8C6GB7-5"
      },
      "source": [
        "# learning parameters\n",
        "batch_size = 512\n",
        "epochs = 200\n",
        "sample_size = 64 # fixed sample size\n",
        "nz = 128 # latent vector size\n",
        "k = 1 # number of steps to apply to the discriminator\n",
        "device = torch.device('cuda' if torch.cuda.is_available() else 'cpu')"
      ],
      "execution_count": 3,
      "outputs": []
    },
    {
      "cell_type": "code",
      "metadata": {
        "id": "5ldDzsOLBPMJ"
      },
      "source": [
        "transform = transforms.Compose([\n",
        "                                transforms.ToTensor(),\n",
        "                                transforms.Normalize((0.5,),(0.5,)),\n",
        "])\n",
        "to_pil_image = transforms.ToPILImage()"
      ],
      "execution_count": 4,
      "outputs": []
    },
    {
      "cell_type": "code",
      "metadata": {
        "id": "KmNXt6n12wRu",
        "colab": {
          "base_uri": "https://localhost:8080/",
          "height": 579,
          "referenced_widgets": [
            "7006d2c1c72f4f8eb576a4eef3b61f5b",
            "52038f499ae64e2995bdfb6e40c0631b",
            "be5ce289cddd422cbc226972ea6e6ba8",
            "e8ea3e1b7b304b2c9b380399162dfb44",
            "0f70f25114d2458b87dba905593583c9",
            "80fad510567f46c98ff41396ac86781b",
            "6e71f06997e042b0a3d2653063c967d7",
            "85055a115e2c4ac68948525ab032411c",
            "8f35ed731e74412db0e2f2f503f0af6e",
            "1083b678f25d49b4991ace241d199a9a",
            "744c36f9c9f643369f901d41510edb19",
            "f1c5ff59b5534202bc4f7ca9caf92781",
            "8279cfd7e42f4150a5f56b95d20a3171",
            "fe7ca591e9d84305abd60574532043a4",
            "afca8d542ae446eeafde29f6e56a2703",
            "ff72d69329fc45978a16b1e08ece7f65",
            "5bc16ca6c11640878e4ae120bb65310c",
            "b79dd789ae8e45f68f49b45df13321b1",
            "bb5e5434154e4ea8b0a3f674255d5d7b",
            "ccac1c8c7bb14cfd832ca6062f672387",
            "dc9b7cf726174d03b68549602d4b28b9",
            "68dec7e9a7174d87a47e3015111b34c5",
            "b63517dff02d46a6bb9165f1842de062",
            "dbfd86af8fc64d3e8f88cd6d0c4897e1",
            "eb2b5ee0b77342a1b4cd9fa10182b7ef",
            "75bc0f4d32234c6ba9abe0153c333a86",
            "a319c106a68f4ffe92e6e284de173c0f",
            "1c61c056546f4a59972d74a29bd4d066",
            "a3177a7d54b541a69e8d103555144422",
            "8d17f7159bd34ba9bc0a915f776a2549",
            "f19c40562313415faef45999fc80c2e6",
            "4832549715bb47cb9e02ade03dd525c1"
          ]
        },
        "outputId": "35abd7a4-ecc5-4386-9434-5f8d685d8e60"
      },
      "source": [
        "fmnist = datasets.FashionMNIST(root='./', train=True, download=True, transform=transform)\n",
        "data_loader = DataLoader(fmnist, batch_size=batch_size, shuffle=True)"
      ],
      "execution_count": 5,
      "outputs": [
        {
          "output_type": "stream",
          "text": [
            "Downloading http://fashion-mnist.s3-website.eu-central-1.amazonaws.com/train-images-idx3-ubyte.gz\n",
            "Downloading http://fashion-mnist.s3-website.eu-central-1.amazonaws.com/train-images-idx3-ubyte.gz to ./FashionMNIST/raw/train-images-idx3-ubyte.gz\n"
          ],
          "name": "stdout"
        },
        {
          "output_type": "display_data",
          "data": {
            "application/vnd.jupyter.widget-view+json": {
              "model_id": "7006d2c1c72f4f8eb576a4eef3b61f5b",
              "version_minor": 0,
              "version_major": 2
            },
            "text/plain": [
              "HBox(children=(FloatProgress(value=0.0, max=26421880.0), HTML(value='')))"
            ]
          },
          "metadata": {
            "tags": []
          }
        },
        {
          "output_type": "stream",
          "text": [
            "\n",
            "Extracting ./FashionMNIST/raw/train-images-idx3-ubyte.gz to ./FashionMNIST/raw\n",
            "\n",
            "Downloading http://fashion-mnist.s3-website.eu-central-1.amazonaws.com/train-labels-idx1-ubyte.gz\n",
            "Downloading http://fashion-mnist.s3-website.eu-central-1.amazonaws.com/train-labels-idx1-ubyte.gz to ./FashionMNIST/raw/train-labels-idx1-ubyte.gz\n"
          ],
          "name": "stdout"
        },
        {
          "output_type": "display_data",
          "data": {
            "application/vnd.jupyter.widget-view+json": {
              "model_id": "8f35ed731e74412db0e2f2f503f0af6e",
              "version_minor": 0,
              "version_major": 2
            },
            "text/plain": [
              "HBox(children=(FloatProgress(value=0.0, max=29515.0), HTML(value='')))"
            ]
          },
          "metadata": {
            "tags": []
          }
        },
        {
          "output_type": "stream",
          "text": [
            "\n",
            "Extracting ./FashionMNIST/raw/train-labels-idx1-ubyte.gz to ./FashionMNIST/raw\n",
            "\n",
            "Downloading http://fashion-mnist.s3-website.eu-central-1.amazonaws.com/t10k-images-idx3-ubyte.gz\n",
            "Downloading http://fashion-mnist.s3-website.eu-central-1.amazonaws.com/t10k-images-idx3-ubyte.gz to ./FashionMNIST/raw/t10k-images-idx3-ubyte.gz\n"
          ],
          "name": "stdout"
        },
        {
          "output_type": "display_data",
          "data": {
            "application/vnd.jupyter.widget-view+json": {
              "model_id": "5bc16ca6c11640878e4ae120bb65310c",
              "version_minor": 0,
              "version_major": 2
            },
            "text/plain": [
              "HBox(children=(FloatProgress(value=0.0, max=4422102.0), HTML(value='')))"
            ]
          },
          "metadata": {
            "tags": []
          }
        },
        {
          "output_type": "stream",
          "text": [
            "\n",
            "Extracting ./FashionMNIST/raw/t10k-images-idx3-ubyte.gz to ./FashionMNIST/raw\n",
            "\n",
            "Downloading http://fashion-mnist.s3-website.eu-central-1.amazonaws.com/t10k-labels-idx1-ubyte.gz\n",
            "Downloading http://fashion-mnist.s3-website.eu-central-1.amazonaws.com/t10k-labels-idx1-ubyte.gz to ./FashionMNIST/raw/t10k-labels-idx1-ubyte.gz\n"
          ],
          "name": "stdout"
        },
        {
          "output_type": "display_data",
          "data": {
            "application/vnd.jupyter.widget-view+json": {
              "model_id": "eb2b5ee0b77342a1b4cd9fa10182b7ef",
              "version_minor": 0,
              "version_major": 2
            },
            "text/plain": [
              "HBox(children=(FloatProgress(value=0.0, max=5148.0), HTML(value='')))"
            ]
          },
          "metadata": {
            "tags": []
          }
        },
        {
          "output_type": "stream",
          "text": [
            "\n",
            "Extracting ./FashionMNIST/raw/t10k-labels-idx1-ubyte.gz to ./FashionMNIST/raw\n",
            "\n",
            "Processing...\n",
            "Done!\n"
          ],
          "name": "stdout"
        },
        {
          "output_type": "stream",
          "text": [
            "/usr/local/lib/python3.7/dist-packages/torchvision/datasets/mnist.py:502: UserWarning: The given NumPy array is not writeable, and PyTorch does not support non-writeable tensors. This means you can write to the underlying (supposedly non-writeable) NumPy array using the tensor. You may want to copy the array to protect its data or make it writeable before converting it to a tensor. This type of warning will be suppressed for the rest of this program. (Triggered internally at  /pytorch/torch/csrc/utils/tensor_numpy.cpp:143.)\n",
            "  return torch.from_numpy(parsed.astype(m[2], copy=False)).view(*s)\n"
          ],
          "name": "stderr"
        }
      ]
    },
    {
      "cell_type": "code",
      "metadata": {
        "id": "peaMJAPx4ss5"
      },
      "source": [
        "class Generator(Module):\n",
        "    def __init__(self, nz):\n",
        "        super(Generator, self).__init__()\n",
        "        self.nz = nz\n",
        "        self.main = Sequential(\n",
        "            Linear(self.nz, 256),\n",
        "            ReLU(),\n",
        "\n",
        "            Linear(256, 512),\n",
        "            ReLU(),\n",
        "\n",
        "            Linear(512, 784),\n",
        "            Tanh(),\n",
        "        )\n",
        "\n",
        "    def forward(self, x):\n",
        "        return self.main(x).view(-1, 1, 28, 28)\n"
      ],
      "execution_count": 6,
      "outputs": []
    },
    {
      "cell_type": "code",
      "metadata": {
        "id": "1oJcazUH8iDS"
      },
      "source": [
        "class Discriminator(Module):\n",
        "    def __init__(self):\n",
        "        super(Discriminator, self).__init__()\n",
        "        self.n_input = 784\n",
        "        self.main = Sequential(\n",
        "            Linear(self.n_input, 1024),\n",
        "            ReLU(),\n",
        "            Linear(1024, 512),\n",
        "            ReLU(),\n",
        "            Linear(512, 1),\n",
        "            # nn.Sigmoid(),\n",
        "        )\n",
        "    def forward(self, x):\n",
        "        x = x.view(-1, 784)\n",
        "        return self.main(x)"
      ],
      "execution_count": 7,
      "outputs": []
    },
    {
      "cell_type": "markdown",
      "metadata": {
        "id": "7adj8WbJ9qpH"
      },
      "source": [
        "Initialize the Neural Networks and Define the Optimizers"
      ]
    },
    {
      "cell_type": "code",
      "metadata": {
        "colab": {
          "base_uri": "https://localhost:8080/"
        },
        "id": "p51ZeaQa9Vge",
        "outputId": "5bc5ca6e-9e7c-49be-a836-5565592bdaac"
      },
      "source": [
        "\n",
        "\n",
        "generator = Generator(nz).to(device)\n",
        "discriminator = Discriminator().to(device)\n",
        "print('##### GENERATOR #####')\n",
        "print(generator)\n",
        "print('######################')\n",
        "print('\\n##### DISCRIMINATOR #####')\n",
        "print(discriminator)\n",
        "print('######################')"
      ],
      "execution_count": 8,
      "outputs": [
        {
          "output_type": "stream",
          "text": [
            "##### GENERATOR #####\n",
            "Generator(\n",
            "  (main): Sequential(\n",
            "    (0): Linear(in_features=128, out_features=256, bias=True)\n",
            "    (1): ReLU()\n",
            "    (2): Linear(in_features=256, out_features=512, bias=True)\n",
            "    (3): ReLU()\n",
            "    (4): Linear(in_features=512, out_features=784, bias=True)\n",
            "    (5): Tanh()\n",
            "  )\n",
            ")\n",
            "######################\n",
            "\n",
            "##### DISCRIMINATOR #####\n",
            "Discriminator(\n",
            "  (main): Sequential(\n",
            "    (0): Linear(in_features=784, out_features=1024, bias=True)\n",
            "    (1): ReLU()\n",
            "    (2): Linear(in_features=1024, out_features=512, bias=True)\n",
            "    (3): ReLU()\n",
            "    (4): Linear(in_features=512, out_features=1, bias=True)\n",
            "  )\n",
            ")\n",
            "######################\n"
          ],
          "name": "stdout"
        }
      ]
    },
    {
      "cell_type": "code",
      "metadata": {
        "id": "ZKlcQe_n-bHR"
      },
      "source": [
        "# optimizers\n",
        "optim_g = optim.RMSprop(generator.parameters(), lr=0.0001)\n",
        "optim_d = optim.RMSprop(discriminator.parameters(), lr=0.0001)\n",
        "# optim_g = optim.RMSprop(generator.parameters(), lr=0.0001, weight_decay=0.1)\n",
        "# optim_d = optim.RMSprop(discriminator.parameters(), lr=0.0001, weight_decay=0.1)"
      ],
      "execution_count": 9,
      "outputs": []
    },
    {
      "cell_type": "code",
      "metadata": {
        "id": "rPNn0bai-r8-"
      },
      "source": [
        "# loss function\n",
        "# criterion = nn.BCELoss()\n"
      ],
      "execution_count": 10,
      "outputs": []
    },
    {
      "cell_type": "code",
      "metadata": {
        "id": "g5L3H3nt_Pny"
      },
      "source": [
        "# to create real labels (1s)\n",
        "def label_real(size):\n",
        "    data = torch.ones(size, 1)\n",
        "    return data.to(device)\n",
        "# to create fake labels (0s)\n",
        "def label_fake(size):\n",
        "    data = torch.zeros(size, 1)\n",
        "    return data.to(device)"
      ],
      "execution_count": 10,
      "outputs": []
    },
    {
      "cell_type": "code",
      "metadata": {
        "id": "n0BoEe0__VJf"
      },
      "source": [
        "def create_noise(sample_size, nz):\n",
        "    return torch.randn(sample_size, nz).to(device)"
      ],
      "execution_count": 11,
      "outputs": []
    },
    {
      "cell_type": "code",
      "metadata": {
        "id": "Xu4X0hef_ZV-"
      },
      "source": [
        "# to save the images generated by the generator\n",
        "def save_generator_image(image, path):\n",
        "    save_image(image, path)"
      ],
      "execution_count": 12,
      "outputs": []
    },
    {
      "cell_type": "code",
      "metadata": {
        "id": "f2Qqdkv4_qXO"
      },
      "source": [
        "# function to train the discriminator network\n",
        "def train_discriminator(optimizer, data_real, data_fake):\n",
        "    # b_size = data_real.size(0)\n",
        "    # real_label = label_real(b_size)\n",
        "    # fake_label = label_fake(b_size)\n",
        "    optimizer.zero_grad()\n",
        "    output_real = discriminator(data_real)\n",
        "    # loss_real = criterion(output_real, real_label)\n",
        "    output_fake = discriminator(data_fake)\n",
        "    loss = -(torch.mean(output_real) - torch.mean(output_fake))\n",
        "    # loss_fake = criterion(output_fake, fake_label)\n",
        "    loss.backward()\n",
        "    optimizer.step()\n",
        "    return loss"
      ],
      "execution_count": 13,
      "outputs": []
    },
    {
      "cell_type": "code",
      "metadata": {
        "id": "ANvhtzh1_3eu"
      },
      "source": [
        "# function to train the generator network\n",
        "def train_generator(optimizer, data_fake):\n",
        "    # b_size = data_fake.size(0)\n",
        "    # real_label = label_real(b_size)\n",
        "    optimizer.zero_grad()\n",
        "    output = discriminator(data_fake)\n",
        "    loss = -torch.mean(output)\n",
        "    loss.backward()\n",
        "    optimizer.step()\n",
        "    return loss"
      ],
      "execution_count": 14,
      "outputs": []
    },
    {
      "cell_type": "code",
      "metadata": {
        "colab": {
          "base_uri": "https://localhost:8080/"
        },
        "id": "tT0w5o2-_5k3",
        "outputId": "30805725-5cac-4df7-d369-58396cc094e1"
      },
      "source": [
        "# create the noise vector\n",
        "noise = create_noise(sample_size, nz)\n",
        "generator.train()\n",
        "discriminator.train()"
      ],
      "execution_count": 15,
      "outputs": [
        {
          "output_type": "execute_result",
          "data": {
            "text/plain": [
              "Discriminator(\n",
              "  (main): Sequential(\n",
              "    (0): Linear(in_features=784, out_features=1024, bias=True)\n",
              "    (1): ReLU()\n",
              "    (2): Linear(in_features=1024, out_features=512, bias=True)\n",
              "    (3): ReLU()\n",
              "    (4): Linear(in_features=512, out_features=1, bias=True)\n",
              "  )\n",
              ")"
            ]
          },
          "metadata": {
            "tags": []
          },
          "execution_count": 15
        }
      ]
    },
    {
      "cell_type": "code",
      "metadata": {
        "colab": {
          "base_uri": "https://localhost:8080/"
        },
        "id": "kc2K7_CUAULN",
        "outputId": "917afda9-b992-4137-e331-f443fb034793"
      },
      "source": [
        "losses_g = [] # to store generator loss after each epoch\n",
        "losses_d = [] # to store discriminator loss after each epoch\n",
        "images = [] # to store images generatd by the generator\n",
        "\n",
        "path = \"/content/drive/MyDrive/Deep_Learning/HW3/outputs_wasserstein/\"\n",
        "# path = \"\"\n",
        "epochs = 200\n",
        "c = 0.01\n",
        "# k = 10\n",
        "\n",
        "for epoch in range(epochs):\n",
        "    loss_g = 0.0\n",
        "    loss_d = 0.0\n",
        "    # for bi, data in tqdm(enumerate(data_loader), total=int(len(fmnist)/data_loader.batch_size)):\n",
        "    for bi, data in enumerate(data_loader):\n",
        "        image, _ = data\n",
        "        image = image.to(device)\n",
        "        b_size = len(image)\n",
        "        # run the discriminator for k number of steps\n",
        "        for step in range(k):\n",
        "            # print(create_noise(b_size, nz).shape)\n",
        "            data_fake = generator(create_noise(b_size, nz)).detach()\n",
        "            data_real = image\n",
        "            # train the discriminator network\n",
        "            loss_d += train_discriminator(optim_d, data_real, data_fake)\n",
        "        data_fake = generator(create_noise(b_size, nz))\n",
        "        # train the generator network\n",
        "        loss_g += train_generator(optim_g, data_fake)\n",
        "    # create the final fake image for the epoch\n",
        "    # noise = create_noise(b_size, nz)\n",
        "    generated_img = generator(noise).cpu().detach()\n",
        "    # make the images as grid\n",
        "    generated_img = make_grid(generated_img)\n",
        "    # save the generated torch tensor models to disk\n",
        "    save_generator_image(generated_img, path + f\"gen_img{epoch}.png\")\n",
        "    images.append(generated_img)\n",
        "    epoch_loss_g = loss_g / bi # total generator loss for the epoch\n",
        "    epoch_loss_d = loss_d / bi # total discriminator loss for the epoch\n",
        "    losses_g.append(epoch_loss_g)\n",
        "    losses_d.append(epoch_loss_d)\n",
        "\n",
        "    for p in discriminator.parameters():\n",
        "        p.data.clamp_(-c, c)\n",
        "    \n",
        "    print(f\"Epoch {epoch} of {epochs}\")\n",
        "    print(f\"Generator loss: {epoch_loss_g:.8f}, Discriminator loss: {epoch_loss_d:.8f}\")"
      ],
      "execution_count": null,
      "outputs": [
        {
          "output_type": "stream",
          "text": [
            "Epoch 0 of 200\n",
            "Generator loss: -326.09674072, Discriminator loss: 70.83267975\n",
            "Epoch 1 of 200\n",
            "Generator loss: 106.83279419, Discriminator loss: -89.28650665\n",
            "Epoch 2 of 200\n",
            "Generator loss: -15.39817333, Discriminator loss: -1.63134706\n",
            "Epoch 3 of 200\n",
            "Generator loss: -6.33869553, Discriminator loss: -0.04898592\n",
            "Epoch 4 of 200\n",
            "Generator loss: -2.59076405, Discriminator loss: -6.36768913\n",
            "Epoch 5 of 200\n",
            "Generator loss: -1.97435176, Discriminator loss: 4.57577085\n",
            "Epoch 6 of 200\n",
            "Generator loss: -0.08050862, Discriminator loss: 0.14847884\n",
            "Epoch 7 of 200\n",
            "Generator loss: -0.00042334, Discriminator loss: 0.00491790\n",
            "Epoch 8 of 200\n",
            "Generator loss: -0.00000484, Discriminator loss: -0.00045711\n",
            "Epoch 9 of 200\n",
            "Generator loss: -0.00001360, Discriminator loss: -0.00149240\n",
            "Epoch 10 of 200\n",
            "Generator loss: -0.00007807, Discriminator loss: -0.00673344\n",
            "Epoch 11 of 200\n",
            "Generator loss: -4.75844860, Discriminator loss: -0.99744165\n",
            "Epoch 12 of 200\n",
            "Generator loss: -5.49211121, Discriminator loss: -0.94109958\n",
            "Epoch 13 of 200\n",
            "Generator loss: -0.31266496, Discriminator loss: -2.16053867\n",
            "Epoch 14 of 200\n",
            "Generator loss: -4.59280539, Discriminator loss: -1.19205141\n",
            "Epoch 15 of 200\n",
            "Generator loss: -3.62136579, Discriminator loss: -3.23110342\n",
            "Epoch 16 of 200\n",
            "Generator loss: -0.99513161, Discriminator loss: -1.75654292\n",
            "Epoch 17 of 200\n",
            "Generator loss: -5.33531857, Discriminator loss: -2.31845713\n",
            "Epoch 18 of 200\n",
            "Generator loss: 2.45262694, Discriminator loss: -2.71522260\n",
            "Epoch 19 of 200\n",
            "Generator loss: -5.85914135, Discriminator loss: 1.59340596\n",
            "Epoch 20 of 200\n",
            "Generator loss: -11.87433910, Discriminator loss: -1.91769958\n",
            "Epoch 21 of 200\n",
            "Generator loss: -12.84528923, Discriminator loss: 0.69789958\n",
            "Epoch 22 of 200\n",
            "Generator loss: -1.21057212, Discriminator loss: -6.26750374\n",
            "Epoch 23 of 200\n",
            "Generator loss: -1.57517946, Discriminator loss: -6.36915874\n",
            "Epoch 24 of 200\n",
            "Generator loss: -12.57111168, Discriminator loss: -2.60635543\n",
            "Epoch 25 of 200\n",
            "Generator loss: -3.14398384, Discriminator loss: 1.23007250\n",
            "Epoch 26 of 200\n",
            "Generator loss: -8.46778393, Discriminator loss: 3.40890765\n",
            "Epoch 27 of 200\n",
            "Generator loss: -4.15246916, Discriminator loss: -2.86157918\n",
            "Epoch 28 of 200\n",
            "Generator loss: -0.46377540, Discriminator loss: -2.53363585\n",
            "Epoch 29 of 200\n",
            "Generator loss: -3.63221145, Discriminator loss: -1.27626288\n",
            "Epoch 30 of 200\n",
            "Generator loss: -0.61811244, Discriminator loss: -2.93481612\n",
            "Epoch 31 of 200\n",
            "Generator loss: -0.56564742, Discriminator loss: -1.41361690\n",
            "Epoch 32 of 200\n",
            "Generator loss: -0.33198661, Discriminator loss: -1.55490398\n",
            "Epoch 33 of 200\n",
            "Generator loss: -1.91684020, Discriminator loss: -0.31108007\n",
            "Epoch 34 of 200\n",
            "Generator loss: -1.98857570, Discriminator loss: -0.24929127\n",
            "Epoch 35 of 200\n",
            "Generator loss: -1.42209613, Discriminator loss: -0.29885125\n",
            "Epoch 36 of 200\n",
            "Generator loss: -0.39127949, Discriminator loss: 0.04154904\n",
            "Epoch 37 of 200\n",
            "Generator loss: -0.72851872, Discriminator loss: -0.23723173\n",
            "Epoch 38 of 200\n",
            "Generator loss: -1.00910330, Discriminator loss: -0.86309808\n",
            "Epoch 39 of 200\n",
            "Generator loss: -1.10925424, Discriminator loss: -1.67655706\n",
            "Epoch 40 of 200\n",
            "Generator loss: -5.06886721, Discriminator loss: -1.01299357\n",
            "Epoch 41 of 200\n",
            "Generator loss: -1.37447846, Discriminator loss: -2.74317050\n",
            "Epoch 42 of 200\n",
            "Generator loss: -0.00763860, Discriminator loss: -0.09309443\n",
            "Epoch 43 of 200\n",
            "Generator loss: -0.02882338, Discriminator loss: -0.32212037\n",
            "Epoch 44 of 200\n",
            "Generator loss: -17.22688293, Discriminator loss: -2.05616021\n",
            "Epoch 45 of 200\n",
            "Generator loss: -10.11435604, Discriminator loss: -1.24088717\n",
            "Epoch 46 of 200\n",
            "Generator loss: -0.71176159, Discriminator loss: -2.97150278\n",
            "Epoch 47 of 200\n",
            "Generator loss: -0.38750952, Discriminator loss: -1.11345267\n",
            "Epoch 48 of 200\n",
            "Generator loss: -1.59935057, Discriminator loss: -0.84517556\n",
            "Epoch 49 of 200\n",
            "Generator loss: -0.29750741, Discriminator loss: -1.69288540\n",
            "Epoch 50 of 200\n",
            "Generator loss: -2.16602039, Discriminator loss: -0.81713957\n",
            "Epoch 51 of 200\n",
            "Generator loss: -0.39096630, Discriminator loss: -1.89904988\n",
            "Epoch 52 of 200\n",
            "Generator loss: -5.42432213, Discriminator loss: -2.78064752\n",
            "Epoch 53 of 200\n",
            "Generator loss: -0.39733002, Discriminator loss: -1.17085671\n",
            "Epoch 54 of 200\n",
            "Generator loss: -1.21817958, Discriminator loss: -0.71499985\n",
            "Epoch 55 of 200\n",
            "Generator loss: -0.00549358, Discriminator loss: -0.01933357\n",
            "Epoch 56 of 200\n",
            "Generator loss: -0.03423123, Discriminator loss: -0.11366691\n",
            "Epoch 57 of 200\n",
            "Generator loss: -0.24144860, Discriminator loss: -0.02199357\n",
            "Epoch 58 of 200\n",
            "Generator loss: -0.00002435, Discriminator loss: -0.00324885\n",
            "Epoch 59 of 200\n",
            "Generator loss: -0.00003653, Discriminator loss: -0.00657987\n",
            "Epoch 60 of 200\n",
            "Generator loss: -0.04973255, Discriminator loss: -0.16544792\n",
            "Epoch 61 of 200\n",
            "Generator loss: -3.27922297, Discriminator loss: -1.07928574\n",
            "Epoch 62 of 200\n",
            "Generator loss: -3.14070153, Discriminator loss: -0.05343539\n",
            "Epoch 63 of 200\n",
            "Generator loss: -1.53422379, Discriminator loss: -1.51007771\n",
            "Epoch 64 of 200\n",
            "Generator loss: -0.00016355, Discriminator loss: -0.02936233\n",
            "Epoch 65 of 200\n",
            "Generator loss: -0.00250238, Discriminator loss: -0.10456469\n",
            "Epoch 66 of 200\n",
            "Generator loss: -8.44953346, Discriminator loss: -1.86756217\n",
            "Epoch 67 of 200\n",
            "Generator loss: -13.67242622, Discriminator loss: -2.66863084\n",
            "Epoch 68 of 200\n",
            "Generator loss: -6.19898224, Discriminator loss: -2.42209220\n",
            "Epoch 69 of 200\n",
            "Generator loss: -11.86163139, Discriminator loss: -3.04963207\n",
            "Epoch 70 of 200\n",
            "Generator loss: -2.89267373, Discriminator loss: -2.67817497\n",
            "Epoch 71 of 200\n",
            "Generator loss: -0.06123490, Discriminator loss: -0.22737098\n",
            "Epoch 72 of 200\n",
            "Generator loss: -7.39881325, Discriminator loss: -0.86455154\n",
            "Epoch 73 of 200\n",
            "Generator loss: -12.28504086, Discriminator loss: -10.82815075\n",
            "Epoch 74 of 200\n",
            "Generator loss: -12.04151249, Discriminator loss: 0.39861807\n",
            "Epoch 75 of 200\n",
            "Generator loss: -11.89564419, Discriminator loss: -4.04436111\n",
            "Epoch 76 of 200\n",
            "Generator loss: -4.38356972, Discriminator loss: -2.06240058\n",
            "Epoch 77 of 200\n",
            "Generator loss: -7.37321568, Discriminator loss: -3.41457391\n",
            "Epoch 78 of 200\n",
            "Generator loss: -35.32520294, Discriminator loss: -1.65238118\n",
            "Epoch 79 of 200\n",
            "Generator loss: -7.21976662, Discriminator loss: -5.75035858\n",
            "Epoch 80 of 200\n",
            "Generator loss: -14.57930088, Discriminator loss: -5.52546501\n"
          ],
          "name": "stdout"
        }
      ]
    },
    {
      "cell_type": "code",
      "metadata": {
        "colab": {
          "base_uri": "https://localhost:8080/",
          "height": 53
        },
        "id": "NV1Vtj8JYOla",
        "outputId": "3e16e810-5e3e-4835-e432-9396862bb0e7"
      },
      "source": [
        "print('DONE TRAINING')\n",
        "torch.save(generator.state_dict(), path + 'generator.pth')\n",
        "path"
      ],
      "execution_count": 51,
      "outputs": [
        {
          "output_type": "stream",
          "text": [
            "DONE TRAINING\n"
          ],
          "name": "stdout"
        },
        {
          "output_type": "execute_result",
          "data": {
            "application/vnd.google.colaboratory.intrinsic+json": {
              "type": "string"
            },
            "text/plain": [
              "'/content/drive/MyDrive/Deep_Learning/HW3/outputs_wasserstein/'"
            ]
          },
          "metadata": {
            "tags": []
          },
          "execution_count": 51
        }
      ]
    },
    {
      "cell_type": "code",
      "metadata": {
        "id": "II3WYevue4FW"
      },
      "source": [
        "imgs = [np.array(to_pil_image(img)) for img in images]\n",
        "imageio.mimsave(path + 'generator_images.gif', imgs)"
      ],
      "execution_count": 52,
      "outputs": []
    },
    {
      "cell_type": "code",
      "metadata": {
        "colab": {
          "base_uri": "https://localhost:8080/",
          "height": 265
        },
        "id": "vQTiNztJfVpt",
        "outputId": "7e1bc084-472d-4ee8-8d88-4656869eeb95"
      },
      "source": [
        "plt.figure()\n",
        "plt.plot(losses_g[91:], label='Generator loss')\n",
        "plt.plot(losses_d[91:], label='Discriminator Loss')\n",
        "plt.legend()\n",
        "plt.savefig(path + 'loss.png')"
      ],
      "execution_count": 55,
      "outputs": [
        {
          "output_type": "display_data",
          "data": {
            "image/png": "[encoded data removed]",
            "text/plain": [
              "<Figure size 432x288 with 1 Axes>"
            ]
          },
          "metadata": {
            "tags": []
          }
        }
      ]
    },
    {
      "cell_type": "code",
      "metadata": {
        "id": "ZE4GO9YDfash",
        "colab": {
          "base_uri": "https://localhost:8080/"
        },
        "outputId": "de85ad4b-73b6-4cbf-9129-f84cf96f3e81"
      },
      "source": [
        "len(losses_d)"
      ],
      "execution_count": 54,
      "outputs": [
        {
          "output_type": "execute_result",
          "data": {
            "text/plain": [
              "291"
            ]
          },
          "metadata": {
            "tags": []
          },
          "execution_count": 54
        }
      ]
    }
  ]
}